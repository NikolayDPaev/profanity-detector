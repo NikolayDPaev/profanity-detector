{
 "cells": [
  {
   "cell_type": "code",
   "execution_count": 1,
   "metadata": {},
   "outputs": [],
   "source": [
    "from nltk.tokenize import regexp_tokenize\n",
    "\n",
    "# pattern = r'([0-9]*-?[а-я]+|[a-z]+)' # matches 31-годишния\n",
    "pattern = r'([0-9]+|[а-я]+)'"
   ]
  },
  {
   "cell_type": "code",
   "execution_count": 2,
   "metadata": {},
   "outputs": [],
   "source": [
    "import json\n",
    "\n",
    "with open('data/blitz_articles.json', 'r', encoding=\"utf-8\") as f:\n",
    "    articles = json.load(f)\n",
    "\n",
    "with open('data/dnes_bg_articles.json', 'r', encoding=\"utf-8\") as f:\n",
    "    articles += json.load(f)\n",
    "\n",
    "with open('data/pik_articles.json', 'r', encoding=\"utf-8\") as f:\n",
    "    articles += json.load(f)"
   ]
  },
  {
   "cell_type": "markdown",
   "metadata": {},
   "source": [
    "Sorting the tokens based on frequency"
   ]
  },
  {
   "cell_type": "code",
   "execution_count": 3,
   "metadata": {},
   "outputs": [],
   "source": [
    "from collections import defaultdict\n",
    "dictionary = defaultdict(lambda: 0) # term : tot freq\n",
    "\n",
    "def add_terms_to_dictionary(dictionary, text):\n",
    "    for token in regexp_tokenize(text, pattern):\n",
    "        dictionary[token] += 1\n",
    "\n",
    "for article in articles:\n",
    "    add_terms_to_dictionary(dictionary, article['name'].lower())\n",
    "    add_terms_to_dictionary(dictionary, article['content'].lower())\n",
    "\n",
    "sorted_tokens = sorted(dictionary.items(), key = lambda x: x[1], reverse = True)"
   ]
  },
  {
   "cell_type": "code",
   "execution_count": 4,
   "metadata": {},
   "outputs": [
    {
     "data": {
      "text/plain": [
       "184443"
      ]
     },
     "execution_count": 4,
     "metadata": {},
     "output_type": "execute_result"
    }
   ],
   "source": [
    "len(sorted_tokens)"
   ]
  },
  {
   "cell_type": "markdown",
   "metadata": {},
   "source": [
    "Removing tokens that\n",
    "- are seen only once\n",
    "- has numbers in them\n",
    "- and has length 1 and are not one letter word - ['а', 'и', 'в', 'е', 'у', 'о', 'с', 'й', 'я']"
   ]
  },
  {
   "cell_type": "code",
   "execution_count": 5,
   "metadata": {},
   "outputs": [],
   "source": [
    "sorted_tokens_cleaned = [token\n",
    "                            for token in sorted_tokens\n",
    "                                if token[1] > 1 and\n",
    "                                (len(token[0]) > 1 or token[0] in ['а', 'и', 'в', 'е', 'у', 'о', 'с', 'й', 'я'])]"
   ]
  },
  {
   "cell_type": "code",
   "execution_count": 6,
   "metadata": {},
   "outputs": [
    {
     "data": {
      "text/plain": [
       "112987"
      ]
     },
     "execution_count": 6,
     "metadata": {},
     "output_type": "execute_result"
    }
   ],
   "source": [
    "len(sorted_tokens_cleaned)"
   ]
  },
  {
   "cell_type": "code",
   "execution_count": 7,
   "metadata": {},
   "outputs": [],
   "source": [
    "import codecs\n",
    "\n",
    "json_object = json.dumps(sorted_tokens, indent=4, ensure_ascii=False)\n",
    "with codecs.open(\"data/articles_vocabulary.json\", \"w\", \"utf-8\") as outfile:\n",
    "    outfile.write(json_object)\n",
    "\n",
    "json_object = json.dumps(sorted_tokens_cleaned, indent=4, ensure_ascii=False)\n",
    "with codecs.open(\"data/articles_cleaned_vocabulary.json\", \"w\", \"utf-8\") as outfile:\n",
    "    outfile.write(json_object)"
   ]
  }
 ],
 "metadata": {
  "kernelspec": {
   "display_name": "ir",
   "language": "python",
   "name": "python3"
  },
  "language_info": {
   "codemirror_mode": {
    "name": "ipython",
    "version": 3
   },
   "file_extension": ".py",
   "mimetype": "text/x-python",
   "name": "python",
   "nbconvert_exporter": "python",
   "pygments_lexer": "ipython3",
   "version": "3.11.5"
  }
 },
 "nbformat": 4,
 "nbformat_minor": 2
}
