{
 "cells": [
  {
   "cell_type": "code",
   "execution_count": null,
   "id": "a5bedb8a-cc31-4a62-aee0-88004b0fe12b",
   "metadata": {},
   "outputs": [],
   "source": [
    "import requests\n",
    "from bs4 import BeautifulSoup\n",
    "import time"
   ]
  },
  {
   "cell_type": "code",
   "execution_count": null,
   "id": "c9818a1c-049b-4e64-bd4a-96283c426ceb",
   "metadata": {},
   "outputs": [],
   "source": [
    "def get_comments(soup, comments):\n",
    "    for div in soup.find_all('div', class_='single-comment'):\n",
    "        comment = div.find('p').text.strip()\n",
    "        author = div.find('span', class_='comntr-nm').text\n",
    "\n",
    "        comments.append((comment, author))\n",
    "    return\n",
    "\n",
    "def crawl_pages(base, comments):\n",
    "    visited = set()\n",
    "    stack = [base]\n",
    "    while len(stack) > 0:\n",
    "        time.sleep(0.1) # sleep 100 milliseconds\n",
    "        print(\"-\" , end=\" \")\n",
    "        url = stack.pop()\n",
    "        try:\n",
    "            response = requests.get(url)\n",
    "        except Exception as e:\n",
    "            continue\n",
    "\n",
    "        if response.status_code != 200:\n",
    "            continue\n",
    "\n",
    "        soup = BeautifulSoup(response.content, \"html.parser\")\n",
    "        get_comments(soup, comments)\n",
    "\n",
    "        for link_element in soup.select(\"a[href]\"):\n",
    "            url = link_element['href']\n",
    "            if base in url and url not in visited:\n",
    "                visited.add(url)\n",
    "                stack.append(url)\n",
    "    return"
   ]
  },
  {
   "cell_type": "code",
   "execution_count": null,
   "id": "7280dd92-323d-4034-a6da-ffef70f98d95",
   "metadata": {},
   "outputs": [],
   "source": [
    "comments = []"
   ]
  },
  {
   "cell_type": "code",
   "execution_count": null,
   "id": "56a004b6-48bc-4a80-a068-456a0ca006b2",
   "metadata": {},
   "outputs": [],
   "source": [
    "crawl_pages('https://show.blitz.bg/', comments)\n",
    "len(comments)"
   ]
  },
  {
   "cell_type": "code",
   "execution_count": null,
   "id": "c3018a1f-e563-4ae4-93bf-431898d3a15f",
   "metadata": {},
   "outputs": [],
   "source": [
    "no_duplicates = set(comments)\n",
    "len(no_duplicates)"
   ]
  },
  {
   "cell_type": "code",
   "execution_count": null,
   "id": "877cc26c-a562-4fb3-8a42-da80916e632a",
   "metadata": {},
   "outputs": [],
   "source": [
    "# saving to a file\n",
    "import json\n",
    "import codecs\n",
    "\n",
    "json_object = json.dumps(list(no_duplicates), indent=4, ensure_ascii=False)\n",
    "with codecs.open(\"data/blitz_comments.json\", \"w\", \"utf-8\") as outfile:\n",
    "    outfile.write(json_object)"
   ]
  },
  {
   "cell_type": "code",
   "execution_count": null,
   "id": "538d0b90-cb2d-44d9-acf7-dfe24c53ddf1",
   "metadata": {},
   "outputs": [],
   "source": [
    "# for loading from a file\n",
    "import json\n",
    "\n",
    "comments = []\n",
    "with open('data/blitz_comments.json', 'r', encoding=\"utf-8\") as f:\n",
    "    comments = json.load(f)"
   ]
  },
  {
   "cell_type": "code",
   "execution_count": null,
   "id": "f464d93d-7f40-491b-a62f-348738468513",
   "metadata": {},
   "outputs": [],
   "source": [
    "len(comments)"
   ]
  }
 ],
 "metadata": {
  "kernelspec": {
   "display_name": "Python 3 (ipykernel)",
   "language": "python",
   "name": "python3"
  },
  "language_info": {
   "codemirror_mode": {
    "name": "ipython",
    "version": 3
   },
   "file_extension": ".py",
   "mimetype": "text/x-python",
   "name": "python",
   "nbconvert_exporter": "python",
   "pygments_lexer": "ipython3",
   "version": "3.11.5"
  }
 },
 "nbformat": 4,
 "nbformat_minor": 5
}
