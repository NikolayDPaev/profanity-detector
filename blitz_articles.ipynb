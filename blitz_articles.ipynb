{
 "cells": [
  {
   "cell_type": "code",
   "execution_count": null,
   "metadata": {},
   "outputs": [],
   "source": [
    "import requests\n",
    "from bs4 import BeautifulSoup\n",
    "import time\n",
    "import random\n",
    "\n",
    "random.seed()"
   ]
  },
  {
   "cell_type": "markdown",
   "metadata": {},
   "source": [
    "Scraping web page function"
   ]
  },
  {
   "cell_type": "code",
   "execution_count": null,
   "metadata": {},
   "outputs": [],
   "source": [
    "def get_article(soup, articles):\n",
    "    name = soup.find('div', class_='post-title').find('h1').text\n",
    "\n",
    "    post = soup.find('div', class_='post-text-content')\n",
    "    article = ''\n",
    "    for p in post.find_all('p', recursive=False):\n",
    "        t = p.find(string=True, recursive=False)\n",
    "        if t != None:\n",
    "            article += t.text + '\\n'\n",
    "\n",
    "    comments = []\n",
    "    for div in soup.find_all('div', class_='single-comment'):\n",
    "        comment = div.find('p').text.strip()\n",
    "        author = div.find('span', class_='comntr-nm').text\n",
    "\n",
    "        comments.append({\n",
    "            'comment': comment,\n",
    "            'author': author,\n",
    "        })\n",
    "\n",
    "    articles.append({\n",
    "        'name': name,\n",
    "        'content': article,\n",
    "        'comments': comments\n",
    "    })\n",
    "    return"
   ]
  },
  {
   "cell_type": "markdown",
   "metadata": {},
   "source": [
    "Initialization of crawling variables"
   ]
  },
  {
   "cell_type": "code",
   "execution_count": null,
   "metadata": {},
   "outputs": [],
   "source": [
    "articles = []\n",
    "\n",
    "base = 'https://show.blitz.bg/'\n",
    "stack = [base]\n",
    "visited = set()"
   ]
  },
  {
   "cell_type": "markdown",
   "metadata": {},
   "source": [
    "Crawling"
   ]
  },
  {
   "cell_type": "code",
   "execution_count": null,
   "metadata": {},
   "outputs": [],
   "source": [
    "while len(stack) > 0:\n",
    "    time.sleep(random.randint(0, 50)/100) # sleep random milliseconds\n",
    "    print(\"-\" , end=\" \")\n",
    "    url = stack.pop()\n",
    "    try:\n",
    "        response = requests.get(url)\n",
    "        soup = BeautifulSoup(response.content, \"html.parser\")\n",
    "    except Exception as e:\n",
    "        print(e)\n",
    "        continue\n",
    "\n",
    "    try: get_article(soup, articles)\n",
    "    except Exception as e: pass\n",
    "\n",
    "    for link_element in soup.select(\"a[href]\"):\n",
    "        url = link_element['href']\n",
    "        if base in url and url not in visited:\n",
    "            visited.add(url)\n",
    "            stack.append(url)"
   ]
  },
  {
   "cell_type": "markdown",
   "metadata": {},
   "source": [
    "Saving to file"
   ]
  },
  {
   "cell_type": "code",
   "execution_count": null,
   "metadata": {},
   "outputs": [],
   "source": [
    "import json\n",
    "import codecs\n",
    "\n",
    "json_object = json.dumps(articles, indent=4, ensure_ascii=False)\n",
    "with codecs.open(\"data/blitz_articles_v2.json\", \"w\", \"utf-8\") as outfile:\n",
    "    outfile.write(json_object)"
   ]
  },
  {
   "cell_type": "code",
   "execution_count": null,
   "metadata": {},
   "outputs": [],
   "source": [
    "comments = [comment for article in articles for comment in article['comments']]\n",
    "json_object = json.dumps(comments, indent=4, ensure_ascii=False)\n",
    "with codecs.open(\"data/blitz_comments_v2.json\", \"w\", \"utf-8\") as outfile:\n",
    "    outfile.write(json_object)"
   ]
  }
 ],
 "metadata": {
  "kernelspec": {
   "display_name": "ir",
   "language": "python",
   "name": "python3"
  },
  "language_info": {
   "codemirror_mode": {
    "name": "ipython",
    "version": 3
   },
   "file_extension": ".py",
   "mimetype": "text/x-python",
   "name": "python",
   "nbconvert_exporter": "python",
   "pygments_lexer": "ipython3",
   "version": "3.11.0"
  }
 },
 "nbformat": 4,
 "nbformat_minor": 2
}
