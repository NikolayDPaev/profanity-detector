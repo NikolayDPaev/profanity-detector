{
 "cells": [
  {
   "cell_type": "markdown",
   "metadata": {},
   "source": [
    "## Conversion to Cyrillic"
   ]
  },
  {
   "cell_type": "code",
   "execution_count": 19,
   "metadata": {},
   "outputs": [],
   "source": [
    "import json\n",
    "\n",
    "mapping = []\n",
    "with open('data/mapping.json', 'r', encoding=\"utf-8\") as f:\n",
    "    mapping = json.load(f).items()\n",
    "\n",
    "mapping = sorted(mapping, key = lambda x: x[0], reverse=True)"
   ]
  },
  {
   "cell_type": "code",
   "execution_count": 28,
   "metadata": {},
   "outputs": [],
   "source": [
    "def match(pattern: str, token: str) -> tuple[bool, str]:\n",
    "    m = len(pattern)\n",
    "    n = len(token)\n",
    "    for i, _ in enumerate(token):\n",
    "        if i == m:\n",
    "            break\n",
    "        elif pattern[i] != token[i]:\n",
    "            return (False, token)\n",
    "    return (n >= m, token[m:])\n",
    "\n",
    "def cyrilize(token):\n",
    "    translated = \"\"\n",
    "    while len(token) > 0:\n",
    "        success = False\n",
    "        for (p, m) in mapping:\n",
    "            success, new_token = match(p, token)\n",
    "            if success:\n",
    "                token = new_token\n",
    "                translated += m\n",
    "                break\n",
    "        if not success:\n",
    "            return token\n",
    "    return translated"
   ]
  },
  {
   "cell_type": "markdown",
   "metadata": {},
   "source": [
    "## Tokenization"
   ]
  },
  {
   "cell_type": "code",
   "execution_count": 21,
   "metadata": {},
   "outputs": [],
   "source": [
    "from nltk.tokenize import regexp_tokenize"
   ]
  },
  {
   "cell_type": "code",
   "execution_count": 22,
   "metadata": {},
   "outputs": [],
   "source": [
    "pattern = r'[^\\s,\\.,\\!,\\?]+'\n",
    "\n",
    "def preprocess(comment: str) -> list[str]:\n",
    "    return [cyrilize(token.lower()) for token in regexp_tokenize(comment, pattern)]"
   ]
  },
  {
   "cell_type": "code",
   "execution_count": 29,
   "metadata": {},
   "outputs": [
    {
     "data": {
      "text/plain": [
       "['дядофците',\n",
       " 'гледaй',\n",
       " 'тaм',\n",
       " 'от',\n",
       " '2rata',\n",
       " 'световнa',\n",
       " 'нaборите',\n",
       " 'дето',\n",
       " 'е',\n",
       " 'тaмно',\n",
       " 'в',\n",
       " 'студиото',\n",
       " 'и',\n",
       " 'мирише',\n",
       " 'нa',\n",
       " 'бaби']"
      ]
     },
     "execution_count": 29,
     "metadata": {},
     "output_type": "execute_result"
    }
   ],
   "source": [
    "preprocess(\"dqdofcite gledai tam ot 2rata svetovna naborite deto e tamno v studioto i miri6e na babi\")"
   ]
  }
 ],
 "metadata": {
  "kernelspec": {
   "display_name": "ir",
   "language": "python",
   "name": "python3"
  },
  "language_info": {
   "codemirror_mode": {
    "name": "ipython",
    "version": 3
   },
   "file_extension": ".py",
   "mimetype": "text/x-python",
   "name": "python",
   "nbconvert_exporter": "python",
   "pygments_lexer": "ipython3",
   "version": "3.11.5"
  }
 },
 "nbformat": 4,
 "nbformat_minor": 2
}
