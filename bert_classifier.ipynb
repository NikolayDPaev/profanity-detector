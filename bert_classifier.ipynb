{
 "cells": [
  {
   "cell_type": "code",
   "execution_count": 22,
   "metadata": {},
   "outputs": [],
   "source": [
    "from transformers import (\n",
    "    AutoTokenizer,\n",
    "    DataCollatorForTokenClassification,\n",
    "    AutoModelForTokenClassification,\n",
    "    TrainingArguments,\n",
    "    Trainer\n",
    ")\n",
    "\n",
    "import numpy as np\n",
    "from datasets import Dataset, load_metric\n",
    "import json\n",
    "from preprocessing import preprocess"
   ]
  },
  {
   "cell_type": "code",
   "execution_count": 23,
   "metadata": {},
   "outputs": [],
   "source": [
    "map_labels = {\n",
    "    \"O\": 0,\n",
    "    \"B-PRO\": 1,\n",
    "    \"I-PRO\": 2\n",
    "}\n",
    "label_names = list(map_labels.keys())"
   ]
  },
  {
   "cell_type": "code",
   "execution_count": 24,
   "metadata": {},
   "outputs": [],
   "source": [
    "def map_profanities_to_token_tags(comment_tokens, examples_tokens):\n",
    "    tags = [0 for _ in range(len(comment_tokens))]\n",
    "    for example_tokens in examples_tokens:\n",
    "        for idx in range(len(comment_tokens) - len(example_tokens) + 1):\n",
    "            if comment_tokens[idx: idx + len(example_tokens)] == example_tokens:\n",
    "                tags[idx] = 1\n",
    "                for i in range(idx+1, idx+len(example_tokens)):\n",
    "                    tags[i] = 2\n",
    "    return tags\n",
    "\n",
    "\n",
    "def get_dataset():\n",
    "    with open('data/blitz_comments.json', 'r', encoding=\"utf-8\") as f:\n",
    "        for d in json.load(f):\n",
    "            if 'label' in d:\n",
    "                comment_tokens = preprocess(d['comment'])\n",
    "                yield {\n",
    "                        'tokens': comment_tokens,\n",
    "                        'tags': map_profanities_to_token_tags(comment_tokens, [preprocess(e) for e in d['examples']] if 'examples' in d else [])\n",
    "                    }"
   ]
  },
  {
   "cell_type": "code",
   "execution_count": 25,
   "metadata": {},
   "outputs": [],
   "source": [
    "dataset = Dataset.from_generator(get_dataset).train_test_split(test_size=0.1)"
   ]
  },
  {
   "cell_type": "code",
   "execution_count": 26,
   "metadata": {},
   "outputs": [],
   "source": [
    "tokenizer = AutoTokenizer.from_pretrained(\"usmiva/bert-web-bg\")"
   ]
  },
  {
   "cell_type": "code",
   "execution_count": 27,
   "metadata": {},
   "outputs": [],
   "source": [
    "def tokenize_and_align_labels(examples):\n",
    "    tokenized_inputs = tokenizer(examples['tokens'], truncation=True, is_split_into_words=True)\n",
    "\n",
    "    labels = []\n",
    "    for i, label in enumerate(examples['tags']):\n",
    "        word_ids = tokenized_inputs.word_ids(batch_index=i)  # Map tokens to their respective word.\n",
    "        previous_word_idx = None\n",
    "        label_ids = []\n",
    "        for word_idx in word_ids:  # Set the special tokens to -100.\n",
    "            if word_idx is None:\n",
    "                label_ids.append(-100)\n",
    "            elif word_idx != previous_word_idx:  # Only label the first token of a given word.\n",
    "                label_ids.append(label[word_idx])\n",
    "            else:\n",
    "                label_ids.append(-100)\n",
    "            previous_word_idx = word_idx\n",
    "        labels.append(label_ids)\n",
    "\n",
    "    tokenized_inputs[\"labels\"] = labels\n",
    "    return tokenized_inputs"
   ]
  },
  {
   "cell_type": "code",
   "execution_count": 28,
   "metadata": {},
   "outputs": [
    {
     "data": {
      "application/vnd.jupyter.widget-view+json": {
       "model_id": "ab2b2f8bdbc0408e8776883f979a14e8",
       "version_major": 2,
       "version_minor": 0
      },
      "text/plain": [
       "Map:   0%|          | 0/3631 [00:00<?, ? examples/s]"
      ]
     },
     "metadata": {},
     "output_type": "display_data"
    },
    {
     "name": "stderr",
     "output_type": "stream",
     "text": [
      "Asking to truncate to max_length but no maximum length is provided and the model has no predefined maximum length. Default to no truncation.\n"
     ]
    },
    {
     "data": {
      "application/vnd.jupyter.widget-view+json": {
       "model_id": "ede42faf7d614abf8a68ed476b17e95f",
       "version_major": 2,
       "version_minor": 0
      },
      "text/plain": [
       "Map:   0%|          | 0/404 [00:00<?, ? examples/s]"
      ]
     },
     "metadata": {},
     "output_type": "display_data"
    }
   ],
   "source": [
    "tokenized_dataset = dataset.map(tokenize_and_align_labels, batched=True)"
   ]
  },
  {
   "cell_type": "code",
   "execution_count": 29,
   "metadata": {},
   "outputs": [],
   "source": [
    "data_collator = DataCollatorForTokenClassification(tokenizer=tokenizer)"
   ]
  },
  {
   "cell_type": "code",
   "execution_count": 30,
   "metadata": {},
   "outputs": [
    {
     "name": "stderr",
     "output_type": "stream",
     "text": [
      "Some weights of BertForTokenClassification were not initialized from the model checkpoint at usmiva/bert-web-bg and are newly initialized: ['classifier.bias', 'classifier.weight']\n",
      "You should probably TRAIN this model on a down-stream task to be able to use it for predictions and inference.\n"
     ]
    }
   ],
   "source": [
    "model = AutoModelForTokenClassification.from_pretrained('usmiva/bert-web-bg', num_labels=3)"
   ]
  },
  {
   "cell_type": "code",
   "execution_count": 31,
   "metadata": {},
   "outputs": [
    {
     "name": "stderr",
     "output_type": "stream",
     "text": [
      "c:\\Users\\nikip\\anaconda3\\envs\\tii\\Lib\\site-packages\\datasets\\load.py:752: FutureWarning: The repository for seqeval contains custom code which must be executed to correctly load the metric. You can inspect the repository content at https://raw.githubusercontent.com/huggingface/datasets/2.16.1/metrics/seqeval/seqeval.py\n",
      "You can avoid this message in future by passing the argument `trust_remote_code=True`.\n",
      "Passing `trust_remote_code=True` will be mandatory to load this metric from the next major release of `datasets`.\n",
      "  warnings.warn(\n"
     ]
    }
   ],
   "source": [
    "metric = load_metric(\"seqeval\")\n",
    "def compute_metrics(p):\n",
    "    predictions, labels = p\n",
    "    predictions = np.argmax(predictions, axis=2)\n",
    "\n",
    "    # Remove ignored index (special tokens)\n",
    "    true_predictions = [\n",
    "        [label_names[p] for (p, l) in zip(prediction, label) if l != -100]\n",
    "        for prediction, label in zip(predictions, labels)\n",
    "    ]\n",
    "    true_labels = [\n",
    "        [label_names[l] for (p, l) in zip(prediction, label) if l != -100]\n",
    "        for prediction, label in zip(predictions, labels)\n",
    "    ]\n",
    "\n",
    "    results = metric.compute(predictions=true_predictions, references=true_labels)\n",
    "    flattened_results = {\n",
    "        \"overall_precision\": results[\"overall_precision\"],\n",
    "        \"overall_recall\": results[\"overall_recall\"],\n",
    "        \"overall_f1\": results[\"overall_f1\"],\n",
    "        \"overall_accuracy\": results[\"overall_accuracy\"],\n",
    "    }\n",
    "    for k in results.keys():\n",
    "        if(k not in flattened_results.keys()):\n",
    "            flattened_results[k+\"_f1\"]=results[k][\"f1\"]\n",
    "\n",
    "    return flattened_results"
   ]
  },
  {
   "cell_type": "code",
   "execution_count": 33,
   "metadata": {},
   "outputs": [
    {
     "data": {
      "application/vnd.jupyter.widget-view+json": {
       "model_id": "981b3480afa24ee584f1beb0abef16e6",
       "version_major": 2,
       "version_minor": 0
      },
      "text/plain": [
       "  0%|          | 0/2270 [00:00<?, ?it/s]"
      ]
     },
     "metadata": {},
     "output_type": "display_data"
    },
    {
     "data": {
      "application/vnd.jupyter.widget-view+json": {
       "model_id": "e7cc4d9988a841979b57727907237d88",
       "version_major": 2,
       "version_minor": 0
      },
      "text/plain": [
       "  0%|          | 0/26 [00:00<?, ?it/s]"
      ]
     },
     "metadata": {},
     "output_type": "display_data"
    },
    {
     "name": "stdout",
     "output_type": "stream",
     "text": [
      "{'eval_loss': 0.16461077332496643, 'eval_overall_precision': 0.3858267716535433, 'eval_overall_recall': 0.2300469483568075, 'eval_overall_f1': 0.28823529411764703, 'eval_overall_accuracy': 0.9577172503242543, 'eval_PRO_f1': 0.28823529411764703, 'eval_runtime': 5.712, 'eval_samples_per_second': 70.728, 'eval_steps_per_second': 4.552, 'epoch': 1.0}\n"
     ]
    },
    {
     "data": {
      "application/vnd.jupyter.widget-view+json": {
       "model_id": "35d8250d80274ac595a8c74bb1744e8b",
       "version_major": 2,
       "version_minor": 0
      },
      "text/plain": [
       "  0%|          | 0/26 [00:00<?, ?it/s]"
      ]
     },
     "metadata": {},
     "output_type": "display_data"
    },
    {
     "name": "stdout",
     "output_type": "stream",
     "text": [
      "{'eval_loss': 0.17202037572860718, 'eval_overall_precision': 0.3471502590673575, 'eval_overall_recall': 0.3145539906103286, 'eval_overall_f1': 0.3300492610837439, 'eval_overall_accuracy': 0.9538261997405967, 'eval_PRO_f1': 0.3300492610837439, 'eval_runtime': 5.9247, 'eval_samples_per_second': 68.189, 'eval_steps_per_second': 4.388, 'epoch': 2.0}\n"
     ]
    },
    {
     "name": "stderr",
     "output_type": "stream",
     "text": [
      "Checkpoint destination directory ./data/bert-finetuning\\checkpoint-500 already exists and is non-empty.Saving will proceed but saved results may be invalid.\n"
     ]
    },
    {
     "name": "stdout",
     "output_type": "stream",
     "text": [
      "{'loss': 0.0511, 'learning_rate': 1.5594713656387664e-05, 'epoch': 2.2}\n"
     ]
    },
    {
     "data": {
      "application/vnd.jupyter.widget-view+json": {
       "model_id": "33d096fbbd284cca96489d53d23c64e3",
       "version_major": 2,
       "version_minor": 0
      },
      "text/plain": [
       "  0%|          | 0/26 [00:00<?, ?it/s]"
      ]
     },
     "metadata": {},
     "output_type": "display_data"
    },
    {
     "name": "stdout",
     "output_type": "stream",
     "text": [
      "{'eval_loss': 0.18787802755832672, 'eval_overall_precision': 0.4230769230769231, 'eval_overall_recall': 0.3615023474178404, 'eval_overall_f1': 0.389873417721519, 'eval_overall_accuracy': 0.9583657587548639, 'eval_PRO_f1': 0.389873417721519, 'eval_runtime': 5.1654, 'eval_samples_per_second': 78.213, 'eval_steps_per_second': 5.033, 'epoch': 3.0}\n"
     ]
    },
    {
     "data": {
      "application/vnd.jupyter.widget-view+json": {
       "model_id": "3710558dc1f849f6a1bea00d73728cd3",
       "version_major": 2,
       "version_minor": 0
      },
      "text/plain": [
       "  0%|          | 0/26 [00:00<?, ?it/s]"
      ]
     },
     "metadata": {},
     "output_type": "display_data"
    },
    {
     "name": "stdout",
     "output_type": "stream",
     "text": [
      "{'eval_loss': 0.20336796343326569, 'eval_overall_precision': 0.39325842696629215, 'eval_overall_recall': 0.3286384976525822, 'eval_overall_f1': 0.35805626598465473, 'eval_overall_accuracy': 0.9568093385214008, 'eval_PRO_f1': 0.35805626598465473, 'eval_runtime': 5.9473, 'eval_samples_per_second': 67.93, 'eval_steps_per_second': 4.372, 'epoch': 4.0}\n",
      "{'loss': 0.0286, 'learning_rate': 1.1189427312775332e-05, 'epoch': 4.41}\n"
     ]
    },
    {
     "data": {
      "application/vnd.jupyter.widget-view+json": {
       "model_id": "53464efa7448489bbbab31fb12252c3c",
       "version_major": 2,
       "version_minor": 0
      },
      "text/plain": [
       "  0%|          | 0/26 [00:00<?, ?it/s]"
      ]
     },
     "metadata": {},
     "output_type": "display_data"
    },
    {
     "name": "stdout",
     "output_type": "stream",
     "text": [
      "{'eval_loss': 0.24247276782989502, 'eval_overall_precision': 0.41304347826086957, 'eval_overall_recall': 0.3568075117370892, 'eval_overall_f1': 0.38287153652392947, 'eval_overall_accuracy': 0.9587548638132296, 'eval_PRO_f1': 0.38287153652392947, 'eval_runtime': 5.7282, 'eval_samples_per_second': 70.528, 'eval_steps_per_second': 4.539, 'epoch': 5.0}\n"
     ]
    },
    {
     "data": {
      "application/vnd.jupyter.widget-view+json": {
       "model_id": "4494961da895405cad94a7855dfab9ec",
       "version_major": 2,
       "version_minor": 0
      },
      "text/plain": [
       "  0%|          | 0/26 [00:00<?, ?it/s]"
      ]
     },
     "metadata": {},
     "output_type": "display_data"
    },
    {
     "name": "stdout",
     "output_type": "stream",
     "text": [
      "{'eval_loss': 0.25958701968193054, 'eval_overall_precision': 0.4230769230769231, 'eval_overall_recall': 0.3615023474178404, 'eval_overall_f1': 0.389873417721519, 'eval_overall_accuracy': 0.9600518806744488, 'eval_PRO_f1': 0.389873417721519, 'eval_runtime': 5.2569, 'eval_samples_per_second': 76.851, 'eval_steps_per_second': 4.946, 'epoch': 6.0}\n",
      "{'loss': 0.0123, 'learning_rate': 6.784140969162997e-06, 'epoch': 6.61}\n"
     ]
    },
    {
     "data": {
      "application/vnd.jupyter.widget-view+json": {
       "model_id": "5fc49d88fdfa42e9a9b0f83310247be6",
       "version_major": 2,
       "version_minor": 0
      },
      "text/plain": [
       "  0%|          | 0/26 [00:00<?, ?it/s]"
      ]
     },
     "metadata": {},
     "output_type": "display_data"
    },
    {
     "name": "stdout",
     "output_type": "stream",
     "text": [
      "{'eval_loss': 0.2656710743904114, 'eval_overall_precision': 0.4067796610169492, 'eval_overall_recall': 0.3380281690140845, 'eval_overall_f1': 0.36923076923076925, 'eval_overall_accuracy': 0.9587548638132296, 'eval_PRO_f1': 0.36923076923076925, 'eval_runtime': 5.767, 'eval_samples_per_second': 70.054, 'eval_steps_per_second': 4.508, 'epoch': 7.0}\n"
     ]
    },
    {
     "data": {
      "application/vnd.jupyter.widget-view+json": {
       "model_id": "116851f94df749039f17e2aa6680543e",
       "version_major": 2,
       "version_minor": 0
      },
      "text/plain": [
       "  0%|          | 0/26 [00:00<?, ?it/s]"
      ]
     },
     "metadata": {},
     "output_type": "display_data"
    },
    {
     "name": "stdout",
     "output_type": "stream",
     "text": [
      "{'eval_loss': 0.2697904109954834, 'eval_overall_precision': 0.42424242424242425, 'eval_overall_recall': 0.39436619718309857, 'eval_overall_f1': 0.40875912408759124, 'eval_overall_accuracy': 0.9595330739299611, 'eval_PRO_f1': 0.40875912408759124, 'eval_runtime': 5.7246, 'eval_samples_per_second': 70.572, 'eval_steps_per_second': 4.542, 'epoch': 8.0}\n",
      "{'loss': 0.0056, 'learning_rate': 2.378854625550661e-06, 'epoch': 8.81}\n"
     ]
    },
    {
     "data": {
      "application/vnd.jupyter.widget-view+json": {
       "model_id": "c50884d8b48342fe89d7a9e36f0ca06c",
       "version_major": 2,
       "version_minor": 0
      },
      "text/plain": [
       "  0%|          | 0/26 [00:00<?, ?it/s]"
      ]
     },
     "metadata": {},
     "output_type": "display_data"
    },
    {
     "name": "stdout",
     "output_type": "stream",
     "text": [
      "{'eval_loss': 0.2846177816390991, 'eval_overall_precision': 0.4, 'eval_overall_recall': 0.3474178403755869, 'eval_overall_f1': 0.3718592964824121, 'eval_overall_accuracy': 0.9582360570687419, 'eval_PRO_f1': 0.3718592964824121, 'eval_runtime': 5.746, 'eval_samples_per_second': 70.31, 'eval_steps_per_second': 4.525, 'epoch': 9.0}\n"
     ]
    },
    {
     "data": {
      "application/vnd.jupyter.widget-view+json": {
       "model_id": "67f94c33201e4f5cbb15ffb3efdb2da6",
       "version_major": 2,
       "version_minor": 0
      },
      "text/plain": [
       "  0%|          | 0/26 [00:00<?, ?it/s]"
      ]
     },
     "metadata": {},
     "output_type": "display_data"
    },
    {
     "name": "stdout",
     "output_type": "stream",
     "text": [
      "{'eval_loss': 0.2881735861301422, 'eval_overall_precision': 0.4175824175824176, 'eval_overall_recall': 0.3568075117370892, 'eval_overall_f1': 0.3848101265822785, 'eval_overall_accuracy': 0.9586251621271077, 'eval_PRO_f1': 0.3848101265822785, 'eval_runtime': 5.6679, 'eval_samples_per_second': 71.279, 'eval_steps_per_second': 4.587, 'epoch': 10.0}\n",
      "{'train_runtime': 1213.8069, 'train_samples_per_second': 29.914, 'train_steps_per_second': 1.87, 'train_loss': 0.021882648641317427, 'epoch': 10.0}\n"
     ]
    },
    {
     "data": {
      "text/plain": [
       "TrainOutput(global_step=2270, training_loss=0.021882648641317427, metrics={'train_runtime': 1213.8069, 'train_samples_per_second': 29.914, 'train_steps_per_second': 1.87, 'train_loss': 0.021882648641317427, 'epoch': 10.0})"
      ]
     },
     "execution_count": 33,
     "metadata": {},
     "output_type": "execute_result"
    }
   ],
   "source": [
    "training_args = TrainingArguments(\n",
    "    output_dir=\"./data/bert-finetuning\",\n",
    "    evaluation_strategy=\"epoch\",\n",
    "    learning_rate=2e-5,\n",
    "    per_device_train_batch_size=16,\n",
    "    per_device_eval_batch_size=16,\n",
    "    num_train_epochs=10,\n",
    "    weight_decay=0.01,\n",
    ")\n",
    "\n",
    "trainer = Trainer(\n",
    "    model=model,\n",
    "    args=training_args,\n",
    "    train_dataset=tokenized_dataset[\"train\"],\n",
    "    eval_dataset=tokenized_dataset[\"test\"],\n",
    "    tokenizer=tokenizer,\n",
    "    data_collator=data_collator,\n",
    "    compute_metrics=compute_metrics\n",
    ")\n",
    "\n",
    "trainer.train()"
   ]
  }
 ],
 "metadata": {
  "kernelspec": {
   "display_name": "tii",
   "language": "python",
   "name": "python3"
  },
  "language_info": {
   "codemirror_mode": {
    "name": "ipython",
    "version": 3
   },
   "file_extension": ".py",
   "mimetype": "text/x-python",
   "name": "python",
   "nbconvert_exporter": "python",
   "pygments_lexer": "ipython3",
   "version": "3.11.5"
  }
 },
 "nbformat": 4,
 "nbformat_minor": 2
}
