{
 "cells": [
  {
   "cell_type": "code",
   "execution_count": null,
   "metadata": {},
   "outputs": [],
   "source": [
    "import torch\n",
    "import torch.nn as nn\n",
    "import numpy as np\n",
    "from tokenizers import Tokenizer\n",
    "from nltk.tokenize import regexp_tokenize\n",
    "from preprocessing import cyrillize, pattern\n",
    "from sklearn.decomposition import TruncatedSVD\n",
    "\n",
    "from get_embeddings import get_noise_dampening_embedding, get_sub_word_tokenization_embedding\n",
    "\n",
    "import json\n",
    "import random\n",
    "from math import floor"
   ]
  },
  {
   "cell_type": "code",
   "execution_count": null,
   "metadata": {},
   "outputs": [],
   "source": [
    "def classify_n_gram(n_gram_vector, examples_vectors) -> bool:\n",
    "    for example_vector in examples_vectors:\n",
    "        # if all items of the example_vector are in n_gram_vector\n",
    "        if all(any(np.array_equal(row, example) for example in n_gram_vector) for row in example_vector):\n",
    "            return True\n",
    "    return False\n",
    "\n",
    "def split_n_gram(comment, embedding, pad_vector, window_size=5):\n",
    "    comment_vector = embedding(comment)\n",
    "    m = len(comment_vector)\n",
    "    if m == 0:\n",
    "        return []\n",
    "    if m < window_size:\n",
    "        for _ in range(m, window_size):\n",
    "            comment_vector = np.vstack([comment_vector, pad_vector])\n",
    "        m = window_size\n",
    "\n",
    "    i = 0\n",
    "    n_grams = []\n",
    "    while i + window_size <= m:\n",
    "        n_gram = comment_vector[i:i+window_size]\n",
    "        n_grams.append(n_gram)\n",
    "        i += 1\n",
    "    return n_grams\n",
    "\n",
    "def split_and_classify_n_grams(comment_record, embedding, pad_vector, window_size=5):\n",
    "    examples_vectors = [embedding(example) for example in comment_record['examples']] if comment_record['examples'] != None else []\n",
    "\n",
    "    return [{\n",
    "            'n_gram': n_gram,\n",
    "            'label': 'p' if classify_n_gram(n_gram, examples_vectors) else 'n'\n",
    "        }\n",
    "        for n_gram in split_n_gram(comment_record['comment'], embedding, pad_vector, window_size)\n",
    "    ]\n",
    "\n",
    "def predict(model, embedding, comment):\n",
    "    n_grams = split_n_gram(comment, embedding, embedding('[PAD]'))\n",
    "    return any(model.predict(np.concatenate(n_gram).reshape(1, -1)).item() == 1 for n_gram in n_grams)\n",
    "\n",
    "def test_model(model, embedding, testing_set):\n",
    "    tp, fn, fp, tn = 0, 0, 0, 0\n",
    "    for comment in testing_set:\n",
    "        if predict(model, embedding, comment['comment']):\n",
    "            if comment['label'] == 'p':\n",
    "                tp += 1\n",
    "            else:\n",
    "                fp += 1\n",
    "        else:\n",
    "            if comment['label'] == 'p':\n",
    "                fn += 1\n",
    "            else:\n",
    "                tn += 1\n",
    "    return tp, fn, fp, tn\n",
    "\n",
    "def print_test_model(tp, fn, fp, tn):\n",
    "    precision = tp/(tp + fp) if tp + fp > 0 else 0\n",
    "    recall = tp/(tp + fn) if tp + fn > 0 else 0\n",
    "    Fscore = (2.0 * precision * recall) / (precision + recall) if precision + recall > 0 else 0\n",
    "    print('Precision: '+str(precision))\n",
    "    print('Recall: '+str(recall))\n",
    "    print('F1-score: '+str(Fscore))\n",
    "    print('Confusion Matrix:')\n",
    "    print('{:15} {:>8} {:>8}'.format('', 'Predicted p', 'Predicted n'))\n",
    "    print('{:15} {:>8.3f} {:>8.3f}'.format('Actual p', tp, fn))\n",
    "    print('{:15} {:>8.3f} {:>8.3f}'.format('Actual n', fp, tn))\n",
    "    return Fscore, precision, recall\n",
    "\n",
    "def train_model(model, train_records, embedding, window_size, balanced_classes, p_n_rate=1.0):\n",
    "    training_n_gram_set = [\n",
    "        (np.concatenate(n['n_gram']), 0 if n['label'] == 'n' else 1)\n",
    "        for comment in train_records\n",
    "        for n in split_and_classify_n_grams(comment, embedding, embedding('[PAD]'), window_size)\n",
    "        if len(n['n_gram']) > 0\n",
    "    ]\n",
    "    positive_train = [a for a in training_n_gram_set if a[1] == 1]\n",
    "    negative_train = [a for a in training_n_gram_set if a[1] == 0]\n",
    "    train_sampled_data = positive_train + negative_train\n",
    "    if balanced_classes:\n",
    "        train_sampled_data = negative_train\n",
    "        train_sampled_data += random.choices(positive_train, k=floor(p_n_rate*len(positive_train)))\n",
    "\n",
    "    train_x, train_y = [a[0] for a in train_sampled_data], [a[1] for a in train_sampled_data]\n",
    "    model.fit(train_x, train_y)\n",
    "\n",
    "def k_cross_validation(model, supervised_comments, embedding, window_size, k, balanced_classes: bool = False, p_n_rate = 1.0):\n",
    "    n = len(supervised_comments)\n",
    "    m = n//k\n",
    "    t = n//m + n%m\n",
    "\n",
    "    tps, fns, fps, tns = 0, 0, 0, 0\n",
    "\n",
    "    for i in range(0, n, m):\n",
    "        test_records = supervised_comments[i:i+m]\n",
    "        train_records = supervised_comments[0:i] + supervised_comments[i+m:n]\n",
    "\n",
    "        train_model(model, train_records, embedding, window_size, balanced_classes, p_n_rate)\n",
    "\n",
    "        tp, fn, fp, tn = test_model(model, embedding, test_records)\n",
    "        tps += tp\n",
    "        fns += fn\n",
    "        fps += fp\n",
    "        tns += tn\n",
    "\n",
    "    return tps/t, fns/t, fps/t, tns/t"
   ]
  },
  {
   "cell_type": "markdown",
   "metadata": {},
   "source": [
    "Loading data"
   ]
  },
  {
   "cell_type": "code",
   "execution_count": null,
   "metadata": {},
   "outputs": [],
   "source": [
    "with open('data/blitz_comments.json', 'r', encoding=\"utf-8\") as f:\n",
    "    supervised_comments = [\n",
    "        {\n",
    "            'comment': cyrillize(d['comment']),\n",
    "            'label': d['label'],\n",
    "            'examples': d['examples'] if 'examples' in d else None\n",
    "        }\n",
    "        for d in json.load(f) if 'label' in d\n",
    "    ]"
   ]
  },
  {
   "cell_type": "code",
   "execution_count": null,
   "metadata": {},
   "outputs": [],
   "source": [
    "def normalize(arr):\n",
    "    norm = np.linalg.norm(arr)\n",
    "    return arr/norm if norm != 0 else arr"
   ]
  },
  {
   "cell_type": "code",
   "execution_count": null,
   "metadata": {},
   "outputs": [],
   "source": [
    "sub_word_embedding = get_sub_word_tokenization_embedding(dim=100)\n",
    "noise_dampening_embedding = get_noise_dampening_embedding(dim=100, device='cuda')"
   ]
  },
  {
   "cell_type": "code",
   "execution_count": null,
   "metadata": {},
   "outputs": [],
   "source": [
    "results = []"
   ]
  },
  {
   "cell_type": "markdown",
   "metadata": {},
   "source": [
    "Gradient Boosting Classifier"
   ]
  },
  {
   "cell_type": "code",
   "execution_count": null,
   "metadata": {},
   "outputs": [],
   "source": [
    "from sklearn.ensemble import GradientBoostingClassifier\n",
    "clf = GradientBoostingClassifier(n_estimators=100, learning_rate=1.0, max_depth=1, random_state=0)"
   ]
  },
  {
   "cell_type": "code",
   "execution_count": null,
   "metadata": {},
   "outputs": [],
   "source": [
    "print(\"Gradient boosted stumps with sub word embedding\")\n",
    "f, p, r = print_test_model(*k_cross_validation(clf, supervised_comments, sub_word_embedding, window_size=5, k=10, balanced_classes=False))\n",
    "results.append({\n",
    "    'Model': 'Gradient Boosting Stumps',\n",
    "    'Embedding': 'Sub word',\n",
    "    'Balanced classes': 'No',\n",
    "    'Precision': p,\n",
    "    'Recall': r,\n",
    "    'F1 score': f\n",
    "})"
   ]
  },
  {
   "cell_type": "code",
   "execution_count": null,
   "metadata": {},
   "outputs": [],
   "source": [
    "print(\"Gradient boosted stumps with ND embedding\")\n",
    "f, p, r = print_test_model(*k_cross_validation(clf, supervised_comments, noise_dampening_embedding, window_size=5, k=10, balanced_classes=False))\n",
    "results.append({\n",
    "    'Model': 'Gradient Boosting Stumps',\n",
    "    'Embedding': 'Noise dampening',\n",
    "    'Balanced classes': 'No',\n",
    "    'Precision': p,\n",
    "    'Recall': r,\n",
    "    'F1 score': f\n",
    "})"
   ]
  },
  {
   "cell_type": "markdown",
   "metadata": {},
   "source": [
    "K-NN"
   ]
  },
  {
   "cell_type": "code",
   "execution_count": null,
   "metadata": {},
   "outputs": [],
   "source": [
    "from sklearn.neighbors import KNeighborsClassifier"
   ]
  },
  {
   "cell_type": "code",
   "execution_count": null,
   "metadata": {},
   "outputs": [],
   "source": [
    "best_i, best_f = 1, 0\n",
    "for i in range(1, 8, 2):\n",
    "    j = len(supervised_comments)//10\n",
    "    test_records = supervised_comments[0:j]\n",
    "    train_records = supervised_comments[j:]\n",
    "    model = KNeighborsClassifier(i)\n",
    "    train_model(model, train_records, sub_word_embedding, window_size=5, balanced_classes=False)\n",
    "\n",
    "    f, _, _ = print_test_model(*test_model(model, sub_word_embedding, test_records))\n",
    "    if f > best_f:\n",
    "        best_f = f\n",
    "        best_i = i"
   ]
  },
  {
   "cell_type": "code",
   "execution_count": null,
   "metadata": {},
   "outputs": [],
   "source": [
    "print(\"K-NN with sub word embedding\")\n",
    "f, p, r = print_test_model(*k_cross_validation(KNeighborsClassifier(best_i), supervised_comments, sub_word_embedding, window_size=5, k=10, balanced_classes=False))\n",
    "results.append({\n",
    "    'Model': 'k-NN k=' + str(best_i),\n",
    "    'Embedding': 'Sub word',\n",
    "    'Balanced classes': 'No',\n",
    "    'Precision': p,\n",
    "    'Recall': r,\n",
    "    'F1 score': f\n",
    "})"
   ]
  },
  {
   "cell_type": "code",
   "execution_count": null,
   "metadata": {},
   "outputs": [],
   "source": [
    "best_i, best_f = 1, 0.0\n",
    "for i in range(1, 8, 2):\n",
    "    j = len(supervised_comments)//10\n",
    "    test_records = supervised_comments[0:j]\n",
    "    train_records = supervised_comments[j:]\n",
    "    model = KNeighborsClassifier(i)\n",
    "    train_model(model, train_records, noise_dampening_embedding, window_size=5, balanced_classes=False)\n",
    "\n",
    "    f, _, _ = print_test_model(*test_model(model, noise_dampening_embedding, test_records))\n",
    "    if f > best_f:\n",
    "        best_f = f\n",
    "        best_i = i"
   ]
  },
  {
   "cell_type": "code",
   "execution_count": null,
   "metadata": {},
   "outputs": [],
   "source": [
    "print(\"K-NN with ND embedding\")\n",
    "f, p, r = print_test_model(*k_cross_validation(KNeighborsClassifier(best_i), supervised_comments, noise_dampening_embedding, window_size=5, k=10, balanced_classes=False))\n",
    "results.append({\n",
    "    'Model': 'k-NN k=' + str(best_i),\n",
    "    'Embedding': 'Noise dampening',\n",
    "    'Balanced classes': 'No',\n",
    "    'Precision': p,\n",
    "    'Recall': r,\n",
    "    'F1 score': f\n",
    "})"
   ]
  },
  {
   "cell_type": "markdown",
   "metadata": {},
   "source": [
    "Multi layer perceptron"
   ]
  },
  {
   "cell_type": "code",
   "execution_count": null,
   "metadata": {},
   "outputs": [],
   "source": [
    "from sklearn.neural_network import MLPClassifier"
   ]
  },
  {
   "cell_type": "code",
   "execution_count": null,
   "metadata": {},
   "outputs": [],
   "source": [
    "print(\"MLP with sub word embedding\")\n",
    "f, p, r = print_test_model(*k_cross_validation(MLPClassifier((500, 500, 2), activation='relu'), supervised_comments, sub_word_embedding, window_size=5, k=10, balanced_classes=True, p_n_rate=1))\n",
    "results.append({\n",
    "    'Model': 'MLP(500, 500, 2)',\n",
    "    'Embedding': 'Sub word',\n",
    "    'Balanced classes': 'Yes',\n",
    "    'Precision': p,\n",
    "    'Recall': r,\n",
    "    'F1 score': f\n",
    "})"
   ]
  },
  {
   "cell_type": "code",
   "execution_count": null,
   "metadata": {},
   "outputs": [],
   "source": [
    "print(\"MLP with ND embedding\")\n",
    "f, p, r = print_test_model(*k_cross_validation(MLPClassifier((500, 500, 2), activation='relu'), supervised_comments, noise_dampening_embedding, window_size=5, k=10, balanced_classes=True, p_n_rate=1))\n",
    "results.append({\n",
    "    'Model': 'MLP(500, 500, 2)',\n",
    "    'Embedding': 'Noise dampening',\n",
    "    'Balanced classes': 'Yes',\n",
    "    'Precision': p,\n",
    "    'Recall': r,\n",
    "    'F1 score': f\n",
    "})"
   ]
  },
  {
   "cell_type": "markdown",
   "metadata": {},
   "source": [
    "SVM"
   ]
  },
  {
   "cell_type": "code",
   "execution_count": null,
   "metadata": {},
   "outputs": [],
   "source": [
    "from sklearn import svm"
   ]
  },
  {
   "cell_type": "code",
   "execution_count": null,
   "metadata": {},
   "outputs": [],
   "source": [
    "print(\"SVC with sub word embedding\")\n",
    "f, p, r = print_test_model(*k_cross_validation(svm.SVC(), supervised_comments, sub_word_embedding, window_size=5, k=10, balanced_classes=True, p_n_rate=1))\n",
    "results.append({\n",
    "    'Model': 'SVM',\n",
    "    'Embedding': 'Sub word',\n",
    "    'Balanced classes': 'Yes',\n",
    "    'Precision': p,\n",
    "    'Recall': r,\n",
    "    'F1 score': f\n",
    "})"
   ]
  },
  {
   "cell_type": "code",
   "execution_count": null,
   "metadata": {},
   "outputs": [],
   "source": [
    "print(\"SVC with ND embedding\")\n",
    "f, p, r = print_test_model(*k_cross_validation(svm.SVC(), supervised_comments, noise_dampening_embedding, window_size=5, k=10, balanced_classes=True, p_n_rate=1))\n",
    "results.append({\n",
    "    'Model': 'SVM',\n",
    "    'Embedding': 'Noise dampening',\n",
    "    'Balanced classes': 'Yes',\n",
    "    'Precision': p,\n",
    "    'Recall': r,\n",
    "    'F1 score': f\n",
    "})"
   ]
  },
  {
   "cell_type": "markdown",
   "metadata": {},
   "source": [
    "# Results"
   ]
  },
  {
   "cell_type": "code",
   "execution_count": null,
   "metadata": {},
   "outputs": [],
   "source": [
    "import pandas as pd\n",
    "\n",
    "df = pd.DataFrame.from_records(results)\n",
    "df"
   ]
  }
 ],
 "metadata": {
  "kernelspec": {
   "display_name": "tii",
   "language": "python",
   "name": "python3"
  },
  "language_info": {
   "codemirror_mode": {
    "name": "ipython",
    "version": 3
   },
   "file_extension": ".py",
   "mimetype": "text/x-python",
   "name": "python",
   "nbconvert_exporter": "python",
   "pygments_lexer": "ipython3",
   "version": "3.11.5"
  }
 },
 "nbformat": 4,
 "nbformat_minor": 2
}
