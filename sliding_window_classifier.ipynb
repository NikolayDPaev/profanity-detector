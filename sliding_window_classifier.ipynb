{
 "cells": [
  {
   "cell_type": "code",
   "execution_count": 1,
   "metadata": {},
   "outputs": [],
   "source": [
    "import torch\n",
    "import torch.nn as nn\n",
    "import numpy as np\n",
    "from tokenizers import Tokenizer\n",
    "from preprocessing import cyrillize\n",
    "from sklearn.decomposition import TruncatedSVD\n",
    "\n",
    "import json\n",
    "import random\n",
    "import math"
   ]
  },
  {
   "cell_type": "code",
   "execution_count": 2,
   "metadata": {},
   "outputs": [],
   "source": [
    "with open('data/blitz_comments.json', 'r', encoding=\"utf-8\") as f:\n",
    "    supervised_comments = [\n",
    "        {\n",
    "            'comment': cyrillize(d['comment']),\n",
    "            'label': d['label'],\n",
    "            'examples': d['examples'] if 'examples' in d else None\n",
    "        }\n",
    "        for d in json.load(f) if 'label' in d\n",
    "    ]\n",
    "\n",
    "n_supervised_p = len([s for s in supervised_comments if s['label'] == 'p'])\n",
    "n_supervised_n = len([s for s in supervised_comments if s['label'] == 'p'])"
   ]
  },
  {
   "cell_type": "markdown",
   "metadata": {},
   "source": [
    "Sub word tokenization embedding"
   ]
  },
  {
   "cell_type": "code",
   "execution_count": 3,
   "metadata": {},
   "outputs": [],
   "source": [
    "def get_sub_word_tokenization_embedding(dim=100):\n",
    "    tokenizer = Tokenizer.from_file(\"data/tokenizer_comments.json\")\n",
    "    token2ind = tokenizer.get_vocab()\n",
    "    ind2token = lambda x: tokenizer.id_to_token(x)\n",
    "\n",
    "    with open('data/unsupervised_comments.json', 'r', encoding=\"utf-8\") as f:\n",
    "        unsupervised_comments = json.load(f)\n",
    "\n",
    "    tokenized_unsupervised_comments = [tokenizer.encode(c).tokens for c in unsupervised_comments]\n",
    "\n",
    "    n_words = tokenizer.get_vocab_size()\n",
    "    X=np.zeros((n_words,n_words))\n",
    "    for s in [\"[UNK]\", \"[PAD]\", \"[STR]\", \"[END]\"]:\n",
    "        X[token2ind[s], token2ind[s]] = 1\n",
    "    for comment in tokenized_unsupervised_comments:\n",
    "        for wi in range(len(comment)):\n",
    "            if comment[wi] not in token2ind: continue\n",
    "            i=token2ind[comment[wi]]\n",
    "            for k in range(1,4+1):\n",
    "                if wi-k>=0 and comment[wi-k] in token2ind:\n",
    "                    j=token2ind[comment[wi-k]]\n",
    "                    X[i,j] += 1\n",
    "                if wi+k<len(comment) and comment[wi+k] in token2ind:\n",
    "                    j=token2ind[comment[wi+k]]\n",
    "                    X[i,j] += 1\n",
    "\n",
    "    svd = TruncatedSVD(n_components=dim, n_iter=10)\n",
    "    svd.fit(X)\n",
    "    X_reduced = svd.transform(X)\n",
    "\n",
    "    return lambda comment: np.stack([X_reduced[token2ind[token]] for token in tokenizer.encode(comment).tokens])"
   ]
  },
  {
   "cell_type": "code",
   "execution_count": 35,
   "metadata": {},
   "outputs": [],
   "source": [
    "def classify_n_gram(n_gram_vector, examples_vectors) -> bool:\n",
    "    for example_vector in examples_vectors:\n",
    "        # if all items of the example_vector are in n_gram_vector\n",
    "        if all(any(np.array_equal(row, example) for example in n_gram_vector) for row in example_vector):\n",
    "            return True\n",
    "    return False\n",
    "\n",
    "def split_n_gram(comment, embedding, pad_vector, window_size=5):\n",
    "    comment_vector = embedding(comment)\n",
    "    m = len(comment_vector)\n",
    "    if m < window_size:\n",
    "        for _ in range(m, window_size):\n",
    "            comment_vector = np.vstack([comment_vector, pad_vector])\n",
    "        m = window_size\n",
    "\n",
    "    i = 0\n",
    "    n_grams = []\n",
    "    while i + window_size <= m:\n",
    "        n_gram = comment_vector[i:i+window_size]\n",
    "        n_grams.append(n_gram)\n",
    "        i += 1\n",
    "    return n_grams\n",
    "\n",
    "def split_and_classify_n_grams(comment_record, embedding, pad_vector, window_size=5):\n",
    "    examples_vectors = [embedding(example) for example in comment_record['examples']] if comment_record['examples'] != None else []\n",
    "\n",
    "    return [{\n",
    "            'n_gram': n_gram,\n",
    "            'label': 'p' if classify_n_gram(n_gram, examples_vectors) else 'n'\n",
    "        }\n",
    "        for n_gram in split_n_gram(comment_record['comment'], embedding, pad_vector, window_size)\n",
    "    ]"
   ]
  },
  {
   "cell_type": "code",
   "execution_count": 36,
   "metadata": {},
   "outputs": [],
   "source": [
    "def split_test_train(comments, test_fraction = 0.1):\n",
    "    random.seed(42)\n",
    "    random.shuffle(comments)\n",
    "    test_count = int(len(comments) * test_fraction)\n",
    "    test_comments = comments[:test_count]\n",
    "    train_comments = comments[test_count:]\n",
    "    return test_comments, train_comments"
   ]
  },
  {
   "cell_type": "markdown",
   "metadata": {},
   "source": [
    "### Training with sub word embedding"
   ]
  },
  {
   "cell_type": "code",
   "execution_count": 8,
   "metadata": {},
   "outputs": [],
   "source": [
    "testing_set, training_set = split_test_train(supervised_comments)\n",
    "\n",
    "input_size = 100\n",
    "embedding = get_sub_word_tokenization_embedding(input_size)"
   ]
  },
  {
   "cell_type": "code",
   "execution_count": 37,
   "metadata": {},
   "outputs": [],
   "source": [
    "window_size = 5\n",
    "\n",
    "training_n_gram_set = [\n",
    "        (np.concatenate(n['n_gram']), 0 if n['label'] == 'n' else 1)\n",
    "        for comment in training_set\n",
    "        for n in split_and_classify_n_grams(comment, embedding, embedding('[PAD]'), window_size)\n",
    "    ]\n",
    "\n",
    "test_n_gram_set = [\n",
    "        (np.concatenate(n['n_gram']), 0 if n['label'] == 'n' else 1)\n",
    "        for comment in testing_set\n",
    "        for n in split_and_classify_n_grams(comment, embedding, embedding('[PAD]'), window_size)\n",
    "]\n",
    "\n",
    "positive_train = [a for a in training_n_gram_set if a[1] == 1]\n",
    "negative_train = [a for a in training_n_gram_set if a[1] == 0]\n",
    "\n",
    "n_positive = len(positive_train)\n",
    "n_negative = len(negative_train)"
   ]
  },
  {
   "cell_type": "code",
   "execution_count": 56,
   "metadata": {},
   "outputs": [],
   "source": [
    "from math import floor\n",
    "\n",
    "\n",
    "def predict(model, comment):\n",
    "    n_grams = split_n_gram(comment, embedding, embedding('[PAD]'))\n",
    "    return any(model.predict(np.concatenate(n_gram).reshape(1, -1)).item() == 1 for n_gram in n_grams)\n",
    "\n",
    "def test_model(model, testing_set):\n",
    "    tp, fn, fp, tn = 0, 0, 0, 0\n",
    "    for comment in testing_set:\n",
    "        if predict(model, comment['comment']):\n",
    "            if comment['label'] == 'p':\n",
    "                tp += 1\n",
    "            else:\n",
    "                fp += 1\n",
    "        else:\n",
    "            if comment['label'] == 'p':\n",
    "                fn += 1\n",
    "            else:\n",
    "                tn += 1\n",
    "    precision = tp/(tp + fp)\n",
    "    recall = tp/(tp + fn)\n",
    "    Fscore = (2.0 * precision * recall) / (precision + recall)\n",
    "    print('Precision: '+str(precision))\n",
    "    print('Recall: '+str(recall))\n",
    "    print('F1-score: '+str(Fscore))\n",
    "    print('Confusion Matrix:')\n",
    "    print('{:15} {:>8} {:>8}'.format('', 'Predicted p', 'Predicted n'))\n",
    "    print('{:15} {:>8} {:>8}'.format('Actual p', tp, fn))\n",
    "    print('{:15} {:>8} {:>8}'.format('Actual n', fp, tn))\n",
    "    return Fscore\n",
    "\n",
    "def fit_and_test_model(model, balanced_classes: bool = False, p_n_rate = 1.0):\n",
    "    train_sampled_data = positive_train + negative_train\n",
    "    if balanced_classes:\n",
    "        train_sampled_data = negative_train\n",
    "        train_sampled_data += random.choices(positive_train, k=floor(p_n_rate*n_positive))\n",
    "\n",
    "    train_x, train_y = [a[0] for a in train_sampled_data], [a[1] for a in train_sampled_data]\n",
    "    # test_x, test_y = [a[0] for a in test_n_gram_set], [a[1] for a in test_n_gram_set]\n",
    "\n",
    "    model.fit(train_x, train_y)\n",
    "    return test_model(model, testing_set)"
   ]
  },
  {
   "cell_type": "markdown",
   "metadata": {},
   "source": [
    "Gradient Boosting Classifier"
   ]
  },
  {
   "cell_type": "code",
   "execution_count": 58,
   "metadata": {},
   "outputs": [],
   "source": [
    "from sklearn.ensemble import GradientBoostingClassifier\n",
    "clf = GradientBoostingClassifier(n_estimators=100, learning_rate=1.0, max_depth=1, random_state=0)"
   ]
  },
  {
   "cell_type": "code",
   "execution_count": 59,
   "metadata": {},
   "outputs": [
    {
     "name": "stdout",
     "output_type": "stream",
     "text": [
      "Precision: 0.5833333333333334\n",
      "Recall: 0.3465346534653465\n",
      "F1-score: 0.43478260869565216\n",
      "Confusion Matrix:\n",
      "                Predicted p Predicted n\n",
      "Actual p              35       66\n",
      "Actual n              25      168\n"
     ]
    },
    {
     "data": {
      "text/plain": [
       "0.43478260869565216"
      ]
     },
     "execution_count": 59,
     "metadata": {},
     "output_type": "execute_result"
    }
   ],
   "source": [
    "fit_and_test_model(clf, balanced_classes=False)"
   ]
  },
  {
   "cell_type": "code",
   "execution_count": null,
   "metadata": {},
   "outputs": [],
   "source": [
    "fit_and_test_model(clf, balanced_classes=True)"
   ]
  },
  {
   "cell_type": "markdown",
   "metadata": {},
   "source": [
    "K-NN"
   ]
  },
  {
   "cell_type": "code",
   "execution_count": 61,
   "metadata": {},
   "outputs": [],
   "source": [
    "from sklearn.neighbors import KNeighborsClassifier"
   ]
  },
  {
   "cell_type": "code",
   "execution_count": null,
   "metadata": {},
   "outputs": [],
   "source": [
    "best_i, best_f = 1, 0.41\n",
    "for i in range(3, 15, 2):\n",
    "    f = fit_and_test_model(KNeighborsClassifier(i), balanced_classes=False)\n",
    "    if f > best_f:\n",
    "        best_f = f\n",
    "        best_i = i"
   ]
  },
  {
   "cell_type": "code",
   "execution_count": 70,
   "metadata": {},
   "outputs": [
    {
     "name": "stdout",
     "output_type": "stream",
     "text": [
      "Precision: 0.3681592039800995\n",
      "Recall: 0.7326732673267327\n",
      "F1-score: 0.4900662251655628\n",
      "Confusion Matrix:\n",
      "                Predicted p Predicted n\n",
      "Actual p              74       27\n",
      "Actual n             127       66\n"
     ]
    },
    {
     "data": {
      "text/plain": [
       "0.4900662251655628"
      ]
     },
     "execution_count": 70,
     "metadata": {},
     "output_type": "execute_result"
    }
   ],
   "source": [
    "fit_and_test_model(KNeighborsClassifier(best_i), balanced_classes=False)"
   ]
  },
  {
   "cell_type": "code",
   "execution_count": 46,
   "metadata": {},
   "outputs": [
    {
     "name": "stdout",
     "output_type": "stream",
     "text": [
      "=================================================================\n",
      "Confusion matrix: \n",
      "  91  10\n",
      " 191   2\n",
      "Precision: 0.32269503546099293\n",
      "Recall: 0.900990099009901\n",
      "F1-score: 0.4751958224543082\n"
     ]
    },
    {
     "data": {
      "text/plain": [
       "0.4751958224543082"
      ]
     },
     "execution_count": 46,
     "metadata": {},
     "output_type": "execute_result"
    }
   ],
   "source": [
    "fit_and_test_model(clf, balanced_classes=True, p_n_rate=p_n_rate)"
   ]
  },
  {
   "cell_type": "markdown",
   "metadata": {},
   "source": [
    "Multi layer perceptron"
   ]
  },
  {
   "cell_type": "code",
   "execution_count": 47,
   "metadata": {},
   "outputs": [],
   "source": [
    "from sklearn.neural_network import MLPClassifier\n",
    "\n",
    "mlp = MLPClassifier((500, 500, 2), activation='relu')"
   ]
  },
  {
   "cell_type": "code",
   "execution_count": null,
   "metadata": {},
   "outputs": [],
   "source": [
    "fit_and_test_model(mlp, balanced_classes=True, p_n_rate=1)"
   ]
  },
  {
   "cell_type": "code",
   "execution_count": 71,
   "metadata": {},
   "outputs": [
    {
     "name": "stdout",
     "output_type": "stream",
     "text": [
      "Precision: 0.46601941747572817\n",
      "Recall: 0.4752475247524752\n",
      "F1-score: 0.47058823529411764\n",
      "Confusion Matrix:\n",
      "                Predicted p Predicted n\n",
      "Actual p              48       53\n",
      "Actual n              55      138\n"
     ]
    },
    {
     "data": {
      "text/plain": [
       "0.47058823529411764"
      ]
     },
     "execution_count": 71,
     "metadata": {},
     "output_type": "execute_result"
    }
   ],
   "source": [
    "test_model(mlp, testing_set)"
   ]
  },
  {
   "cell_type": "markdown",
   "metadata": {},
   "source": [
    "## Noise Dampening Embedding"
   ]
  },
  {
   "cell_type": "code",
   "execution_count": null,
   "metadata": {},
   "outputs": [],
   "source": []
  }
 ],
 "metadata": {
  "kernelspec": {
   "display_name": "tii",
   "language": "python",
   "name": "python3"
  },
  "language_info": {
   "codemirror_mode": {
    "name": "ipython",
    "version": 3
   },
   "file_extension": ".py",
   "mimetype": "text/x-python",
   "name": "python",
   "nbconvert_exporter": "python",
   "pygments_lexer": "ipython3",
   "version": "3.11.5"
  }
 },
 "nbformat": 4,
 "nbformat_minor": 2
}
