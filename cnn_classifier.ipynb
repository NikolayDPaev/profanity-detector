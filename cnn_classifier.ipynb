{
 "cells": [
  {
   "cell_type": "code",
   "execution_count": 1,
   "metadata": {},
   "outputs": [],
   "source": [
    "import torch\n",
    "import numpy as np\n",
    "from preprocessing import cyrillize\n",
    "\n",
    "from get_embeddings import get_noise_dampening_embedding, get_sub_word_tokenization_embedding\n",
    "\n",
    "import json\n",
    "import random\n",
    "from math import floor"
   ]
  },
  {
   "cell_type": "code",
   "execution_count": 2,
   "metadata": {},
   "outputs": [],
   "source": [
    "with open('data/blitz_comments.json', 'r', encoding=\"utf-8\") as f:\n",
    "    supervised_comments = [{\n",
    "        'comment': cyrillize(d['comment']),\n",
    "        'label': d['label'],\n",
    "        'examples': [cyrillize(e) for e in d['examples']] if 'examples' in d else None\n",
    "    } for d in json.load(f) if 'label' in d]"
   ]
  },
  {
   "cell_type": "code",
   "execution_count": 3,
   "metadata": {},
   "outputs": [],
   "source": [
    "def gamma(model, embedded_s, embedded_pad, window_size):\n",
    "    with torch.no_grad():\n",
    "        s = embedded_s\n",
    "        for _ in range(len(s), window_size):\n",
    "            s = np.vstack([s, embedded_pad[0]])\n",
    "        Z = model([s])\n",
    "        return torch.argmax(Z[0]).item()\n",
    "\n",
    "def test_model(model, embedding, testing_set, window_size):\n",
    "    tp, fn, fp, tn = 0, 0, 0, 0\n",
    "    embedded_pad = embedding('[pad]')\n",
    "    for comment in testing_set:\n",
    "        embedded_s = embedding(comment['comment'])\n",
    "        if len(embedded_s) == 0:\n",
    "            continue\n",
    "        if gamma(model, embedded_s, embedded_pad, window_size):\n",
    "            if comment['label'] == 'p':\n",
    "                tp += 1\n",
    "            else:\n",
    "                fp += 1\n",
    "        else:\n",
    "            if comment['label'] == 'p':\n",
    "                fn += 1\n",
    "            else:\n",
    "                tn += 1\n",
    "    return tp, fn, fp, tn\n",
    "\n",
    "def print_test_model(tp, fn, fp, tn):\n",
    "    precision = tp/(tp + fp)\n",
    "    recall = tp/(tp + fn)\n",
    "    Fscore = (2.0 * precision * recall) / (precision + recall)\n",
    "    print('Precision: '+str(precision))\n",
    "    print('Recall: '+str(recall))\n",
    "    print('F1-score: '+str(Fscore))\n",
    "    print('Confusion Matrix:')\n",
    "    print('{:15} {:>8} {:>8}'.format('', 'Predicted p', 'Predicted n'))\n",
    "    print('{:15} {:>8.3f} {:>8.3f}'.format('Actual p', tp, fn))\n",
    "    print('{:15} {:>8.3f} {:>8.3f}'.format('Actual n', fp, tn))\n",
    "    return Fscore\n",
    "\n",
    "def k_cross_validation(model, supervised_comments, embedding, window_size, k, balanced_classes: bool = False, p_n_rate = 1.0):\n",
    "    n = len(supervised_comments)\n",
    "    m = n//k\n",
    "    t = n//m + n%m\n",
    "\n",
    "    tps, fns, fps, tns = 0, 0, 0, 0\n",
    "\n",
    "    for i in range(0, n, m):\n",
    "        test_records = supervised_comments[i:i+m]\n",
    "        train_records = supervised_comments[0:i] + supervised_comments[i+m:n]\n",
    "        training_set = []\n",
    "        for comment in train_records:\n",
    "            comment_embedding = embedding(comment['comment'])\n",
    "            if len(comment_embedding) > 0:\n",
    "                training_set.append((comment_embedding, 0 if comment['label'] == 'n' else 1))\n",
    "            if comment['examples'] != None:\n",
    "                training_set += [(embedding(e), 1) for e in comment['examples']]\n",
    "\n",
    "        positive_train = [a for a in training_set if a[1] == 1]\n",
    "        negative_train = [a for a in training_set if a[1] == 0]\n",
    "        train_sampled_data = positive_train + negative_train\n",
    "        if balanced_classes:\n",
    "            train_sampled_data = negative_train\n",
    "            train_sampled_data += random.choices(positive_train, k=floor(p_n_rate*len(positive_train)))\n",
    "\n",
    "        train_x, train_y = [a[0] for a in train_sampled_data], [a[1] for a in train_sampled_data]\n",
    "        model.fit(train_x, train_y)\n",
    "\n",
    "        tp, fn, fp, tn = test_model(model, embedding, test_records, window_size)\n",
    "        tps += tp\n",
    "        fns += fn\n",
    "        fps += fp\n",
    "        tns += tn\n",
    "\n",
    "    return tps/t, fns/t, fps/t, tns/t"
   ]
  },
  {
   "cell_type": "code",
   "execution_count": 4,
   "metadata": {},
   "outputs": [],
   "source": [
    "batch_size = 32\n",
    "input_size = 100\n",
    "device = 'cuda'\n",
    "pad_embedding = np.zeros((input_size))"
   ]
  },
  {
   "cell_type": "code",
   "execution_count": 6,
   "metadata": {},
   "outputs": [],
   "source": [
    "sub_word_embedding = get_sub_word_tokenization_embedding(input_size)\n",
    "# noise_dampening_embedding = get_noise_dampening_embedding(input_size, device)"
   ]
  },
  {
   "cell_type": "code",
   "execution_count": 22,
   "metadata": {},
   "outputs": [],
   "source": [
    "class ConvolutionClassifier(torch.nn.Module):\n",
    "    def __init__(self, filterSize, filterCount, classesCount, padTokenEmb):\n",
    "        super(ConvolutionClassifier, self).__init__()\n",
    "        # convolution of the input\n",
    "        self.paddedTokenEmb = padTokenEmb\n",
    "        self.convolution = torch.nn.Conv1d(in_channels=input_size, out_channels=filterCount, kernel_size=filterSize)\n",
    "        self.dropout = torch.nn.Dropout(0.5)\n",
    "        self.classProjection = torch.nn.Linear(filterCount,classesCount)\n",
    "\n",
    "    def preparePaddedBatch(self, source):\n",
    "        device = next(self.parameters()).device\n",
    "        m = max(len(s) for s in source)\n",
    "        sents_padded = np.array([ np.vstack([s] + (m-len(s))*[self.paddedTokenEmb]) for s in source])\n",
    "        # sents_padded = np.vstack([np.pad(s, (0, m - len(s)), 'constant', constant_values=self.paddedTokenEmb[0]) for s in source])\n",
    "        return torch.tensor(sents_padded, device=device)\n",
    "\n",
    "    def forward(self, source):\n",
    "\n",
    "        X = self.preparePaddedBatch(source)\n",
    "        E = torch.transpose(X,1,2)\n",
    "        ### Очаква се Е да е тензор с размер (batch_size, embed_size, max_sent_len)\n",
    "\n",
    "        U,_ = torch.max(self.convolution(E.type(torch.float32)), dim=2)\n",
    "        Z = self.classProjection(self.dropout(U))\n",
    "        return Z\n",
    "\n",
    "    def fit(self, X, Y):\n",
    "        self.convolution.reset_parameters()\n",
    "        self.classProjection.reset_parameters()\n",
    "        optimizer = torch.optim.Adam(self.parameters(), lr=0.01, weight_decay=0.0002)\n",
    "        idx = np.arange(len(X), dtype='int32')\n",
    "        self.train()\n",
    "        for epoch in range(10):\n",
    "            np.random.shuffle(idx)\n",
    "            for b in range(0, len(idx), batch_size):\n",
    "                batch = [ X[i] for i in idx[b:min(b+batch_size, len(idx))] ]\n",
    "                Y = np.array(Y)\n",
    "                target = torch.tensor(Y[idx[b:min(b+batch_size, len(idx))]], dtype = torch.long, device = device)\n",
    "\n",
    "                Z = self.forward(batch)\n",
    "                H = torch.nn.functional.cross_entropy(Z,target)\n",
    "\n",
    "                optimizer.zero_grad()\n",
    "                H.backward()\n",
    "                optimizer.step()\n",
    "                # if b % 10 == 0:\n",
    "                #     print(b, '/', len(idx), H.item())\n",
    "        self.eval()"
   ]
  },
  {
   "cell_type": "code",
   "execution_count": 26,
   "metadata": {},
   "outputs": [],
   "source": [
    "classModel = ConvolutionClassifier(7, 400, 2, sub_word_embedding('[pad]')).to(device)"
   ]
  },
  {
   "cell_type": "code",
   "execution_count": 27,
   "metadata": {},
   "outputs": [
    {
     "name": "stdout",
     "output_type": "stream",
     "text": [
      "Precision: 0.32\n",
      "Recall: 0.18045112781954886\n",
      "F1-score: 0.23076923076923075\n",
      "Confusion Matrix:\n",
      "                Predicted p Predicted n\n",
      "Actual p          16.000   72.667\n",
      "Actual n          34.000  146.333\n"
     ]
    },
    {
     "data": {
      "text/plain": [
       "0.23076923076923075"
      ]
     },
     "execution_count": 27,
     "metadata": {},
     "output_type": "execute_result"
    }
   ],
   "source": [
    "print_test_model(*k_cross_validation(classModel, supervised_comments, sub_word_embedding, window_size=7, k=10, balanced_classes=True, p_n_rate=1))"
   ]
  },
  {
   "cell_type": "markdown",
   "metadata": {},
   "source": [
    "Noise dampening embedding"
   ]
  },
  {
   "cell_type": "code",
   "execution_count": null,
   "metadata": {},
   "outputs": [],
   "source": [
    "classModel = ConvolutionClassifier(5, 400, 2, noise_dampening_embedding('[PAD]')).to(device)"
   ]
  },
  {
   "cell_type": "code",
   "execution_count": null,
   "metadata": {},
   "outputs": [],
   "source": [
    "print_test_model(*k_cross_validation(classModel, supervised_comments, noise_dampening_embedding, window_size=5, k=10, balanced_classes=True, p_n_rate=1))"
   ]
  }
 ],
 "metadata": {
  "kernelspec": {
   "display_name": "tii",
   "language": "python",
   "name": "python3"
  },
  "language_info": {
   "codemirror_mode": {
    "name": "ipython",
    "version": 3
   },
   "file_extension": ".py",
   "mimetype": "text/x-python",
   "name": "python",
   "nbconvert_exporter": "python",
   "pygments_lexer": "ipython3",
   "version": "3.11.5"
  }
 },
 "nbformat": 4,
 "nbformat_minor": 2
}
