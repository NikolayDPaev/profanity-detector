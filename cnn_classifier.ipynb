{
 "cells": [
  {
   "cell_type": "code",
   "execution_count": 1,
   "metadata": {},
   "outputs": [],
   "source": [
    "import torch\n",
    "import numpy as np\n",
    "from preprocessing import cyrillize\n",
    "\n",
    "from get_embeddings import get_noise_dampening_embedding, get_sub_word_tokenization_embedding, get_fast_text_embedding\n",
    "\n",
    "import json\n",
    "import random\n",
    "from math import floor"
   ]
  },
  {
   "cell_type": "code",
   "execution_count": 2,
   "metadata": {},
   "outputs": [],
   "source": [
    "with open('data/blitz_comments.json', 'r', encoding=\"utf-8\") as f:\n",
    "    supervised_comments = [{\n",
    "        'comment': cyrillize(d['comment']),\n",
    "        'label': d['label'],\n",
    "        'examples': [cyrillize(e) for e in d['examples']] if 'examples' in d else None\n",
    "    } for d in json.load(f) if 'label' in d]"
   ]
  },
  {
   "cell_type": "code",
   "execution_count": 3,
   "metadata": {},
   "outputs": [],
   "source": [
    "def gamma(model, embedded_s, embedded_pad, window_size):\n",
    "    with torch.no_grad():\n",
    "        s = embedded_s\n",
    "        for _ in range(len(s), window_size):\n",
    "            s = np.vstack([s, embedded_pad[0]])\n",
    "        Z = model([s])\n",
    "        return torch.argmax(Z[0]).item()\n",
    "\n",
    "def test_model(model, embedding, testing_set, window_size):\n",
    "    tp, fn, fp, tn = 0, 0, 0, 0\n",
    "    embedded_pad = embedding('[pad]')\n",
    "    for comment in testing_set:\n",
    "        embedded_s = embedding(comment['comment'])\n",
    "        if len(embedded_s) == 0:\n",
    "            continue\n",
    "        if gamma(model, embedded_s, embedded_pad, window_size):\n",
    "            if comment['label'] == 'p':\n",
    "                tp += 1\n",
    "            else:\n",
    "                fp += 1\n",
    "        else:\n",
    "            if comment['label'] == 'p':\n",
    "                fn += 1\n",
    "            else:\n",
    "                tn += 1\n",
    "    return tp, fn, fp, tn\n",
    "\n",
    "def print_test_model(tp, fn, fp, tn):\n",
    "    precision = tp/(tp + fp)\n",
    "    recall = tp/(tp + fn)\n",
    "    Fscore = (2.0 * precision * recall) / (precision + recall)\n",
    "    print('Precision: '+str(precision))\n",
    "    print('Recall: '+str(recall))\n",
    "    print('F1-score: '+str(Fscore))\n",
    "    print('Confusion Matrix:')\n",
    "    print('{:15} {:>8} {:>8}'.format('', 'Predicted p', 'Predicted n'))\n",
    "    print('{:15} {:>8.3f} {:>8.3f}'.format('Actual p', tp, fn))\n",
    "    print('{:15} {:>8.3f} {:>8.3f}'.format('Actual n', fp, tn))\n",
    "    return Fscore\n",
    "\n",
    "def k_cross_validation(model, supervised_comments, embedding, window_size, k, balanced_classes: bool = False, p_n_rate = 1.0):\n",
    "    n = len(supervised_comments)\n",
    "    m = n//k\n",
    "    t = n//m + n%m\n",
    "\n",
    "    tps, fns, fps, tns = 0, 0, 0, 0\n",
    "\n",
    "    for i in range(0, n, m):\n",
    "        test_records = supervised_comments[i:i+m]\n",
    "        train_records = supervised_comments[0:i] + supervised_comments[i+m:n]\n",
    "        training_set = []\n",
    "        for comment in train_records:\n",
    "            comment_embedding = embedding(comment['comment'])\n",
    "            if len(comment_embedding) > 0:\n",
    "                training_set.append((comment_embedding, 0 if comment['label'] == 'n' else 1))\n",
    "            if comment['examples'] != None:\n",
    "                training_set += [(embedding(e), 1) for e in comment['examples'] if len(embedding(e)) > 0]\n",
    "\n",
    "        positive_train = [a for a in training_set if a[1] == 1]\n",
    "        negative_train = [a for a in training_set if a[1] == 0]\n",
    "        if balanced_classes:\n",
    "            if len(positive_train) < floor(p_n_rate*len(negative_train)):\n",
    "                positive_train = random.choices(positive_train, k=floor(p_n_rate*len(negative_train)))\n",
    "            else:\n",
    "                negative_train = random.choices(negative_train, k=floor(1/p_n_rate*len(positive_train)))\n",
    "        print('pos : neg =', len(positive_train), ':', len(negative_train))\n",
    "\n",
    "        train_sampled_data = positive_train + negative_train\n",
    "\n",
    "        train_x, train_y = [a[0] for a in train_sampled_data], [a[1] for a in train_sampled_data]\n",
    "        model.fit(train_x, train_y)\n",
    "\n",
    "        tp, fn, fp, tn = test_model(model, embedding, test_records, window_size)\n",
    "        print(f\"tp: {tp}, fn: {fn}, fp: {fp}, tn: {tn}\")\n",
    "        tps += tp\n",
    "        fns += fn\n",
    "        fps += fp\n",
    "        tns += tn\n",
    "\n",
    "    return tps/t, fns/t, fps/t, tns/t"
   ]
  },
  {
   "cell_type": "code",
   "execution_count": 4,
   "metadata": {},
   "outputs": [],
   "source": [
    "batch_size = 32\n",
    "input_size = 100\n",
    "device = 'cuda'\n",
    "pad_embedding = np.zeros((input_size))"
   ]
  },
  {
   "cell_type": "code",
   "execution_count": 5,
   "metadata": {},
   "outputs": [],
   "source": [
    "class ConvolutionClassifier(torch.nn.Module):\n",
    "    def __init__(self, filterSize, filterCount, classesCount, padTokenEmb):\n",
    "        super(ConvolutionClassifier, self).__init__()\n",
    "        self.filterSize = filterSize\n",
    "        # convolution of the input\n",
    "        self.paddedTokenEmb = padTokenEmb\n",
    "        self.convolution = torch.nn.Conv1d(in_channels=input_size, out_channels=filterCount, kernel_size=filterSize)\n",
    "        self.dropout = torch.nn.Dropout(0.5)\n",
    "        self.classProjection = torch.nn.Linear(filterCount,classesCount)\n",
    "\n",
    "    def preparePaddedBatch(self, source):\n",
    "        device = next(self.parameters()).device\n",
    "        m = max(max(len(s) for s in source), self.filterSize)\n",
    "        sents_padded = np.array([ np.vstack([s] + (m-len(s))*[self.paddedTokenEmb]) for s in source])\n",
    "        return torch.tensor(sents_padded, device=device)\n",
    "\n",
    "    def forward(self, source):\n",
    "        X = self.preparePaddedBatch(source)\n",
    "        E = torch.transpose(X,1,2)\n",
    "        ### Очаква се Е да е тензор с размер (batch_size, embed_size, max_sent_len)\n",
    "\n",
    "        U,_ = torch.max(self.convolution(E.type(torch.float32)), dim=2)\n",
    "        Z = self.classProjection(self.dropout(U))\n",
    "        return Z\n",
    "\n",
    "    def fit(self, X, Y):\n",
    "        self.convolution.reset_parameters()\n",
    "        self.classProjection.reset_parameters()\n",
    "        optimizer = torch.optim.Adam(self.parameters(), lr=0.01, weight_decay=0.0002)\n",
    "        idx = np.arange(len(X), dtype='int32')\n",
    "        self.train()\n",
    "        for epoch in range(10):\n",
    "            np.random.shuffle(idx)\n",
    "            for b in range(0, len(idx), batch_size):\n",
    "                batch = [ X[i] for i in idx[b:min(b+batch_size, len(idx))] ]\n",
    "                Y = np.array(Y)\n",
    "                target = torch.tensor(Y[idx[b:min(b+batch_size, len(idx))]], dtype = torch.long, device = device)\n",
    "\n",
    "                Z = self.forward(batch)\n",
    "                H = torch.nn.functional.cross_entropy(Z,target)\n",
    "\n",
    "                optimizer.zero_grad()\n",
    "                H.backward()\n",
    "                optimizer.step()\n",
    "        self.eval()"
   ]
  },
  {
   "cell_type": "markdown",
   "metadata": {},
   "source": [
    "Sub word embedding after spell checking"
   ]
  },
  {
   "cell_type": "code",
   "execution_count": 6,
   "metadata": {},
   "outputs": [
    {
     "name": "stdout",
     "output_type": "stream",
     "text": [
      "Loading dictionary...\n",
      "Processing dictionary...\n",
      "Copied 165258 words to master dictionary...\n",
      "Copied 1118365 hashes to master dictionary...\n"
     ]
    }
   ],
   "source": [
    "sub_word_embedding = get_sub_word_tokenization_embedding(input_size, spell_corection=True)"
   ]
  },
  {
   "cell_type": "code",
   "execution_count": 7,
   "metadata": {},
   "outputs": [
    {
     "name": "stdout",
     "output_type": "stream",
     "text": [
      "pos : neg = 3221 : 2717\n",
      "tp: 72, fn: 59, fp: 142, tn: 168\n",
      "pos : neg = 3259 : 2702\n",
      "tp: 12, fn: 104, fp: 21, tn: 304\n",
      "pos : neg = 3265 : 2694\n",
      "tp: 39, fn: 69, fp: 110, tn: 223\n",
      "pos : neg = 3288 : 2685\n",
      "tp: 2, fn: 97, fp: 12, tn: 330\n",
      "pos : neg = 3278 : 2695\n",
      "tp: 1, fn: 108, fp: 6, tn: 326\n",
      "pos : neg = 3311 : 2675\n",
      "tp: 86, fn: 3, fp: 325, tn: 27\n",
      "pos : neg = 3185 : 2724\n",
      "tp: 131, fn: 7, fp: 273, tn: 30\n",
      "pos : neg = 2812 : 2845\n",
      "tp: 8, fn: 251, fp: 6, tn: 176\n",
      "pos : neg = 2994 : 2785\n",
      "tp: 120, fn: 79, fp: 133, tn: 109\n",
      "pos : neg = 3191 : 2727\n",
      "tp: 10, fn: 131, fp: 15, tn: 285\n",
      "pos : neg = 3526 : 3021\n",
      "tp: 2, fn: 1, fp: 5, tn: 1\n",
      "Precision: 0.3154800783801437\n",
      "Recall: 0.3469827586206896\n",
      "F1-score: 0.3304823811152925\n",
      "Confusion Matrix:\n",
      "                Predicted p Predicted n\n",
      "Actual p          25.421   47.842\n",
      "Actual n          55.158  104.158\n"
     ]
    },
    {
     "data": {
      "text/plain": [
       "0.3304823811152925"
      ]
     },
     "execution_count": 7,
     "metadata": {},
     "output_type": "execute_result"
    }
   ],
   "source": [
    "print_test_model(*k_cross_validation(\n",
    "    ConvolutionClassifier(5, 400, 2, sub_word_embedding('[pad]')).to(device),\n",
    "    supervised_comments,\n",
    "    sub_word_embedding,\n",
    "    window_size=5,\n",
    "    k=10,\n",
    "    balanced_classes=False,\n",
    "    p_n_rate=1\n",
    "))"
   ]
  },
  {
   "cell_type": "markdown",
   "metadata": {},
   "source": [
    "Sub word embedding"
   ]
  },
  {
   "cell_type": "code",
   "execution_count": 8,
   "metadata": {},
   "outputs": [],
   "source": [
    "sub_word_embedding_no_spell_correction = get_sub_word_tokenization_embedding(input_size, spell_corection=False)"
   ]
  },
  {
   "cell_type": "code",
   "execution_count": 9,
   "metadata": {},
   "outputs": [
    {
     "name": "stdout",
     "output_type": "stream",
     "text": [
      "pos : neg = 3221 : 2717\n",
      "tp: 4, fn: 127, fp: 8, tn: 302\n",
      "pos : neg = 3259 : 2702\n",
      "tp: 0, fn: 116, fp: 1, tn: 324\n",
      "pos : neg = 3265 : 2694\n",
      "tp: 21, fn: 87, fp: 50, tn: 283\n",
      "pos : neg = 3288 : 2685\n",
      "tp: 0, fn: 99, fp: 0, tn: 342\n",
      "pos : neg = 3278 : 2695\n",
      "tp: 0, fn: 109, fp: 3, tn: 329\n",
      "pos : neg = 3311 : 2675\n",
      "tp: 29, fn: 60, fp: 76, tn: 276\n",
      "pos : neg = 3185 : 2724\n",
      "tp: 8, fn: 130, fp: 24, tn: 279\n",
      "pos : neg = 2812 : 2845\n",
      "tp: 73, fn: 186, fp: 50, tn: 132\n",
      "pos : neg = 2994 : 2785\n",
      "tp: 3, fn: 196, fp: 3, tn: 239\n",
      "pos : neg = 3191 : 2727\n",
      "tp: 45, fn: 96, fp: 89, tn: 211\n",
      "pos : neg = 3526 : 3021\n",
      "tp: 2, fn: 1, fp: 6, tn: 0\n",
      "Precision: 0.37373737373737376\n",
      "Recall: 0.1329022988505747\n",
      "F1-score: 0.196078431372549\n",
      "Confusion Matrix:\n",
      "                Predicted p Predicted n\n",
      "Actual p           9.737   63.526\n",
      "Actual n          16.316  143.000\n"
     ]
    },
    {
     "data": {
      "text/plain": [
       "0.196078431372549"
      ]
     },
     "execution_count": 9,
     "metadata": {},
     "output_type": "execute_result"
    }
   ],
   "source": [
    "print_test_model(*k_cross_validation(ConvolutionClassifier(5, 400, 2, sub_word_embedding('[pad]')).to(device),\n",
    "    supervised_comments,\n",
    "    sub_word_embedding_no_spell_correction,\n",
    "    window_size=5,\n",
    "    k=10,\n",
    "    balanced_classes=False,\n",
    "    p_n_rate=1\n",
    "))"
   ]
  },
  {
   "cell_type": "markdown",
   "metadata": {},
   "source": [
    "Noise dampening embedding"
   ]
  },
  {
   "cell_type": "code",
   "execution_count": 10,
   "metadata": {},
   "outputs": [],
   "source": [
    "noise_dampening_embedding = get_noise_dampening_embedding(input_size, 'cuda')"
   ]
  },
  {
   "cell_type": "code",
   "execution_count": 11,
   "metadata": {},
   "outputs": [
    {
     "name": "stdout",
     "output_type": "stream",
     "text": [
      "pos : neg = 3220 : 2714\n",
      "tp: 5, fn: 126, fp: 3, tn: 307\n",
      "pos : neg = 3258 : 2699\n",
      "tp: 12, fn: 104, fp: 13, tn: 312\n",
      "pos : neg = 3264 : 2691\n",
      "tp: 30, fn: 78, fp: 50, tn: 283\n",
      "pos : neg = 3287 : 2683\n",
      "tp: 49, fn: 50, fp: 90, tn: 251\n",
      "pos : neg = 3278 : 2692\n",
      "tp: 0, fn: 109, fp: 1, tn: 331\n",
      "pos : neg = 3310 : 2672\n",
      "tp: 77, fn: 12, fp: 223, tn: 129\n",
      "pos : neg = 3184 : 2723\n",
      "tp: 2, fn: 136, fp: 2, tn: 299\n",
      "pos : neg = 2811 : 2842\n",
      "tp: 69, fn: 190, fp: 26, tn: 156\n",
      "pos : neg = 2993 : 2782\n",
      "tp: 6, fn: 193, fp: 3, tn: 239\n",
      "pos : neg = 3190 : 2724\n",
      "tp: 50, fn: 91, fp: 79, tn: 221\n",
      "pos : neg = 3525 : 3018\n",
      "tp: 3, fn: 0, fp: 6, tn: 0\n",
      "Precision: 0.3792240300375469\n",
      "Recall: 0.21767241379310343\n",
      "F1-score: 0.27658603377453217\n",
      "Confusion Matrix:\n",
      "                Predicted p Predicted n\n",
      "Actual p          15.947   57.316\n",
      "Actual n          26.105  133.053\n"
     ]
    },
    {
     "data": {
      "text/plain": [
       "0.27658603377453217"
      ]
     },
     "execution_count": 11,
     "metadata": {},
     "output_type": "execute_result"
    }
   ],
   "source": [
    "print_test_model(*k_cross_validation(ConvolutionClassifier(5, 400, 2, noise_dampening_embedding('[pad]')).to(device),\n",
    "    supervised_comments,\n",
    "    noise_dampening_embedding,\n",
    "    window_size=5,\n",
    "    k=10,\n",
    "    balanced_classes=False,\n",
    "    p_n_rate=1\n",
    "))"
   ]
  },
  {
   "cell_type": "markdown",
   "metadata": {},
   "source": [
    "Fast text embedding"
   ]
  },
  {
   "cell_type": "code",
   "execution_count": 12,
   "metadata": {},
   "outputs": [],
   "source": [
    "fast_text_embedding = get_fast_text_embedding()"
   ]
  },
  {
   "cell_type": "code",
   "execution_count": 13,
   "metadata": {},
   "outputs": [
    {
     "name": "stdout",
     "output_type": "stream",
     "text": [
      "pos : neg = 3220 : 2714\n",
      "tp: 72, fn: 59, fp: 30, tn: 280\n",
      "pos : neg = 3258 : 2699\n",
      "tp: 20, fn: 96, fp: 4, tn: 321\n",
      "pos : neg = 3264 : 2691\n",
      "tp: 37, fn: 71, fp: 11, tn: 322\n",
      "pos : neg = 3287 : 2683\n",
      "tp: 8, fn: 91, fp: 1, tn: 340\n",
      "pos : neg = 3278 : 2692\n",
      "tp: 23, fn: 86, fp: 4, tn: 328\n",
      "pos : neg = 3310 : 2672\n",
      "tp: 86, fn: 3, fp: 293, tn: 59\n",
      "pos : neg = 3184 : 2723\n",
      "tp: 72, fn: 66, fp: 34, tn: 267\n",
      "pos : neg = 2811 : 2842\n",
      "tp: 118, fn: 141, fp: 16, tn: 166\n",
      "pos : neg = 2993 : 2782\n",
      "tp: 184, fn: 15, fp: 131, tn: 111\n",
      "pos : neg = 3190 : 2724\n",
      "tp: 125, fn: 16, fp: 178, tn: 122\n",
      "pos : neg = 3525 : 3018\n",
      "tp: 3, fn: 0, fp: 4, tn: 2\n",
      "Precision: 0.5144429160935351\n",
      "Recall: 0.5373563218390804\n",
      "F1-score: 0.5256500351370343\n",
      "Confusion Matrix:\n",
      "                Predicted p Predicted n\n",
      "Actual p          39.368   33.895\n",
      "Actual n          37.158  122.000\n"
     ]
    },
    {
     "data": {
      "text/plain": [
       "0.5256500351370343"
      ]
     },
     "execution_count": 13,
     "metadata": {},
     "output_type": "execute_result"
    }
   ],
   "source": [
    "print_test_model(*k_cross_validation(ConvolutionClassifier(5, 400, 2, fast_text_embedding('[pad]')).to(device),\n",
    "    supervised_comments,\n",
    "    fast_text_embedding,\n",
    "    window_size=5,\n",
    "    k=10,\n",
    "    balanced_classes=False,\n",
    "    p_n_rate=1\n",
    "))"
   ]
  }
 ],
 "metadata": {
  "kernelspec": {
   "display_name": "tii",
   "language": "python",
   "name": "python3"
  },
  "language_info": {
   "codemirror_mode": {
    "name": "ipython",
    "version": 3
   },
   "file_extension": ".py",
   "mimetype": "text/x-python",
   "name": "python",
   "nbconvert_exporter": "python",
   "pygments_lexer": "ipython3",
   "version": "3.11.5"
  }
 },
 "nbformat": 4,
 "nbformat_minor": 2
}
