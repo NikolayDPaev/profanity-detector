{
 "cells": [
  {
   "cell_type": "code",
   "execution_count": 1,
   "metadata": {},
   "outputs": [],
   "source": [
    "import torch\n",
    "import numpy as np\n",
    "from preprocessing import cyrillize\n",
    "\n",
    "from get_embeddings import get_noise_dampening_embedding, get_sub_word_tokenization_embedding, get_fast_text_embedding\n",
    "\n",
    "import json\n",
    "import random\n",
    "from math import floor"
   ]
  },
  {
   "cell_type": "code",
   "execution_count": 2,
   "metadata": {},
   "outputs": [],
   "source": [
    "with open('data/blitz_comments.json', 'r', encoding=\"utf-8\") as f:\n",
    "    supervised_comments = [{\n",
    "        'comment': cyrillize(d['comment']),\n",
    "        'label': d['label'],\n",
    "        'examples': [cyrillize(e) for e in d['examples']] if 'examples' in d else None\n",
    "    } for d in json.load(f) if 'label' in d]"
   ]
  },
  {
   "cell_type": "code",
   "execution_count": 3,
   "metadata": {},
   "outputs": [],
   "source": [
    "def gamma(model, embedded_s, embedded_pad, window_size):\n",
    "    with torch.no_grad():\n",
    "        s = embedded_s\n",
    "        for _ in range(len(s), window_size):\n",
    "            s = np.vstack([s, embedded_pad[0]])\n",
    "        Z = model([s])\n",
    "        return torch.argmax(Z[0]).item()\n",
    "\n",
    "def test_model(model, embedding, testing_set, window_size):\n",
    "    tp, fn, fp, tn = 0, 0, 0, 0\n",
    "    embedded_pad = embedding('[pad]')\n",
    "    for comment in testing_set:\n",
    "        embedded_s = embedding(comment['comment'])\n",
    "        if len(embedded_s) == 0:\n",
    "            continue\n",
    "        if gamma(model, embedded_s, embedded_pad, window_size):\n",
    "            if comment['label'] == 'p':\n",
    "                tp += 1\n",
    "            else:\n",
    "                fp += 1\n",
    "        else:\n",
    "            if comment['label'] == 'p':\n",
    "                fn += 1\n",
    "            else:\n",
    "                tn += 1\n",
    "    return tp, fn, fp, tn\n",
    "\n",
    "def print_test_model(tp, fn, fp, tn):\n",
    "    precision = tp/(tp + fp)\n",
    "    recall = tp/(tp + fn)\n",
    "    Fscore = (2.0 * precision * recall) / (precision + recall)\n",
    "    print('Precision: '+str(precision))\n",
    "    print('Recall: '+str(recall))\n",
    "    print('F1-score: '+str(Fscore))\n",
    "    print('Confusion Matrix:')\n",
    "    print('{:15} {:>8} {:>8}'.format('', 'Predicted p', 'Predicted n'))\n",
    "    print('{:15} {:>8.3f} {:>8.3f}'.format('Actual p', tp, fn))\n",
    "    print('{:15} {:>8.3f} {:>8.3f}'.format('Actual n', fp, tn))\n",
    "    return Fscore\n",
    "\n",
    "def k_cross_validation(model, supervised_comments, embedding, window_size, k, balanced_classes: bool = False, p_n_rate = 1.0):\n",
    "    n = len(supervised_comments)\n",
    "    m = n//k\n",
    "    t = n//m + n%m\n",
    "\n",
    "    tps, fns, fps, tns = 0, 0, 0, 0\n",
    "\n",
    "    for i in range(0, n, m):\n",
    "        test_records = supervised_comments[i:i+m]\n",
    "        train_records = supervised_comments[0:i] + supervised_comments[i+m:n]\n",
    "        training_set = []\n",
    "        for comment in train_records:\n",
    "            comment_embedding = embedding(comment['comment'])\n",
    "            if len(comment_embedding) > 0:\n",
    "                training_set.append((comment_embedding, 0 if comment['label'] == 'n' else 1))\n",
    "            if comment['examples'] != None:\n",
    "                training_set += [(embedding(e), 1) for e in comment['examples']]\n",
    "\n",
    "        positive_train = [a for a in training_set if a[1] == 1]\n",
    "        negative_train = [a for a in training_set if a[1] == 0]\n",
    "        if balanced_classes and len(positive_train) < floor(p_n_rate*len(negative_train)):\n",
    "            positive_train = random.choices(positive_train, k=floor(p_n_rate*len(negative_train)))\n",
    "        print(len(positive_train), len(negative_train))\n",
    "\n",
    "        train_sampled_data = positive_train + negative_train\n",
    "\n",
    "        train_x, train_y = [a[0] for a in train_sampled_data], [a[1] for a in train_sampled_data]\n",
    "        model.fit(train_x, train_y)\n",
    "\n",
    "        tp, fn, fp, tn = test_model(model, embedding, test_records, window_size)\n",
    "        tps += tp\n",
    "        fns += fn\n",
    "        fps += fp\n",
    "        tns += tn\n",
    "\n",
    "    return tps/t, fns/t, fps/t, tns/t"
   ]
  },
  {
   "cell_type": "code",
   "execution_count": 4,
   "metadata": {},
   "outputs": [],
   "source": [
    "batch_size = 32\n",
    "input_size = 100\n",
    "device = 'cuda'\n",
    "pad_embedding = np.zeros((input_size))"
   ]
  },
  {
   "cell_type": "code",
   "execution_count": 5,
   "metadata": {},
   "outputs": [],
   "source": [
    "sub_word_embedding = get_sub_word_tokenization_embedding(input_size)\n",
    "noise_dampening_embedding = get_noise_dampening_embedding(input_size, device)\n"
   ]
  },
  {
   "cell_type": "code",
   "execution_count": 15,
   "metadata": {},
   "outputs": [],
   "source": [
    "class ConvolutionClassifier(torch.nn.Module):\n",
    "    def __init__(self, filterSize, filterCount, classesCount, padTokenEmb):\n",
    "        super(ConvolutionClassifier, self).__init__()\n",
    "        self.filterSize = filterSize\n",
    "        # convolution of the input\n",
    "        self.paddedTokenEmb = padTokenEmb\n",
    "        self.convolution = torch.nn.Conv1d(in_channels=input_size, out_channels=filterCount, kernel_size=filterSize)\n",
    "        self.dropout = torch.nn.Dropout(0.5)\n",
    "        self.classProjection = torch.nn.Linear(filterCount,classesCount)\n",
    "\n",
    "    def preparePaddedBatch(self, source):\n",
    "        device = next(self.parameters()).device\n",
    "        m = max(max(len(s) for s in source), self.filterSize)\n",
    "        sents_padded = np.array([ np.vstack([s] + (m-len(s))*[self.paddedTokenEmb]) for s in source])\n",
    "        return torch.tensor(sents_padded, device=device)\n",
    "\n",
    "    def forward(self, source):\n",
    "        X = self.preparePaddedBatch(source)\n",
    "        E = torch.transpose(X,1,2)\n",
    "        ### Очаква се Е да е тензор с размер (batch_size, embed_size, max_sent_len)\n",
    "\n",
    "        U,_ = torch.max(self.convolution(E.type(torch.float32)), dim=2)\n",
    "        Z = self.classProjection(self.dropout(U))\n",
    "        return Z\n",
    "\n",
    "    def fit(self, X, Y):\n",
    "        self.convolution.reset_parameters()\n",
    "        self.classProjection.reset_parameters()\n",
    "        optimizer = torch.optim.Adam(self.parameters(), lr=0.01, weight_decay=0.0002)\n",
    "        idx = np.arange(len(X), dtype='int32')\n",
    "        self.train()\n",
    "        for epoch in range(10):\n",
    "            np.random.shuffle(idx)\n",
    "            for b in range(0, len(idx), batch_size):\n",
    "                batch = [ X[i] for i in idx[b:min(b+batch_size, len(idx))] ]\n",
    "                Y = np.array(Y)\n",
    "                target = torch.tensor(Y[idx[b:min(b+batch_size, len(idx))]], dtype = torch.long, device = device)\n",
    "\n",
    "                Z = self.forward(batch)\n",
    "                H = torch.nn.functional.cross_entropy(Z,target)\n",
    "\n",
    "                optimizer.zero_grad()\n",
    "                H.backward()\n",
    "                optimizer.step()\n",
    "        self.eval()"
   ]
  },
  {
   "cell_type": "markdown",
   "metadata": {},
   "source": [
    "Sub word embedding after spell checking"
   ]
  },
  {
   "cell_type": "code",
   "execution_count": 7,
   "metadata": {},
   "outputs": [
    {
     "name": "stdout",
     "output_type": "stream",
     "text": [
      "Loading dictionary...\n",
      "Processing dictionary...\n",
      "Copied 165258 words to master dictionary...\n",
      "Copied 1118365 hashes to master dictionary...\n"
     ]
    }
   ],
   "source": [
    "sub_word_embedding = get_sub_word_tokenization_embedding(input_size, spell_corection=True)"
   ]
  },
  {
   "cell_type": "code",
   "execution_count": 16,
   "metadata": {},
   "outputs": [
    {
     "name": "stdout",
     "output_type": "stream",
     "text": [
      "3221 2717\n",
      "3259 2702\n",
      "3265 2694\n",
      "3288 2685\n",
      "3278 2695\n",
      "3311 2675\n",
      "3185 2724\n",
      "2845 2845\n",
      "2994 2785\n",
      "3191 2727\n",
      "3526 3021\n",
      "Precision: 0.38251366120218583\n",
      "Recall: 0.15086206896551724\n",
      "F1-score: 0.21638330757341576\n",
      "Confusion Matrix:\n",
      "                Predicted p Predicted n\n",
      "Actual p          11.053   62.211\n",
      "Actual n          17.842  141.474\n"
     ]
    },
    {
     "data": {
      "text/plain": [
       "0.21638330757341576"
      ]
     },
     "execution_count": 16,
     "metadata": {},
     "output_type": "execute_result"
    }
   ],
   "source": [
    "print_test_model(*k_cross_validation(\n",
    "    ConvolutionClassifier(5, 400, 2, sub_word_embedding('[pad]')).to(device),\n",
    "    supervised_comments,\n",
    "    sub_word_embedding,\n",
    "    window_size=5,\n",
    "    k=10,\n",
    "    balanced_classes=True,\n",
    "    p_n_rate=1\n",
    "))"
   ]
  },
  {
   "cell_type": "markdown",
   "metadata": {},
   "source": [
    "Sub word embedding"
   ]
  },
  {
   "cell_type": "code",
   "execution_count": 17,
   "metadata": {},
   "outputs": [],
   "source": [
    "sub_word_embedding = get_sub_word_tokenization_embedding(input_size, spell_corection=False)"
   ]
  },
  {
   "cell_type": "code",
   "execution_count": 18,
   "metadata": {},
   "outputs": [
    {
     "name": "stdout",
     "output_type": "stream",
     "text": [
      "3221 2717\n",
      "3259 2702\n",
      "3265 2694\n",
      "3288 2685\n",
      "3278 2695\n",
      "3311 2675\n",
      "3185 2724\n",
      "2845 2845\n",
      "2994 2785\n",
      "3191 2727\n",
      "3526 3021\n",
      "Precision: 0.34802158273381295\n",
      "Recall: 0.2780172413793104\n",
      "F1-score: 0.30910543130990414\n",
      "Confusion Matrix:\n",
      "                Predicted p Predicted n\n",
      "Actual p          20.368   52.895\n",
      "Actual n          38.158  121.158\n"
     ]
    },
    {
     "data": {
      "text/plain": [
       "0.30910543130990414"
      ]
     },
     "execution_count": 18,
     "metadata": {},
     "output_type": "execute_result"
    }
   ],
   "source": [
    "print_test_model(*k_cross_validation(ConvolutionClassifier(5, 400, 2, sub_word_embedding('[pad]')).to(device),\n",
    "    supervised_comments,\n",
    "    sub_word_embedding,\n",
    "    window_size=5,\n",
    "    k=10,\n",
    "    balanced_classes=True,\n",
    "    p_n_rate=1\n",
    "))"
   ]
  },
  {
   "cell_type": "markdown",
   "metadata": {},
   "source": [
    "Noise dampening embedding"
   ]
  },
  {
   "cell_type": "code",
   "execution_count": 19,
   "metadata": {},
   "outputs": [],
   "source": [
    "noise_dampening_embedding = get_noise_dampening_embedding(input_size, 'cuda')"
   ]
  },
  {
   "cell_type": "code",
   "execution_count": 20,
   "metadata": {},
   "outputs": [
    {
     "name": "stdout",
     "output_type": "stream",
     "text": [
      "3221 2717\n",
      "3259 2702\n",
      "3265 2694\n",
      "3288 2685\n",
      "3278 2695\n",
      "3311 2675\n",
      "3185 2724\n",
      "2845 2845\n",
      "2994 2785\n",
      "3191 2727\n",
      "3526 3021\n",
      "Precision: 0.3035143769968051\n",
      "Recall: 0.4094827586206896\n",
      "F1-score: 0.3486238532110092\n",
      "Confusion Matrix:\n",
      "                Predicted p Predicted n\n",
      "Actual p          30.000   43.263\n",
      "Actual n          68.842   90.474\n"
     ]
    },
    {
     "data": {
      "text/plain": [
       "0.3486238532110092"
      ]
     },
     "execution_count": 20,
     "metadata": {},
     "output_type": "execute_result"
    }
   ],
   "source": [
    "print_test_model(*k_cross_validation(ConvolutionClassifier(5, 400, 2, noise_dampening_embedding('[pad]')).to(device),\n",
    "    supervised_comments,\n",
    "    sub_word_embedding,\n",
    "    window_size=5,\n",
    "    k=10,\n",
    "    balanced_classes=True,\n",
    "    p_n_rate=1\n",
    "))"
   ]
  },
  {
   "cell_type": "markdown",
   "metadata": {},
   "source": [
    "Fast text embedding"
   ]
  },
  {
   "cell_type": "code",
   "execution_count": 21,
   "metadata": {},
   "outputs": [],
   "source": [
    "fast_text_embedding = get_fast_text_embedding()"
   ]
  },
  {
   "cell_type": "code",
   "execution_count": 22,
   "metadata": {},
   "outputs": [
    {
     "name": "stdout",
     "output_type": "stream",
     "text": [
      "3221 2717\n",
      "3259 2702\n",
      "3265 2694\n",
      "3288 2685\n",
      "3278 2695\n",
      "3311 2675\n",
      "3185 2724\n",
      "2845 2845\n",
      "2994 2785\n",
      "3191 2727\n",
      "3526 3021\n",
      "Precision: 0.30225711481844947\n",
      "Recall: 0.2212643678160919\n",
      "F1-score: 0.25549564496059723\n",
      "Confusion Matrix:\n",
      "                Predicted p Predicted n\n",
      "Actual p          16.211   57.053\n",
      "Actual n          37.421  121.895\n"
     ]
    },
    {
     "data": {
      "text/plain": [
       "0.25549564496059723"
      ]
     },
     "execution_count": 22,
     "metadata": {},
     "output_type": "execute_result"
    }
   ],
   "source": [
    "print_test_model(*k_cross_validation(ConvolutionClassifier(5, 400, 2, fast_text_embedding('[pad]')).to(device),\n",
    "    supervised_comments,\n",
    "    sub_word_embedding,\n",
    "    window_size=5,\n",
    "    k=10,\n",
    "    balanced_classes=True,\n",
    "    p_n_rate=1\n",
    "))"
   ]
  }
 ],
 "metadata": {
  "kernelspec": {
   "display_name": "tii",
   "language": "python",
   "name": "python3"
  },
  "language_info": {
   "codemirror_mode": {
    "name": "ipython",
    "version": 3
   },
   "file_extension": ".py",
   "mimetype": "text/x-python",
   "name": "python",
   "nbconvert_exporter": "python",
   "pygments_lexer": "ipython3",
   "version": "3.11.5"
  }
 },
 "nbformat": 4,
 "nbformat_minor": 2
}
