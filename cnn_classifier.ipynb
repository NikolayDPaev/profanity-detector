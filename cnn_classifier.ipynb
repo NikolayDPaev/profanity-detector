{
 "cells": [
  {
   "cell_type": "code",
   "execution_count": 15,
   "metadata": {},
   "outputs": [],
   "source": [
    "import torch\n",
    "import torch.nn as nn\n",
    "import numpy as np\n",
    "from tokenizers import Tokenizer\n",
    "from preprocessing import cyrillize, pattern\n",
    "from sklearn.decomposition import TruncatedSVD\n",
    "from nltk.tokenize import regexp_tokenize\n",
    "\n",
    "import json\n",
    "import random\n",
    "from math import floor"
   ]
  },
  {
   "cell_type": "code",
   "execution_count": 2,
   "metadata": {},
   "outputs": [],
   "source": [
    "with open('data/blitz_comments.json', 'r', encoding=\"utf-8\") as f:\n",
    "    supervised_comments = [{'comment': cyrillize(d['comment']), 'label': d['label']} for d in json.load(f) if 'label' in d]"
   ]
  },
  {
   "cell_type": "code",
   "execution_count": 3,
   "metadata": {},
   "outputs": [],
   "source": [
    "def get_sub_word_tokenization_embedding(dim=100):\n",
    "    tokenizer = Tokenizer.from_file(\"data/tokenizer_comments.json\")\n",
    "    token2ind = tokenizer.get_vocab()\n",
    "    ind2token = lambda x: tokenizer.id_to_token(x)\n",
    "\n",
    "    with open('data/unsupervised_comments.json', 'r', encoding=\"utf-8\") as f:\n",
    "        unsupervised_comments = json.load(f)\n",
    "\n",
    "    tokenized_unsupervised_comments = [tokenizer.encode(c).tokens for c in unsupervised_comments]\n",
    "\n",
    "    n_words = tokenizer.get_vocab_size()\n",
    "    X=np.zeros((n_words,n_words))\n",
    "    for s in [\"[UNK]\", \"[PAD]\", \"[STR]\", \"[END]\"]:\n",
    "        X[token2ind[s], token2ind[s]] = 1\n",
    "    for comment in tokenized_unsupervised_comments:\n",
    "        for wi in range(len(comment)):\n",
    "            if comment[wi] not in token2ind: continue\n",
    "            i=token2ind[comment[wi]]\n",
    "            for k in range(1,4+1):\n",
    "                if wi-k>=0 and comment[wi-k] in token2ind:\n",
    "                    j=token2ind[comment[wi-k]]\n",
    "                    X[i,j] += 1\n",
    "                if wi+k<len(comment) and comment[wi+k] in token2ind:\n",
    "                    j=token2ind[comment[wi+k]]\n",
    "                    X[i,j] += 1\n",
    "\n",
    "    svd = TruncatedSVD(n_components=dim, n_iter=10)\n",
    "    svd.fit(X)\n",
    "    X_reduced = svd.transform(X)\n",
    "\n",
    "    return lambda comment: np.stack([X_reduced[token2ind[token]] for token in tokenizer.encode(comment).tokens])"
   ]
  },
  {
   "cell_type": "code",
   "execution_count": 9,
   "metadata": {},
   "outputs": [],
   "source": [
    "def get_noise_dampening_embedding(dim, device):\n",
    "    class EncoderRNN(nn.Module):\n",
    "        def __init__(self, input_size, hidden_size, dropout_p=0.1):\n",
    "            super(EncoderRNN, self).__init__()\n",
    "            self.hidden_size = hidden_size\n",
    "\n",
    "            self.embedding = nn.Embedding(input_size, hidden_size)\n",
    "            self.gru = nn.GRU(hidden_size, hidden_size, batch_first=True)\n",
    "            self.dropout = nn.Dropout(dropout_p)\n",
    "\n",
    "        def forward(self, input):\n",
    "            embedded = self.dropout(self.embedding(input))\n",
    "            output, hidden = self.gru(embedded)\n",
    "            return output, hidden\n",
    "\n",
    "        def save(self, filepath):\n",
    "            torch.save(self.state_dict(), filepath)\n",
    "\n",
    "        @classmethod\n",
    "        def load(cls, filepath, input_size, hidden_size, dropout_p=0.1):\n",
    "            model = cls(input_size, hidden_size, dropout_p)\n",
    "            model.load_state_dict(torch.load(filepath))\n",
    "            return model\n",
    "\n",
    "    SOW_token = '\u0002'\n",
    "    EOW_token = '\u0003'\n",
    "    UNK_token = '�'\n",
    "\n",
    "    alphabet_for_generation = 'абвгдежзийклмнопрстуфхцчшщьъюяabcdefghijklmnopqrstuvwxyz!@#$%^&*()-_=+[]\\';.,/`~\"<>|1234567890'\n",
    "    alphabet = alphabet_for_generation\n",
    "    alphabet += SOW_token\n",
    "    alphabet += EOW_token\n",
    "    alphabet += UNK_token\n",
    "\n",
    "    char2ind = {}\n",
    "    for i, c in enumerate(alphabet):\n",
    "        char2ind[c] = i\n",
    "\n",
    "    def indexesFromWord(word):\n",
    "        return [(char2ind[c] if c in char2ind else char2ind[UNK_token]) for c in word]\n",
    "\n",
    "    def tensorFromWord(word):\n",
    "        indexes = indexesFromWord(word)\n",
    "        indexes.append(char2ind[EOW_token])\n",
    "        return torch.tensor(indexes, dtype=torch.long, device=device).view(1, -1)\n",
    "\n",
    "    encoder = EncoderRNN.load(\"data/embedding_encoder_100_000_smaller_alphabet.pth\", 96, 128)\n",
    "    encoder.to(device)\n",
    "    encoder.eval()\n",
    "\n",
    "    def embedding(word):\n",
    "        if word == '[PAD]':\n",
    "            return torch.zeros(1, 1, 128)\n",
    "        with torch.no_grad():\n",
    "            input_tensor = tensorFromWord(word)\n",
    "            _, encoder_hidden = encoder(input_tensor)\n",
    "        return encoder_hidden\n",
    "\n",
    "    # reducing dims with svd on the unsupervised comments\n",
    "    with open('data/unsupervised_comments.json', 'r', encoding=\"utf-8\") as f:\n",
    "        unsupervised_comments = json.load(f)\n",
    "    vocabulary = set([t for comment in unsupervised_comments for t in regexp_tokenize(comment, pattern)])\n",
    "    X = np.vstack([embedding(t).cpu().flatten() for t in vocabulary])\n",
    "    svd = TruncatedSVD(n_components=dim, n_iter=10)\n",
    "    svd.fit(X)\n",
    "\n",
    "    def comment_embedding(comment):\n",
    "        tokens = [\n",
    "            normalize(svd.transform(embedding(word).cpu().flatten(end_dim=1)).flatten())\n",
    "            for word in regexp_tokenize(comment, pattern)\n",
    "        ]\n",
    "        if len(tokens) != 0:\n",
    "            return np.vstack(tokens)\n",
    "        return []\n",
    "\n",
    "    return comment_embedding"
   ]
  },
  {
   "cell_type": "code",
   "execution_count": 4,
   "metadata": {},
   "outputs": [],
   "source": [
    "def gamma(model, embedding, s, window_size):\n",
    "    with torch.no_grad():\n",
    "        s = embedding(s)\n",
    "        for _ in range(len(s), window_size):\n",
    "            s = np.vstack([s, embedding('[PAD]')[0]])\n",
    "        Z = model([s])\n",
    "        return torch.argmax(Z[0]).item()\n",
    "\n",
    "def test_model(model, embedding, testing_set, window_size):\n",
    "    tp, fn, fp, tn = 0, 0, 0, 0\n",
    "    for comment in testing_set:\n",
    "        if gamma(model, embedding, comment['comment'], window_size):\n",
    "            if comment['label'] == 'p':\n",
    "                tp += 1\n",
    "            else:\n",
    "                fp += 1\n",
    "        else:\n",
    "            if comment['label'] == 'p':\n",
    "                fn += 1\n",
    "            else:\n",
    "                tn += 1\n",
    "    return tp, fn, fp, tn\n",
    "\n",
    "def print_test_model(tp, fn, fp, tn):\n",
    "    precision = tp/(tp + fp)\n",
    "    recall = tp/(tp + fn)\n",
    "    Fscore = (2.0 * precision * recall) / (precision + recall)\n",
    "    print('Precision: '+str(precision))\n",
    "    print('Recall: '+str(recall))\n",
    "    print('F1-score: '+str(Fscore))\n",
    "    print('Confusion Matrix:')\n",
    "    print('{:15} {:>8} {:>8}'.format('', 'Predicted p', 'Predicted n'))\n",
    "    print('{:15} {:>8.3f} {:>8.3f}'.format('Actual p', tp, fn))\n",
    "    print('{:15} {:>8.3f} {:>8.3f}'.format('Actual n', fp, tn))\n",
    "    return Fscore\n",
    "\n",
    "def k_cross_validation(model, supervised_comments, embedding, window_size, k, balanced_classes: bool = False, p_n_rate = 1.0):\n",
    "    n = len(supervised_comments)\n",
    "    m = n//k\n",
    "    t = n//m + n%m\n",
    "\n",
    "    tps, fns, fps, tns = 0, 0, 0, 0\n",
    "\n",
    "    for i in range(0, n, m):\n",
    "        test_records = supervised_comments[i:i+m]\n",
    "        train_records = supervised_comments[0:i] + supervised_comments[i+m:n]\n",
    "        training_set = [\n",
    "            (embedding(comment['comment']), 0 if comment['label'] == 'n' else 1)\n",
    "            for comment in train_records\n",
    "        ]\n",
    "        positive_train = [a for a in training_set if a[1] == 1]\n",
    "        negative_train = [a for a in training_set if a[1] == 0]\n",
    "        train_sampled_data = positive_train + negative_train\n",
    "        if balanced_classes:\n",
    "            train_sampled_data = negative_train\n",
    "            train_sampled_data += random.choices(positive_train, k=floor(p_n_rate*len(positive_train)))\n",
    "\n",
    "        train_x, train_y = [a[0] for a in train_sampled_data], [a[1] for a in train_sampled_data]\n",
    "        model.fit(train_x, train_y)\n",
    "\n",
    "        tp, fn, fp, tn = test_model(model, embedding, test_records, window_size)\n",
    "        tps += tp\n",
    "        fns += fn\n",
    "        fps += fp\n",
    "        tns += tn\n",
    "\n",
    "    return tps/t, fns/t, fps/t, tns/t"
   ]
  },
  {
   "cell_type": "code",
   "execution_count": 5,
   "metadata": {},
   "outputs": [],
   "source": [
    "batch_size = 32\n",
    "input_size = 100\n",
    "device = 'cuda'\n",
    "\n",
    "embedding = get_sub_word_tokenization_embedding(input_size)"
   ]
  },
  {
   "cell_type": "code",
   "execution_count": 6,
   "metadata": {},
   "outputs": [],
   "source": [
    "class ConvolutionClassifier(torch.nn.Module):\n",
    "    def __init__(self, filterSize, filterCount, classesCount, padTokenEmb):\n",
    "        super(ConvolutionClassifier, self).__init__()\n",
    "        # convolution of the input\n",
    "        self.paddedTokenEmb = padTokenEmb\n",
    "        self.convolution = torch.nn.Conv1d(in_channels=input_size, out_channels=filterCount, kernel_size=filterSize)\n",
    "        self.dropout = torch.nn.Dropout(0.5)\n",
    "        self.classProjection = torch.nn.Linear(filterCount,classesCount)\n",
    "\n",
    "    def preparePaddedBatch(self, source):\n",
    "        device = next(self.parameters()).device\n",
    "        m = max(len(s) for s in source)\n",
    "        sents_padded = [ np.vstack([s] + (m-len(s))*[self.paddedTokenEmb]) for s in source ]\n",
    "        return torch.tensor(sents_padded, dtype=torch.long, device=device)\n",
    "\n",
    "    def forward(self, source):\n",
    "        X = self.preparePaddedBatch(source)\n",
    "        E = torch.transpose(X,1,2)\n",
    "        ### Очаква се Е да е тензор с размер (batch_size, embed_size, max_sent_len)\n",
    "\n",
    "        U,_ = torch.max(self.convolution(E.type(torch.float32)), dim=2)\n",
    "        Z = self.classProjection(self.dropout(U))\n",
    "        return Z\n",
    "\n",
    "    def fit(self, X, Y):\n",
    "        self.convolution.reset_parameters()\n",
    "        self.classProjection.reset_parameters()\n",
    "        optimizer = torch.optim.Adam(self.parameters(), lr=0.01, weight_decay=0.0002)\n",
    "        idx = np.arange(len(X), dtype='int32')\n",
    "        self.train()\n",
    "        for epoch in range(10):\n",
    "            np.random.shuffle(idx)\n",
    "            for b in range(0, len(idx), batch_size):\n",
    "                batch = [ X[i] for i in idx[b:min(b+batch_size, len(idx))] ]\n",
    "                Y = np.array(Y)\n",
    "                target = torch.tensor(Y[idx[b:min(b+batch_size, len(idx))]], dtype = torch.long, device = device)\n",
    "\n",
    "                Z = self.forward(batch)\n",
    "                H = torch.nn.functional.cross_entropy(Z,target)\n",
    "\n",
    "                optimizer.zero_grad()\n",
    "                H.backward()\n",
    "                optimizer.step()\n",
    "                # if b % 10 == 0:\n",
    "                #     print(b, '/', len(idx), H.item())\n",
    "        self.eval()"
   ]
  },
  {
   "cell_type": "code",
   "execution_count": 7,
   "metadata": {},
   "outputs": [
    {
     "name": "stderr",
     "output_type": "stream",
     "text": [
      "C:\\Users\\nikip\\AppData\\Local\\Temp\\ipykernel_9792\\2116385268.py:14: UserWarning: Creating a tensor from a list of numpy.ndarrays is extremely slow. Please consider converting the list to a single numpy.ndarray with numpy.array() before converting to a tensor. (Triggered internally at C:\\cb\\pytorch_1000000000000\\work\\torch\\csrc\\utils\\tensor_new.cpp:264.)\n",
      "  return torch.tensor(sents_padded, dtype=torch.long, device=device)\n"
     ]
    },
    {
     "name": "stdout",
     "output_type": "stream",
     "text": [
      "Precision: 0.23852573018080672\n",
      "Recall: 0.3416334661354582\n",
      "F1-score: 0.28091728091728096\n",
      "Confusion Matrix:\n",
      "                Predicted p Predicted n\n",
      "Actual p          18.053   34.789\n",
      "Actual n          57.632   68.421\n"
     ]
    },
    {
     "data": {
      "text/plain": [
       "0.28091728091728096"
      ]
     },
     "execution_count": 7,
     "metadata": {},
     "output_type": "execute_result"
    }
   ],
   "source": [
    "classModel = ConvolutionClassifier(5, 400, 2, embedding('[PAD]')).to(device)\n",
    "print_test_model(*k_cross_validation(classModel, supervised_comments, embedding, window_size=5, k=10, balanced_classes=True, p_n_rate=1))"
   ]
  },
  {
   "cell_type": "code",
   "execution_count": 8,
   "metadata": {},
   "outputs": [
    {
     "name": "stdout",
     "output_type": "stream",
     "text": [
      "Precision: 0.7444589308996088\n",
      "Recall: 0.22749003984063745\n",
      "F1-score: 0.3484894720781202\n",
      "Confusion Matrix:\n",
      "                Predicted p Predicted n\n",
      "Actual p          38.067  129.267\n",
      "Actual n          13.067  146.600\n"
     ]
    },
    {
     "data": {
      "text/plain": [
       "0.3484894720781202"
      ]
     },
     "execution_count": 8,
     "metadata": {},
     "output_type": "execute_result"
    }
   ],
   "source": [
    "with open('data/blitz_comments.json', 'r', encoding=\"utf-8\") as f:\n",
    "    examples = [{'comment': cyrillize(example), 'label': 'p'}\n",
    "                for comment in json.load(f)\n",
    "                if 'examples' in comment\n",
    "                for example in comment['examples']\n",
    "    ]\n",
    "\n",
    "supervised_comments_and_examples = supervised_comments + examples\n",
    "\n",
    "print_test_model(*k_cross_validation(classModel, supervised_comments_and_examples, embedding, window_size=5, k=10, balanced_classes=False))"
   ]
  },
  {
   "cell_type": "markdown",
   "metadata": {},
   "source": [
    "Noise dampening embedding"
   ]
  },
  {
   "cell_type": "code",
   "execution_count": 16,
   "metadata": {},
   "outputs": [],
   "source": [
    "embedding = get_noise_dampening_embedding(input_size, 'cuda')"
   ]
  },
  {
   "cell_type": "code",
   "execution_count": null,
   "metadata": {},
   "outputs": [],
   "source": [
    "classModel = ConvolutionClassifier(5, 400, 2, embedding('[PAD]')).to(device)\n",
    "print_test_model(*k_cross_validation(classModel, supervised_comments, embedding, window_size=5, k=10, balanced_classes=True, p_n_rate=1))"
   ]
  },
  {
   "cell_type": "code",
   "execution_count": null,
   "metadata": {},
   "outputs": [],
   "source": [
    "print_test_model(*k_cross_validation(classModel, supervised_comments_and_examples, embedding, window_size=5, k=10, balanced_classes=False))"
   ]
  }
 ],
 "metadata": {
  "kernelspec": {
   "display_name": "tii",
   "language": "python",
   "name": "python3"
  },
  "language_info": {
   "codemirror_mode": {
    "name": "ipython",
    "version": 3
   },
   "file_extension": ".py",
   "mimetype": "text/x-python",
   "name": "python",
   "nbconvert_exporter": "python",
   "pygments_lexer": "ipython3",
   "version": "3.11.5"
  }
 },
 "nbformat": 4,
 "nbformat_minor": 2
}
