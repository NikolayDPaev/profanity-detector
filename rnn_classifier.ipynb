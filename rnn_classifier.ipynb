{
 "cells": [
  {
   "cell_type": "code",
   "execution_count": 7,
   "metadata": {},
   "outputs": [],
   "source": [
    "import torch\n",
    "import torch.nn as nn\n",
    "import numpy as np\n",
    "from preprocessing import cyrillize\n",
    "\n",
    "from get_embeddings import get_noise_dampening_embedding, get_sub_word_tokenization_embedding, get_fast_text_embedding\n",
    "\n",
    "import json\n",
    "import random\n",
    "from math import floor"
   ]
  },
  {
   "cell_type": "markdown",
   "metadata": {},
   "source": [
    "# RNN classifier\n",
    "Comment is read and classified after every 'step' steps. <br>\n",
    "Training is done on segments with about 'step' length. "
   ]
  },
  {
   "cell_type": "code",
   "execution_count": 2,
   "metadata": {},
   "outputs": [],
   "source": [
    "with open('data/blitz_comments.json', 'r', encoding=\"utf-8\") as f:\n",
    "    supervised_comments = [{\n",
    "        'comment': cyrillize(d['comment']),\n",
    "        'label': d['label'],\n",
    "        'examples': [cyrillize(e) for e in d['examples']] if 'examples' in d else []\n",
    "    } for d in json.load(f) if 'label' in d]"
   ]
  },
  {
   "cell_type": "code",
   "execution_count": 3,
   "metadata": {},
   "outputs": [],
   "source": [
    "class RNNClassifier(torch.nn.Module):\n",
    "    def __init__(self, hidden_size, classes_count, device, dropout_p=0.1, batch_size=32):\n",
    "        super(RNNClassifier, self).__init__()\n",
    "        self.batch_size = batch_size\n",
    "        self.device = device\n",
    "        self.hidden_size = hidden_size\n",
    "        self.dropout = nn.Dropout(dropout_p)\n",
    "        self.lstmCell = nn.LSTMCell(hidden_size, hidden_size)\n",
    "        self.feedForward = torch.nn.Linear(hidden_size, hidden_size)\n",
    "        self.classProjection = torch.nn.Linear(hidden_size, classes_count)\n",
    "\n",
    "    def forward(self, seq):\n",
    "        batch_size = len(seq)\n",
    "        seq = torch.transpose(torch.tensor(seq, dtype=torch.float), 0, 1).to(self.device)\n",
    "        h = torch.zeros(batch_size, self.hidden_size, device = self.device)\n",
    "        c = torch.zeros(batch_size, self.hidden_size, device = self.device)\n",
    "        for t in seq:\n",
    "            h, c = self.lstmCell(t, (h, c))\n",
    "        h = self.feedForward(self.dropout(h))\n",
    "        z = self.classProjection(torch.nn.functional.relu(h))\n",
    "        return z\n",
    "\n",
    "    def classify(self, seq, time_stamp):\n",
    "        self.eval()\n",
    "        with torch.no_grad():\n",
    "            h = torch.zeros(self.hidden_size, device = self.device)\n",
    "            c = torch.zeros(self.hidden_size, device = self.device)\n",
    "            seq = torch.tensor(seq, dtype=torch.float).to(self.device)\n",
    "            for i, t in enumerate(seq):\n",
    "                h, c = self.lstmCell(t, (h, c))\n",
    "                if i+1 % time_stamp == 0:\n",
    "                    h = self.feedForward(self.dropout(h))\n",
    "                    z = self.classProjection(torch.nn.functional.relu(h))\n",
    "                    if torch.argmax(z).item() == 1:\n",
    "                        return True\n",
    "            h = self.feedForward(self.dropout(h))\n",
    "            z = self.classProjection(torch.nn.functional.relu(h))\n",
    "            if torch.argmax(z).item() == 1:\n",
    "                return True\n",
    "        return False\n",
    "\n",
    "    def reset_parameters(self):\n",
    "        self.lstmCell.reset_parameters()\n",
    "        self.feedForward.reset_parameters()\n",
    "        self.classProjection.reset_parameters()\n",
    "\n",
    "    def groupByLength(self, X, idx):\n",
    "        from collections import defaultdict\n",
    "\n",
    "        grouped_dict = defaultdict(lambda: [])\n",
    "        for id in idx:\n",
    "            length = len(X[id])\n",
    "            grouped_dict[length].append(id)\n",
    "        return grouped_dict\n",
    "\n",
    "    def fit(self, X, Y, epochs=5):\n",
    "        ''' X - embeddings of sentences.\n",
    "            All profane sentences must have their profanity at the end.\n",
    "            Y - classification of the sentences\n",
    "        '''\n",
    "        self.reset_parameters()\n",
    "        self.train()\n",
    "\n",
    "        optimizer = torch.optim.Adam(self.parameters(), lr=0.01, weight_decay=0.0002)\n",
    "        idx = np.arange(len(X), dtype='int32')\n",
    "        Y = np.array(Y)\n",
    "        for _ in range(epochs):\n",
    "            groups = list(self.groupByLength(X, idx).values())\n",
    "            random.shuffle(groups)\n",
    "            batches = [(\n",
    "                        [X[i] for i in group[b:min(b+self.batch_size, len(group))]],\n",
    "                        [Y[i] for i in group[b:min(b+self.batch_size, len(group))]]\n",
    "                    ) for group in groups\n",
    "                      for b in range(0, len(group), self.batch_size)]\n",
    "            random.shuffle(batches)\n",
    "            for x, y in batches:\n",
    "                batch = x\n",
    "                target = torch.tensor(y, dtype = torch.long, device = self.device)\n",
    "                Z = self.forward(batch)\n",
    "                H = torch.nn.functional.cross_entropy(Z,target)\n",
    "\n",
    "                optimizer.zero_grad()\n",
    "                H.backward()\n",
    "                optimizer.step()\n",
    "        self.eval()"
   ]
  },
  {
   "cell_type": "code",
   "execution_count": 4,
   "metadata": {},
   "outputs": [],
   "source": [
    "def gamma(model, embedded_s, step):\n",
    "    return model.classify(embedded_s, step)\n",
    "\n",
    "def test_model(model, embedding, testing_set, step):\n",
    "    tp, fn, fp, tn = 0, 0, 0, 0\n",
    "\n",
    "    for comment in testing_set:\n",
    "        embedded_s = embedding(comment['comment'])\n",
    "        if len(embedded_s) == 0:\n",
    "            continue\n",
    "        if gamma(model, embedded_s, step):\n",
    "            if comment['label'] == 'p':\n",
    "                tp += 1\n",
    "            else:\n",
    "                fp += 1\n",
    "        else:\n",
    "            if comment['label'] == 'p':\n",
    "                fn += 1\n",
    "            else:\n",
    "                tn += 1\n",
    "    return tp, fn, fp, tn\n",
    "\n",
    "def print_test_model(tp, fn, fp, tn):\n",
    "    precision = tp/(tp + fp)\n",
    "    recall = tp/(tp + fn)\n",
    "    Fscore = (2.0 * precision * recall) / (precision + recall)\n",
    "    print('Precision: '+str(precision))\n",
    "    print('Recall: '+str(recall))\n",
    "    print('F1-score: '+str(Fscore))\n",
    "    print('Confusion Matrix:')\n",
    "    print('{:15} {:>8} {:>8}'.format('', 'Predicted p', 'Predicted n'))\n",
    "    print('{:15} {:>8.3f} {:>8.3f}'.format('Actual p', tp, fn))\n",
    "    print('{:15} {:>8.3f} {:>8.3f}'.format('Actual n', fp, tn))\n",
    "    return Fscore\n",
    "\n",
    "def get_profanity_mask(comment: str, profanities: list[str]):\n",
    "    profanity_mask = [False for _ in comment]\n",
    "    for profanity in profanities:\n",
    "        index = comment.find(profanity)\n",
    "        if index == -1: continue\n",
    "        for i in range(index, index+len(profanity)):\n",
    "            profanity_mask[i] = True\n",
    "    return profanity_mask\n",
    "\n",
    "def get_non_whitespace_mask(comment: str):\n",
    "    non_whitespace_mask = [False for _ in comment]\n",
    "    for i, c in enumerate(comment):\n",
    "        if not c.isspace():\n",
    "            non_whitespace_mask[i] = True\n",
    "    return non_whitespace_mask\n",
    "\n",
    "def generate_sub_comments(comment: str, step: int, profanities: list[str]):\n",
    "    profanity_mask = get_profanity_mask(comment, profanities)\n",
    "    non_whitespace_mask = get_non_whitespace_mask(comment)\n",
    "    segments_mask = [a or b for (a, b) in zip(profanity_mask, non_whitespace_mask)]\n",
    "    parts = []\n",
    "    segments = []\n",
    "    current_segment = ''\n",
    "    segment_count = 0\n",
    "    current_part_profanity = 0\n",
    "    for char, is_segment, is_profanity in zip(comment, segments_mask, profanity_mask):\n",
    "        if is_segment:\n",
    "            current_segment += char\n",
    "            if is_profanity:\n",
    "                current_part_profanity = 1\n",
    "        else:\n",
    "            if current_segment:\n",
    "                segments.append(current_segment)\n",
    "                current_segment = ''\n",
    "                segment_count += 1\n",
    "\n",
    "        if segment_count == step:\n",
    "            parts.append((\" \".join(segments), current_part_profanity))\n",
    "            segments = []\n",
    "            current_segment = ''\n",
    "            current_part_profanity = 0\n",
    "            segment_count = 0\n",
    "\n",
    "    if current_segment:  # Add the remaining segment\n",
    "        segments.append(current_segment)\n",
    "        parts.append((\" \".join(segments), current_part_profanity))\n",
    "\n",
    "    return parts\n",
    "\n",
    "def k_cross_validation(model, supervised_comments, embedding, k, step, epochs, balanced_classes: bool = False, p_n_rate = 1.0):\n",
    "    n = len(supervised_comments)\n",
    "    random.shuffle(supervised_comments)\n",
    "    m = n//k\n",
    "    t = n//m + n%m\n",
    "\n",
    "    tps, fns, fps, tns = 0, 0, 0, 0\n",
    "\n",
    "    for i in range(0, n, m):\n",
    "        test_records = supervised_comments[i:i+m]\n",
    "        train_records = supervised_comments[0:i] + supervised_comments[i+m:n]\n",
    "        training_set = []\n",
    "        for comment in train_records:\n",
    "            training_set += [(embedding(c), p_flag) for c, p_flag in generate_sub_comments(comment['comment'], step, comment['examples'])]\n",
    "\n",
    "        positive_train = [a for a in training_set if a[1] == 1]\n",
    "        negative_train = [a for a in training_set if a[1] == 0]\n",
    "\n",
    "        if balanced_classes and len(positive_train) < floor(p_n_rate*len(negative_train)):\n",
    "            positive_train = random.choices(positive_train, k=floor(p_n_rate*len(negative_train)))\n",
    "        print(len(positive_train), len(negative_train))\n",
    "\n",
    "        train_sampled_data = positive_train + negative_train\n",
    "\n",
    "        train_x, train_y = [a[0] for a in train_sampled_data], [a[1] for a in train_sampled_data]\n",
    "        model.fit(train_x, train_y, epochs)\n",
    "\n",
    "        tp, fn, fp, tn = test_model(model, embedding, test_records, step)\n",
    "        print(f\"tp: {tp}, fn: {fn}, fp: {fp}, tn: {tn}\")\n",
    "        tps += tp\n",
    "        fns += fn\n",
    "        fps += fp\n",
    "        tns += tn\n",
    "\n",
    "    return tps/t, fns/t, fps/t, tns/t"
   ]
  },
  {
   "cell_type": "markdown",
   "metadata": {},
   "source": [
    "## Experiments"
   ]
  },
  {
   "cell_type": "code",
   "execution_count": 5,
   "metadata": {},
   "outputs": [],
   "source": [
    "batch_size = 32\n",
    "input_size = 100\n",
    "device = 'cuda'"
   ]
  },
  {
   "cell_type": "markdown",
   "metadata": {},
   "source": [
    "Finding hyperparameters"
   ]
  },
  {
   "cell_type": "code",
   "execution_count": 9,
   "metadata": {},
   "outputs": [],
   "source": [
    "classModel = RNNClassifier(100, 2, device).to(device)"
   ]
  },
  {
   "cell_type": "markdown",
   "metadata": {},
   "source": [
    "Sub words with context embedding after spell checking"
   ]
  },
  {
   "cell_type": "code",
   "execution_count": 7,
   "metadata": {},
   "outputs": [
    {
     "name": "stdout",
     "output_type": "stream",
     "text": [
      "Loading dictionary...\n",
      "Processing dictionary...\n",
      "Copied 165258 words to master dictionary...\n",
      "Copied 1118365 hashes to master dictionary...\n"
     ]
    }
   ],
   "source": [
    "sub_word_embedding_spell_checked = get_sub_word_tokenization_embedding(input_size, spell_corection=True)"
   ]
  },
  {
   "cell_type": "code",
   "execution_count": 68,
   "metadata": {},
   "outputs": [
    {
     "name": "stdout",
     "output_type": "stream",
     "text": [
      "3555 7111\n",
      "tp: 41, fn: 103, fp: 17, tn: 274\n",
      "3550 7100\n",
      "tp: 99, fn: 33, fp: 100, tn: 203\n",
      "3569 7138\n",
      "tp: 93, fn: 47, fp: 62, tn: 233\n",
      "3557 7115\n",
      "tp: 21, fn: 124, fp: 10, tn: 280\n",
      "3545 7090\n",
      "tp: 63, fn: 68, fp: 47, tn: 257\n",
      "3575 7150\n",
      "tp: 60, fn: 79, fp: 32, tn: 264\n",
      "3568 7137\n",
      "tp: 105, fn: 49, fp: 85, tn: 196\n",
      "3538 7076\n",
      "tp: 91, fn: 36, fp: 101, tn: 207\n",
      "3551 7102\n",
      "tp: 93, fn: 38, fp: 64, tn: 240\n",
      "3563 7126\n",
      "tp: 75, fn: 54, fp: 63, tn: 243\n",
      "Precision: 0.5605143721633888\n",
      "Recall: 0.5400874635568513\n",
      "F1-score: 0.5501113585746101\n",
      "Confusion Matrix:\n",
      "                Predicted p Predicted n\n",
      "Actual p          74.100   63.100\n",
      "Actual n          58.100  239.700\n"
     ]
    },
    {
     "data": {
      "text/plain": [
       "0.5501113585746101"
      ]
     },
     "execution_count": 68,
     "metadata": {},
     "output_type": "execute_result"
    }
   ],
   "source": [
    "print_test_model(*k_cross_validation(classModel, supervised_comments, sub_word_embedding_spell_checked, k=10, step=10, epochs=10, balanced_classes=True, p_n_rate=0.5))"
   ]
  },
  {
   "cell_type": "markdown",
   "metadata": {},
   "source": [
    "Best step size"
   ]
  },
  {
   "cell_type": "code",
   "execution_count": 9,
   "metadata": {},
   "outputs": [
    {
     "name": "stdout",
     "output_type": "stream",
     "text": [
      "33651 67303\n"
     ]
    },
    {
     "name": "stderr",
     "output_type": "stream",
     "text": [
      "C:\\Users\\nikip\\AppData\\Local\\Temp\\ipykernel_2336\\1113155533.py:14: UserWarning: Creating a tensor from a list of numpy.ndarrays is extremely slow. Please consider converting the list to a single numpy.ndarray with numpy.array() before converting to a tensor. (Triggered internally at C:\\cb\\pytorch_1000000000000\\work\\torch\\csrc\\utils\\tensor_new.cpp:264.)\n",
      "  seq = torch.transpose(torch.tensor(seq, dtype=torch.float), 0, 1).to(self.device)\n"
     ]
    },
    {
     "name": "stdout",
     "output_type": "stream",
     "text": [
      "tp: 139, fn: 2, fp: 280, tn: 20\n",
      "33587 67174\n",
      "tp: 149, fn: 1, fp: 264, tn: 27\n",
      "34224 68449\n",
      "tp: 139, fn: 1, fp: 261, tn: 40\n",
      "33874 67749\n",
      "tp: 132, fn: 0, fp: 289, tn: 20\n",
      "33821 67642\n",
      "tp: 140, fn: 2, fp: 277, tn: 22\n",
      "33442 66885\n",
      "tp: 143, fn: 0, fp: 288, tn: 10\n",
      "33849 67698\n",
      "tp: 115, fn: 2, fp: 298, tn: 26\n",
      "33858 67717\n",
      "tp: 133, fn: 0, fp: 298, tn: 10\n",
      "33741 67482\n",
      "tp: 129, fn: 0, fp: 294, tn: 18\n",
      "33850 67701\n",
      "tp: 157, fn: 2, fp: 265, tn: 17\n",
      "37490 74980\n",
      "tp: 6, fn: 0, fp: 3, tn: 0\n",
      "Precision: 0.3291259823767564\n",
      "Recall: 0.992816091954023\n",
      "F1-score: 0.49436594526918265\n",
      "Confusion Matrix:\n",
      "                Predicted p Predicted n\n",
      "Actual p          72.737    0.526\n",
      "Actual n         148.263   11.053\n",
      "16953 33906\n",
      "tp: 98, fn: 29, fp: 160, tn: 154\n",
      "17041 34082\n",
      "tp: 130, fn: 16, fp: 171, tn: 124\n",
      "16902 33804\n",
      "tp: 129, fn: 9, fp: 207, tn: 96\n",
      "16837 33675\n",
      "tp: 130, fn: 5, fp: 212, tn: 94\n",
      "17030 34060\n",
      "tp: 130, fn: 10, fp: 230, tn: 71\n",
      "16825 33650\n",
      "tp: 122, fn: 13, fp: 224, tn: 82\n",
      "16974 33949\n",
      "tp: 103, fn: 45, fp: 96, tn: 197\n",
      "16905 33810\n",
      "tp: 112, fn: 20, fp: 185, tn: 124\n",
      "17015 34030\n",
      "tp: 123, fn: 25, fp: 136, tn: 157\n",
      "16969 33938\n",
      "tp: 121, fn: 19, fp: 170, tn: 131\n",
      "18788 37576\n",
      "tp: 3, fn: 0, fp: 4, tn: 2\n",
      "Precision: 0.40086782376502006\n",
      "Recall: 0.8627873563218391\n",
      "F1-score: 0.5474020054694623\n",
      "Confusion Matrix:\n",
      "                Predicted p Predicted n\n",
      "Actual p          63.211   10.053\n",
      "Actual n          94.474   64.842\n",
      "11334 22668\n",
      "tp: 107, fn: 31, fp: 101, tn: 202\n",
      "11352 22704\n",
      "tp: 39, fn: 102, fp: 17, tn: 283\n",
      "11390 22781\n",
      "tp: 95, fn: 36, fp: 97, tn: 213\n",
      "11385 22770\n",
      "tp: 116, fn: 14, fp: 198, tn: 113\n",
      "11363 22727\n",
      "tp: 4, fn: 150, fp: 0, tn: 287\n",
      "11355 22711\n",
      "tp: 100, fn: 48, fp: 82, tn: 211\n",
      "11305 22611\n",
      "tp: 114, fn: 19, fp: 159, tn: 149\n",
      "11328 22656\n",
      "tp: 55, fn: 75, fp: 47, tn: 264\n",
      "11397 22795\n",
      "tp: 104, fn: 49, fp: 82, tn: 206\n",
      "11352 22704\n",
      "tp: 97, fn: 33, fp: 124, tn: 187\n",
      "12591 25183\n",
      "tp: 3, fn: 1, fp: 0, tn: 5\n",
      "Precision: 0.479035037334865\n",
      "Recall: 0.5991379310344828\n",
      "F1-score: 0.5323970635173956\n",
      "Confusion Matrix:\n",
      "                Predicted p Predicted n\n",
      "Actual p          43.895   29.368\n",
      "Actual n          47.737  111.579\n",
      "6901 13803\n",
      "tp: 100, fn: 30, fp: 124, tn: 187\n",
      "6905 13811\n",
      "tp: 114, fn: 46, fp: 106, tn: 175\n",
      "6903 13806\n",
      "tp: 54, fn: 96, fp: 16, tn: 275\n",
      "6910 13821\n",
      "tp: 89, fn: 47, fp: 65, tn: 240\n",
      "6894 13789\n",
      "tp: 74, fn: 62, fp: 58, tn: 247\n",
      "6867 13734\n",
      "tp: 101, fn: 28, fp: 103, tn: 209\n",
      "6901 13802\n",
      "tp: 21, fn: 131, fp: 4, tn: 285\n",
      "6876 13753\n",
      "tp: 120, fn: 16, fp: 196, tn: 109\n",
      "6882 13764\n",
      "tp: 111, fn: 22, fp: 142, tn: 166\n",
      "6860 13720\n",
      "tp: 82, fn: 47, fp: 66, tn: 246\n",
      "7633 15267\n",
      "tp: 1, fn: 0, fp: 5, tn: 3\n",
      "Precision: 0.49486301369863006\n",
      "Recall: 0.622844827586207\n",
      "F1-score: 0.5515267175572518\n",
      "Confusion Matrix:\n",
      "                Predicted p Predicted n\n",
      "Actual p          45.632   27.632\n",
      "Actual n          46.579  112.737\n",
      "5030 10061\n",
      "tp: 83, fn: 51, fp: 64, tn: 243\n",
      "5033 10067\n",
      "tp: 55, fn: 72, fp: 22, tn: 292\n",
      "5063 10126\n",
      "tp: 62, fn: 81, fp: 40, tn: 258\n",
      "5027 10055\n",
      "tp: 69, fn: 65, fp: 43, tn: 264\n",
      "4949 9898\n",
      "tp: 76, fn: 49, fp: 53, tn: 263\n",
      "5047 10094\n",
      "tp: 54, fn: 97, fp: 22, tn: 268\n",
      "5008 10017\n",
      "tp: 46, fn: 89, fp: 22, tn: 284\n",
      "5030 10060\n",
      "tp: 121, fn: 33, fp: 117, tn: 170\n",
      "5074 10148\n",
      "tp: 117, fn: 41, fp: 103, tn: 180\n",
      "5005 10011\n",
      "tp: 87, fn: 40, fp: 56, tn: 258\n",
      "5571 11143\n",
      "tp: 2, fn: 2, fp: 1, tn: 4\n",
      "Precision: 0.5870722433460076\n",
      "Recall: 0.5545977011494253\n",
      "F1-score: 0.5703731067602513\n",
      "Confusion Matrix:\n",
      "                Predicted p Predicted n\n",
      "Actual p          40.632   32.632\n",
      "Actual n          28.579  130.737\n",
      "3638 7276\n",
      "tp: 48, fn: 98, fp: 12, tn: 283\n",
      "3631 7262\n",
      "tp: 99, fn: 38, fp: 85, tn: 219\n",
      "3608 7217\n",
      "tp: 31, fn: 116, fp: 5, tn: 289\n",
      "3611 7222\n",
      "tp: 109, fn: 34, fp: 97, tn: 201\n",
      "3593 7186\n",
      "tp: 80, fn: 51, fp: 77, tn: 233\n",
      "3621 7242\n",
      "tp: 80, fn: 63, fp: 65, tn: 233\n",
      "3591 7183\n",
      "tp: 73, fn: 52, fp: 57, tn: 259\n",
      "3604 7208\n",
      "tp: 112, fn: 46, fp: 79, tn: 204\n",
      "3610 7220\n",
      "tp: 80, fn: 57, fp: 77, tn: 227\n",
      "3576 7152\n",
      "tp: 54, fn: 69, fp: 19, tn: 299\n",
      "4001 8002\n",
      "tp: 0, fn: 2, fp: 0, tn: 7\n",
      "Precision: 0.5720687079910382\n",
      "Recall: 0.550287356321839\n",
      "F1-score: 0.560966678872208\n",
      "Confusion Matrix:\n",
      "                Predicted p Predicted n\n",
      "Actual p          40.316   32.947\n",
      "Actual n          30.158  129.158\n",
      "2596 5193\n",
      "tp: 82, fn: 70, fp: 43, tn: 246\n",
      "2601 5202\n",
      "tp: 55, fn: 97, fp: 37, tn: 252\n",
      "2584 5168\n",
      "tp: 43, fn: 105, fp: 49, tn: 244\n",
      "2562 5125\n",
      "tp: 8, fn: 107, fp: 10, tn: 316\n",
      "2605 5210\n",
      "tp: 62, fn: 81, fp: 46, tn: 252\n",
      "2581 5163\n",
      "tp: 34, fn: 103, fp: 13, tn: 291\n",
      "2582 5165\n",
      "tp: 52, fn: 69, fp: 60, tn: 260\n",
      "2582 5164\n",
      "tp: 49, fn: 88, fp: 24, tn: 280\n",
      "2585 5170\n",
      "tp: 21, fn: 121, fp: 9, tn: 290\n",
      "2573 5146\n",
      "tp: 33, fn: 111, fp: 13, tn: 284\n",
      "2862 5724\n",
      "tp: 1, fn: 0, fp: 3, tn: 5\n",
      "Precision: 0.5890227576974565\n",
      "Recall: 0.3160919540229885\n",
      "F1-score: 0.4114071996259935\n",
      "Confusion Matrix:\n",
      "                Predicted p Predicted n\n",
      "Actual p          23.158   50.105\n",
      "Actual n          16.158  143.158\n",
      "2105 4210\n",
      "tp: 61, fn: 71, fp: 38, tn: 271\n",
      "2097 4194\n",
      "tp: 35, fn: 105, fp: 14, tn: 287\n",
      "2103 4206\n",
      "tp: 51, fn: 85, fp: 62, tn: 243\n",
      "2103 4207\n",
      "tp: 62, fn: 82, fp: 48, tn: 249\n",
      "2100 4200\n",
      "tp: 28, fn: 95, fp: 36, tn: 282\n",
      "2109 4219\n",
      "tp: 17, fn: 132, fp: 4, tn: 288\n",
      "2103 4206\n",
      "tp: 59, fn: 80, fp: 47, tn: 255\n",
      "2108 4216\n",
      "tp: 11, fn: 120, fp: 12, tn: 298\n",
      "2106 4212\n",
      "tp: 54, fn: 99, fp: 27, tn: 261\n",
      "2107 4214\n",
      "tp: 39, fn: 101, fp: 21, tn: 280\n",
      "2333 4666\n",
      "tp: 1, fn: 4, fp: 0, tn: 4\n",
      "Precision: 0.5749656121045392\n",
      "Recall: 0.30028735632183906\n",
      "F1-score: 0.3945257196790939\n",
      "Confusion Matrix:\n",
      "                Predicted p Predicted n\n",
      "Actual p          22.000   51.263\n",
      "Actual n          16.263  143.053\n"
     ]
    }
   ],
   "source": [
    "best_step = 1\n",
    "best_f1 = 0\n",
    "for step in [1, 2, 3, 5, 7, 10, 15, 20]:\n",
    "    f1 = print_test_model(*k_cross_validation(classModel, supervised_comments, sub_word_embedding_spell_checked, k=10, step=step, epochs=10, balanced_classes=True, p_n_rate=0.5))\n",
    "    if f1 > best_f1:\n",
    "        best_step = step\n",
    "        best_f1 = f1"
   ]
  },
  {
   "cell_type": "code",
   "execution_count": 10,
   "metadata": {},
   "outputs": [
    {
     "name": "stdout",
     "output_type": "stream",
     "text": [
      "7\n"
     ]
    }
   ],
   "source": [
    "print(best_step)"
   ]
  },
  {
   "cell_type": "markdown",
   "metadata": {},
   "source": [
    "Best p:n rate"
   ]
  },
  {
   "cell_type": "code",
   "execution_count": 11,
   "metadata": {},
   "outputs": [
    {
     "name": "stdout",
     "output_type": "stream",
     "text": [
      "3019 10065\n",
      "tp: 45, fn: 105, fp: 19, tn: 272\n",
      "3010 10034\n",
      "tp: 38, fn: 99, fp: 22, tn: 282\n",
      "3011 10038\n",
      "tp: 20, fn: 117, fp: 7, tn: 297\n",
      "3006 10023\n",
      "tp: 23, fn: 110, fp: 9, tn: 299\n",
      "2999 9999\n",
      "tp: 9, fn: 131, fp: 7, tn: 294\n",
      "3012 10043\n",
      "tp: 66, fn: 69, fp: 59, tn: 247\n",
      "3020 10069\n",
      "tp: 81, fn: 61, fp: 71, tn: 228\n",
      "3013 10044\n",
      "tp: 11, fn: 116, fp: 7, tn: 307\n",
      "3019 10066\n",
      "tp: 58, fn: 82, fp: 54, tn: 247\n",
      "3046 10155\n",
      "tp: 42, fn: 107, fp: 19, tn: 273\n",
      "3343 11144\n",
      "tp: 1, fn: 1, fp: 0, tn: 7\n",
      "Precision: 0.5898203592814372\n",
      "Recall: 0.2830459770114942\n",
      "F1-score: 0.38252427184466015\n",
      "Confusion Matrix:\n",
      "                Predicted p Predicted n\n",
      "Actual p          20.737   52.526\n",
      "Actual n          14.421  144.895\n",
      "4017 10044\n",
      "tp: 68, fn: 68, fp: 70, tn: 235\n",
      "4004 10010\n",
      "tp: 45, fn: 69, fp: 18, tn: 309\n",
      "4022 10056\n",
      "tp: 65, fn: 84, fp: 41, tn: 251\n",
      "4021 10054\n",
      "tp: 82, fn: 58, fp: 54, tn: 247\n",
      "4026 10065\n",
      "tp: 100, fn: 39, fp: 87, tn: 215\n",
      "4031 10079\n",
      "tp: 51, fn: 86, fp: 33, tn: 271\n",
      "4025 10064\n",
      "tp: 92, fn: 52, fp: 72, tn: 225\n",
      "3995 9988\n",
      "tp: 29, fn: 113, fp: 7, tn: 292\n",
      "4039 10099\n",
      "tp: 67, fn: 72, fp: 44, tn: 258\n",
      "4030 10076\n",
      "tp: 99, fn: 53, fp: 67, tn: 222\n",
      "4458 11145\n",
      "tp: 0, fn: 0, fp: 3, tn: 6\n",
      "Precision: 0.5845896147403685\n",
      "Recall: 0.5014367816091954\n",
      "F1-score: 0.539829853054911\n",
      "Confusion Matrix:\n",
      "                Predicted p Predicted n\n",
      "Actual p          36.737   36.526\n",
      "Actual n          26.105  133.211\n",
      "5038 10076\n",
      "tp: 76, fn: 71, fp: 61, tn: 233\n",
      "5033 10067\n",
      "tp: 81, fn: 76, fp: 38, tn: 246\n",
      "5023 10046\n",
      "tp: 71, fn: 59, fp: 54, tn: 257\n",
      "5007 10014\n",
      "tp: 103, fn: 20, fp: 154, tn: 164\n",
      "5032 10064\n",
      "tp: 77, fn: 58, fp: 67, tn: 239\n",
      "5034 10068\n",
      "tp: 109, fn: 39, fp: 98, tn: 195\n",
      "5052 10104\n",
      "tp: 99, fn: 27, fp: 81, tn: 234\n",
      "5040 10080\n",
      "tp: 98, fn: 33, fp: 169, tn: 141\n",
      "5008 10017\n",
      "tp: 69, fn: 77, fp: 25, tn: 270\n",
      "5004 10008\n",
      "tp: 95, fn: 52, fp: 82, tn: 212\n",
      "5568 11136\n",
      "tp: 1, fn: 1, fp: 3, tn: 4\n",
      "Precision: 0.5137346580946814\n",
      "Recall: 0.6314655172413792\n",
      "F1-score: 0.5665485014502093\n",
      "Confusion Matrix:\n",
      "                Predicted p Predicted n\n",
      "Actual p          46.263   27.000\n",
      "Actual n          43.789  115.526\n",
      "5995 9992\n",
      "tp: 77, fn: 48, fp: 59, tn: 257\n",
      "6042 10071\n",
      "tp: 85, fn: 56, fp: 53, tn: 247\n",
      "6024 10040\n",
      "tp: 111, fn: 21, fp: 121, tn: 188\n",
      "6046 10077\n",
      "tp: 98, fn: 44, fp: 96, tn: 203\n",
      "6055 10093\n",
      "tp: 94, fn: 35, fp: 119, tn: 193\n",
      "6011 10019\n",
      "tp: 69, fn: 63, fp: 41, tn: 268\n",
      "6034 10057\n",
      "tp: 95, fn: 58, fp: 86, tn: 202\n",
      "6076 10127\n",
      "tp: 106, fn: 42, fp: 84, tn: 209\n",
      "6004 10008\n",
      "tp: 66, fn: 73, fp: 45, tn: 257\n",
      "6030 10050\n",
      "tp: 122, fn: 26, fp: 114, tn: 179\n",
      "6687 11146\n",
      "tp: 2, fn: 1, fp: 3, tn: 3\n",
      "Precision: 0.5297823596792669\n",
      "Recall: 0.6645114942528736\n",
      "F1-score: 0.5895474824729127\n",
      "Confusion Matrix:\n",
      "                Predicted p Predicted n\n",
      "Actual p          48.684   24.579\n",
      "Actual n          43.211  116.105\n",
      "7028 10041\n",
      "tp: 96, fn: 45, fp: 77, tn: 223\n",
      "7004 10007\n",
      "tp: 75, fn: 67, fp: 76, tn: 223\n",
      "6998 9998\n",
      "tp: 85, fn: 30, fp: 103, tn: 223\n",
      "7053 10077\n",
      "tp: 102, fn: 37, fp: 88, tn: 214\n",
      "7063 10090\n",
      "tp: 95, fn: 39, fp: 98, tn: 209\n",
      "7028 10040\n",
      "tp: 112, fn: 30, fp: 135, tn: 164\n",
      "7072 10103\n",
      "tp: 105, fn: 47, fp: 76, tn: 213\n",
      "7040 10058\n",
      "tp: 102, fn: 32, fp: 108, tn: 199\n",
      "7039 10056\n",
      "tp: 133, fn: 25, fp: 114, tn: 169\n",
      "7049 10071\n",
      "tp: 94, fn: 40, fp: 66, tn: 241\n",
      "7797 11139\n",
      "tp: 0, fn: 1, fp: 1, tn: 7\n",
      "Precision: 0.5146831530139103\n",
      "Recall: 0.7176724137931034\n",
      "F1-score: 0.5994599459945994\n",
      "Confusion Matrix:\n",
      "                Predicted p Predicted n\n",
      "Actual p          52.579   20.684\n",
      "Actual n          49.579  109.737\n",
      "9982 9982\n",
      "tp: 112, fn: 12, fp: 196, tn: 121\n",
      "10102 10102\n",
      "tp: 87, fn: 60, fp: 68, tn: 226\n",
      "10078 10078\n",
      "tp: 105, fn: 32, fp: 84, tn: 220\n",
      "10038 10038\n",
      "tp: 116, fn: 18, fp: 177, tn: 130\n",
      "10048 10048\n",
      "tp: 100, fn: 31, fp: 117, tn: 193\n",
      "10100 10100\n",
      "tp: 103, fn: 43, fp: 92, tn: 203\n",
      "10053 10053\n",
      "tp: 103, fn: 41, fp: 79, tn: 218\n",
      "10074 10074\n",
      "tp: 115, fn: 22, fp: 132, tn: 172\n",
      "10035 10035\n",
      "tp: 101, fn: 43, fp: 106, tn: 191\n",
      "10025 10025\n",
      "tp: 120, fn: 26, fp: 159, tn: 136\n",
      "11145 11145\n",
      "tp: 1, fn: 1, fp: 0, tn: 7\n",
      "Precision: 0.4676638803343599\n",
      "Recall: 0.7636494252873564\n",
      "F1-score: 0.5800818553888131\n",
      "Confusion Matrix:\n",
      "                Predicted p Predicted n\n",
      "Actual p          55.947   17.316\n",
      "Actual n          63.684   95.632\n",
      "15124 10083\n",
      "tp: 139, fn: 13, fp: 219, tn: 70\n",
      "15051 10034\n",
      "tp: 104, fn: 19, fp: 160, tn: 158\n",
      "15061 10041\n",
      "tp: 126, fn: 16, fp: 149, tn: 150\n",
      "15039 10026\n",
      "tp: 124, fn: 8, fp: 195, tn: 114\n",
      "15216 10144\n",
      "tp: 134, fn: 21, fp: 147, tn: 139\n",
      "15160 10107\n",
      "tp: 131, fn: 19, fp: 179, tn: 112\n",
      "15013 10009\n",
      "tp: 125, fn: 16, fp: 205, tn: 95\n",
      "15015 10010\n",
      "tp: 115, fn: 9, fp: 226, tn: 91\n",
      "15018 10012\n",
      "tp: 121, fn: 13, fp: 170, tn: 137\n",
      "15099 10066\n",
      "tp: 114, fn: 23, fp: 144, tn: 160\n",
      "16722 11148\n",
      "tp: 2, fn: 0, fp: 2, tn: 5\n",
      "Precision: 0.40745628505443743\n",
      "Recall: 0.8872126436781609\n",
      "F1-score: 0.5584444946868641\n",
      "Confusion Matrix:\n",
      "                Predicted p Predicted n\n",
      "Actual p          65.000    8.263\n",
      "Actual n          94.526   64.789\n"
     ]
    }
   ],
   "source": [
    "best_p_n_rate = 0.3\n",
    "best_f1 = 0\n",
    "for p_n_rate in [0.3, 0.4, 0.5, 0.6, 0.7, 1, 1.5]:\n",
    "    f1 = print_test_model(*k_cross_validation(classModel, supervised_comments, sub_word_embedding_spell_checked, k=10, step=best_step, epochs=10, balanced_classes=True, p_n_rate=p_n_rate))\n",
    "    if f1 > best_f1:\n",
    "        best_p_n_rate = p_n_rate\n",
    "        best_f1 = f1"
   ]
  },
  {
   "cell_type": "code",
   "execution_count": 12,
   "metadata": {},
   "outputs": [
    {
     "name": "stdout",
     "output_type": "stream",
     "text": [
      "0.7\n"
     ]
    }
   ],
   "source": [
    "print(best_p_n_rate)"
   ]
  },
  {
   "cell_type": "code",
   "execution_count": 11,
   "metadata": {},
   "outputs": [
    {
     "name": "stdout",
     "output_type": "stream",
     "text": [
      "6005 10009\n",
      "tp: 107, fn: 21, fp: 129, tn: 184\n",
      "6054 10090\n",
      "tp: 102, fn: 51, fp: 70, tn: 218\n",
      "6048 10080\n",
      "tp: 79, fn: 65, fp: 69, tn: 228\n",
      "6051 10086\n",
      "tp: 74, fn: 63, fp: 60, tn: 244\n",
      "6024 10041\n",
      "tp: 107, fn: 37, fp: 104, tn: 193\n",
      "6025 10043\n",
      "tp: 127, fn: 13, fp: 167, tn: 134\n",
      "6038 10064\n",
      "tp: 67, fn: 74, fp: 40, tn: 260\n",
      "6015 10026\n",
      "tp: 95, fn: 46, fp: 88, tn: 212\n",
      "6010 10018\n",
      "tp: 64, fn: 62, fp: 34, tn: 281\n",
      "6047 10079\n",
      "tp: 71, fn: 66, fp: 50, tn: 254\n",
      "6686 11144\n",
      "tp: 0, fn: 1, fp: 4, tn: 4\n",
      "Precision: 0.5228337236533958\n",
      "Recall: 0.6415229885057471\n",
      "F1-score: 0.5761290322580644\n",
      "Confusion Matrix:\n",
      "                Predicted p Predicted n\n",
      "Actual p          47.000   26.263\n",
      "Actual n          42.895  116.421\n"
     ]
    },
    {
     "data": {
      "text/plain": [
       "0.5761290322580644"
      ]
     },
     "execution_count": 11,
     "metadata": {},
     "output_type": "execute_result"
    }
   ],
   "source": [
    "print_test_model(*k_cross_validation(classModel, supervised_comments, sub_word_embedding_spell_checked, k=10, step=7, epochs=10, balanced_classes=True, p_n_rate=0.6))"
   ]
  },
  {
   "cell_type": "markdown",
   "metadata": {},
   "source": [
    "Smaller number of epochs"
   ]
  },
  {
   "cell_type": "code",
   "execution_count": 12,
   "metadata": {},
   "outputs": [
    {
     "name": "stdout",
     "output_type": "stream",
     "text": [
      "6048 10081\n",
      "tp: 112, fn: 36, fp: 95, tn: 198\n",
      "6039 10066\n",
      "tp: 94, fn: 39, fp: 99, tn: 209\n",
      "6004 10007\n",
      "tp: 78, fn: 53, fp: 68, tn: 242\n",
      "6042 10071\n",
      "tp: 108, fn: 34, fp: 120, tn: 179\n",
      "6028 10048\n",
      "tp: 68, fn: 74, fp: 50, tn: 249\n",
      "6008 10014\n",
      "tp: 102, fn: 22, fp: 124, tn: 193\n",
      "6059 10099\n",
      "tp: 51, fn: 97, fp: 25, tn: 268\n",
      "6030 10051\n",
      "tp: 104, fn: 32, fp: 96, tn: 209\n",
      "6039 10065\n",
      "tp: 46, fn: 92, fp: 32, tn: 271\n",
      "6022 10037\n",
      "tp: 109, fn: 37, fp: 84, tn: 211\n",
      "6684 11141\n",
      "tp: 2, fn: 2, fp: 0, tn: 5\n",
      "Precision: 0.5242951409718056\n",
      "Recall: 0.6278735632183907\n",
      "F1-score: 0.5714285714285713\n",
      "Confusion Matrix:\n",
      "                Predicted p Predicted n\n",
      "Actual p          46.000   27.263\n",
      "Actual n          41.737  117.579\n"
     ]
    },
    {
     "data": {
      "text/plain": [
       "0.5714285714285713"
      ]
     },
     "execution_count": 12,
     "metadata": {},
     "output_type": "execute_result"
    }
   ],
   "source": [
    "print_test_model(*k_cross_validation(RNNClassifier(100, 2, device).to(device), supervised_comments, sub_word_embedding_spell_checked, k=10, step=7, epochs=5, balanced_classes=True, p_n_rate=0.6))"
   ]
  },
  {
   "cell_type": "markdown",
   "metadata": {},
   "source": [
    "Bigger dropout"
   ]
  },
  {
   "cell_type": "code",
   "execution_count": 13,
   "metadata": {},
   "outputs": [
    {
     "name": "stdout",
     "output_type": "stream",
     "text": [
      "5970 9951\n",
      "tp: 64, fn: 76, fp: 62, tn: 239\n",
      "5998 9998\n",
      "tp: 77, fn: 65, fp: 56, tn: 243\n",
      "6023 10039\n",
      "tp: 100, fn: 37, fp: 74, tn: 230\n",
      "6090 10150\n",
      "tp: 101, fn: 52, fp: 82, tn: 206\n",
      "6010 10018\n",
      "tp: 82, fn: 45, fp: 88, tn: 226\n",
      "6051 10085\n",
      "tp: 110, fn: 25, fp: 128, tn: 178\n",
      "6048 10081\n",
      "tp: 133, fn: 20, fp: 152, tn: 136\n",
      "6046 10077\n",
      "tp: 54, fn: 84, fp: 35, tn: 268\n",
      "6032 10054\n",
      "tp: 88, fn: 45, fp: 56, tn: 252\n",
      "6048 10081\n",
      "tp: 108, fn: 24, fp: 128, tn: 181\n",
      "6687 11146\n",
      "tp: 2, fn: 0, fp: 2, tn: 5\n",
      "Precision: 0.5157126823793491\n",
      "Recall: 0.6602011494252873\n",
      "F1-score: 0.579080025204789\n",
      "Confusion Matrix:\n",
      "                Predicted p Predicted n\n",
      "Actual p          48.368   24.895\n",
      "Actual n          45.421  113.895\n"
     ]
    },
    {
     "data": {
      "text/plain": [
       "0.579080025204789"
      ]
     },
     "execution_count": 13,
     "metadata": {},
     "output_type": "execute_result"
    }
   ],
   "source": [
    "print_test_model(*k_cross_validation(RNNClassifier(100, 2, device, dropout_p=0.3).to(device), supervised_comments, sub_word_embedding_spell_checked, k=10, step=7, epochs=10, balanced_classes=True, p_n_rate=0.6))"
   ]
  },
  {
   "cell_type": "markdown",
   "metadata": {},
   "source": [
    "Finding the best embedding"
   ]
  },
  {
   "cell_type": "markdown",
   "metadata": {},
   "source": [
    "Sub word embedding"
   ]
  },
  {
   "cell_type": "code",
   "execution_count": 6,
   "metadata": {},
   "outputs": [],
   "source": [
    "sub_word_embedding = get_sub_word_tokenization_embedding()"
   ]
  },
  {
   "cell_type": "code",
   "execution_count": 8,
   "metadata": {},
   "outputs": [
    {
     "name": "stdout",
     "output_type": "stream",
     "text": [
      "6037 10063\n"
     ]
    },
    {
     "name": "stderr",
     "output_type": "stream",
     "text": [
      "C:\\Users\\nikip\\AppData\\Local\\Temp\\ipykernel_632\\1113155533.py:14: UserWarning: Creating a tensor from a list of numpy.ndarrays is extremely slow. Please consider converting the list to a single numpy.ndarray with numpy.array() before converting to a tensor. (Triggered internally at C:\\cb\\pytorch_1000000000000\\work\\torch\\csrc\\utils\\tensor_new.cpp:264.)\n",
      "  seq = torch.transpose(torch.tensor(seq, dtype=torch.float), 0, 1).to(self.device)\n"
     ]
    },
    {
     "name": "stdout",
     "output_type": "stream",
     "text": [
      "tp: 94, fn: 39, fp: 89, tn: 219\n",
      "6012 10020\n",
      "tp: 131, fn: 19, fp: 157, tn: 134\n",
      "6022 10037\n",
      "tp: 51, fn: 77, fp: 15, tn: 298\n",
      "6009 10015\n",
      "tp: 114, fn: 28, fp: 106, tn: 193\n",
      "6027 10046\n",
      "tp: 94, fn: 38, fp: 74, tn: 235\n",
      "6062 10104\n",
      "tp: 37, fn: 104, fp: 19, tn: 281\n",
      "6027 10046\n",
      "tp: 40, fn: 93, fp: 22, tn: 286\n",
      "6025 10043\n",
      "tp: 106, fn: 33, fp: 135, tn: 167\n",
      "6051 10085\n",
      "tp: 72, fn: 70, fp: 54, tn: 245\n",
      "6046 10077\n",
      "tp: 89, fn: 58, fp: 79, tn: 215\n",
      "6686 11144\n",
      "tp: 2, fn: 3, fp: 0, tn: 4\n",
      "Precision: 0.5253164556962024\n",
      "Recall: 0.5962643678160919\n",
      "F1-score: 0.5585464333781964\n",
      "Confusion Matrix:\n",
      "                Predicted p Predicted n\n",
      "Actual p          43.684   29.579\n",
      "Actual n          39.474  119.842\n"
     ]
    },
    {
     "data": {
      "text/plain": [
       "0.5585464333781964"
      ]
     },
     "execution_count": 8,
     "metadata": {},
     "output_type": "execute_result"
    }
   ],
   "source": [
    "print_test_model(*k_cross_validation(RNNClassifier(100, 2, device, dropout_p=0.3).to(device),\n",
    "                                    supervised_comments,\n",
    "                                    sub_word_embedding,\n",
    "                                    k=10,\n",
    "                                    step=7,\n",
    "                                    epochs=10,\n",
    "                                    balanced_classes=True,\n",
    "                                    p_n_rate=0.6))"
   ]
  },
  {
   "cell_type": "markdown",
   "metadata": {},
   "source": [
    "Noise dampening embedding"
   ]
  },
  {
   "cell_type": "code",
   "execution_count": 9,
   "metadata": {},
   "outputs": [],
   "source": [
    "noise_dampening_embedding = get_noise_dampening_embedding(input_size, device)"
   ]
  },
  {
   "cell_type": "code",
   "execution_count": 10,
   "metadata": {},
   "outputs": [
    {
     "name": "stdout",
     "output_type": "stream",
     "text": [
      "6030 10050\n",
      "tp: 80, fn: 46, fp: 68, tn: 247\n",
      "5968 9948\n",
      "tp: 77, fn: 85, fp: 31, tn: 248\n",
      "6115 10192\n",
      "tp: 0, fn: 146, fp: 0, tn: 295\n",
      "6010 10018\n",
      "tp: 106, fn: 33, fp: 132, tn: 170\n",
      "6001 10003\n",
      "tp: 65, fn: 68, fp: 28, tn: 280\n",
      "6043 10073\n",
      "tp: 98, fn: 41, fp: 109, tn: 193\n",
      "6062 10104\n",
      "tp: 67, fn: 72, fp: 31, tn: 270\n",
      "6025 10043\n",
      "tp: 81, fn: 63, fp: 30, tn: 267\n",
      "6033 10055\n",
      "tp: 48, fn: 63, fp: 20, tn: 309\n",
      "6025 10042\n",
      "tp: 97, fn: 55, fp: 71, tn: 217\n",
      "6691 11152\n",
      "tp: 0, fn: 1, fp: 1, tn: 7\n",
      "Precision: 0.5798387096774194\n",
      "Recall: 0.5165229885057471\n",
      "F1-score: 0.5463525835866262\n",
      "Confusion Matrix:\n",
      "                Predicted p Predicted n\n",
      "Actual p          37.842   35.421\n",
      "Actual n          27.421  131.737\n"
     ]
    },
    {
     "data": {
      "text/plain": [
       "0.5463525835866262"
      ]
     },
     "execution_count": 10,
     "metadata": {},
     "output_type": "execute_result"
    }
   ],
   "source": [
    "print_test_model(*k_cross_validation(RNNClassifier(100, 2, device, dropout_p=0.3).to(device),\n",
    "                                    supervised_comments,\n",
    "                                    noise_dampening_embedding,\n",
    "                                    k=10,\n",
    "                                    step=7,\n",
    "                                    epochs=10,\n",
    "                                    balanced_classes=True,\n",
    "                                    p_n_rate=0.6))"
   ]
  },
  {
   "cell_type": "markdown",
   "metadata": {},
   "source": [
    "Fast text embedding"
   ]
  },
  {
   "cell_type": "code",
   "execution_count": 11,
   "metadata": {},
   "outputs": [],
   "source": [
    "fast_text_embedding = get_fast_text_embedding()"
   ]
  },
  {
   "cell_type": "code",
   "execution_count": 12,
   "metadata": {},
   "outputs": [
    {
     "name": "stdout",
     "output_type": "stream",
     "text": [
      "6018 10030\n",
      "tp: 114, fn: 30, fp: 63, tn: 234\n",
      "6007 10012\n",
      "tp: 105, fn: 27, fp: 65, tn: 244\n",
      "5994 9990\n",
      "tp: 106, fn: 44, fp: 27, tn: 264\n",
      "6065 10109\n",
      "tp: 102, fn: 36, fp: 61, tn: 242\n",
      "6065 10109\n",
      "tp: 106, fn: 39, fp: 50, tn: 246\n",
      "6022 10037\n",
      "tp: 103, fn: 38, fp: 41, tn: 259\n",
      "6035 10059\n",
      "tp: 82, fn: 47, fp: 30, tn: 282\n",
      "6037 10062\n",
      "tp: 91, fn: 45, fp: 34, tn: 271\n",
      "6018 10031\n",
      "tp: 124, fn: 17, fp: 69, tn: 230\n",
      "6057 10096\n",
      "tp: 97, fn: 35, fp: 43, tn: 264\n",
      "6687 11145\n",
      "tp: 4, fn: 0, fp: 2, tn: 3\n",
      "Precision: 0.6807109940750493\n",
      "Recall: 0.742816091954023\n",
      "F1-score: 0.7104087942287873\n",
      "Confusion Matrix:\n",
      "                Predicted p Predicted n\n",
      "Actual p          54.421   18.842\n",
      "Actual n          25.526  133.632\n"
     ]
    },
    {
     "data": {
      "text/plain": [
       "0.7104087942287873"
      ]
     },
     "execution_count": 12,
     "metadata": {},
     "output_type": "execute_result"
    }
   ],
   "source": [
    "print_test_model(*k_cross_validation(RNNClassifier(100, 2, device, dropout_p=0.3).to(device),\n",
    "                                    supervised_comments,\n",
    "                                    fast_text_embedding,\n",
    "                                    k=10,\n",
    "                                    step=7,\n",
    "                                    epochs=10,\n",
    "                                    balanced_classes=True,\n",
    "                                    p_n_rate=0.6))"
   ]
  }
 ],
 "metadata": {
  "kernelspec": {
   "display_name": "tii",
   "language": "python",
   "name": "python3"
  },
  "language_info": {
   "codemirror_mode": {
    "name": "ipython",
    "version": 3
   },
   "file_extension": ".py",
   "mimetype": "text/x-python",
   "name": "python",
   "nbconvert_exporter": "python",
   "pygments_lexer": "ipython3",
   "version": "3.11.5"
  }
 },
 "nbformat": 4,
 "nbformat_minor": 2
}
