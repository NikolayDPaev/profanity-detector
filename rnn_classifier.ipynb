{
 "cells": [
  {
   "cell_type": "code",
   "execution_count": 1,
   "metadata": {},
   "outputs": [],
   "source": [
    "import torch\n",
    "import torch.nn as nn\n",
    "import numpy as np\n",
    "from preprocessing import cyrillize\n",
    "\n",
    "from get_embeddings import get_noise_dampening_embedding, get_sub_word_tokenization_embedding\n",
    "\n",
    "import json\n",
    "import random\n",
    "from math import floor"
   ]
  },
  {
   "cell_type": "code",
   "execution_count": 2,
   "metadata": {},
   "outputs": [
    {
     "name": "stdout",
     "output_type": "stream",
     "text": [
      "Saving dictionary...\n",
      "Saved dictionary...\n"
     ]
    }
   ],
   "source": [
    "import json\n",
    "from symspell import SymSpell\n",
    "from preprocessing import preprocess\n",
    "\n",
    "with open('data/unsupervised_comments.json', 'r', encoding=\"utf-8\") as f:\n",
    "    unsupervised_comments = json.load(f)\n",
    "\n",
    "ss = SymSpell(max_dictionary_edit_distance=2)\n",
    "for comment in unsupervised_comments:\n",
    "    for token in preprocess(comment):\n",
    "        ss._create_dictionary_entry(token, 1)\n",
    "\n",
    "ss.save_complete_model_as_json('data/symspell_model_unsupervised.json')"
   ]
  },
  {
   "cell_type": "markdown",
   "metadata": {},
   "source": [
    "# RNN classifier\n",
    "Comment is marked as profane by classifying all prefixes of the comment. <br>\n",
    "Training is done on prefixes before profanity, prefixes ending with profanity, or whole sentences with no profanity. "
   ]
  },
  {
   "cell_type": "code",
   "execution_count": 3,
   "metadata": {},
   "outputs": [],
   "source": [
    "with open('data/blitz_comments.json', 'r', encoding=\"utf-8\") as f:\n",
    "    supervised_comments = [{\n",
    "        'comment': cyrillize(d['comment']),\n",
    "        'label': d['label'],\n",
    "        'examples': [cyrillize(e) for e in d['examples']] if 'examples' in d else None\n",
    "    } for d in json.load(f) if 'label' in d]"
   ]
  },
  {
   "cell_type": "code",
   "execution_count": 4,
   "metadata": {},
   "outputs": [],
   "source": [
    "class RNNClassifier(torch.nn.Module):\n",
    "    def __init__(self, hidden_size, classesCount, device, learnableEmbedding=False, vocab_size=0, dropout_p=0.1, batch_size=32):\n",
    "        super(RNNClassifier, self).__init__()\n",
    "        self.batch_size = batch_size\n",
    "        self.device = device\n",
    "        self.hidden_size = hidden_size\n",
    "        self.learnableEmbedding = learnableEmbedding\n",
    "        if self.learnableEmbedding:\n",
    "            self.embed = torch.nn.Embedding(vocab_size, hidden_size)\n",
    "        self.dropout = nn.Dropout(dropout_p)\n",
    "        self.gruCell = nn.GRUCell(hidden_size, hidden_size)\n",
    "        self.feedForward = torch.nn.Linear(hidden_size, hidden_size)\n",
    "        self.classProjection = torch.nn.Linear(hidden_size, classesCount)\n",
    "\n",
    "    def forward(self, seq):\n",
    "        batch_size = len(seq)\n",
    "        if self.learnableEmbedding:\n",
    "            seq = torch.stack([self.embed(s.to(self.device)) for s in seq])\n",
    "        seq = torch.transpose(torch.tensor(seq, dtype=torch.float), 0, 1).to(self.device)\n",
    "        h = torch.zeros(batch_size, self.hidden_size, device = self.device)\n",
    "        for t in seq:\n",
    "            h = self.gruCell(t, h)\n",
    "        h = self.feedForward(self.dropout(h))\n",
    "        z = self.classProjection(torch.nn.functional.relu(h))\n",
    "        return z\n",
    "\n",
    "    def classify(self, seq):\n",
    "        self.eval()\n",
    "        with torch.no_grad():\n",
    "            h = torch.zeros(self.hidden_size, device = self.device)\n",
    "            if self.learnableEmbedding:\n",
    "                seq = self.embed(seq.to(self.device))\n",
    "            seq = torch.tensor(seq, dtype=torch.float).to(self.device)\n",
    "            for t in seq:\n",
    "                h = self.gruCell(t, h)\n",
    "                h = self.feedForward(self.dropout(h))\n",
    "                z = self.classProjection(torch.nn.functional.relu(h))\n",
    "                if torch.argmax(z).item() == 1:\n",
    "                    return True\n",
    "            h = self.feedForward(self.dropout(h))\n",
    "            z = self.classProjection(torch.nn.functional.relu(h))\n",
    "            if torch.argmax(z).item() == 1:\n",
    "                return True\n",
    "        return False\n",
    "\n",
    "    def reset_parameters(self):\n",
    "        if self.learnableEmbedding:\n",
    "            self.embed.reset_parameters()\n",
    "        self.gruCell.reset_parameters()\n",
    "        self.feedForward.reset_parameters()\n",
    "        self.classProjection.reset_parameters()\n",
    "\n",
    "    def groupByLength(self, X, idx):\n",
    "        from collections import defaultdict\n",
    "\n",
    "        grouped_dict = defaultdict(lambda: [])\n",
    "        for id in idx:\n",
    "            length = len(X[id])\n",
    "            grouped_dict[length].append(id)\n",
    "        return grouped_dict\n",
    "\n",
    "    def fit(self, X, Y, epochs=5):\n",
    "        ''' X - embeddings of sentences.\n",
    "            All profane sentences must have their profanity at the end.\n",
    "            Y - classification of the sentences\n",
    "        '''\n",
    "        self.reset_parameters()\n",
    "        self.train()\n",
    "\n",
    "        optimizer = torch.optim.Adam(self.parameters(), lr=0.01, weight_decay=0.0002)\n",
    "        idx = np.arange(len(X), dtype='int32')\n",
    "        Y = np.array(Y)\n",
    "        for _ in range(epochs):\n",
    "            groups = list(self.groupByLength(X, idx).values())\n",
    "            random.shuffle(groups)\n",
    "            batches = [(\n",
    "                        [X[i] for i in group[b:min(b+self.batch_size, len(group))]],\n",
    "                        [Y[i] for i in group[b:min(b+self.batch_size, len(group))]]\n",
    "                    ) for group in groups\n",
    "                      for b in range(0, len(group), self.batch_size)]\n",
    "            random.shuffle(batches)\n",
    "            for x, y in batches:\n",
    "                batch = x\n",
    "                target = torch.tensor(y, dtype = torch.long, device = self.device)\n",
    "                Z = self.forward(batch)\n",
    "                H = torch.nn.functional.cross_entropy(Z,target)\n",
    "\n",
    "                optimizer.zero_grad()\n",
    "                H.backward()\n",
    "                optimizer.step()\n",
    "        self.eval()"
   ]
  },
  {
   "cell_type": "code",
   "execution_count": 5,
   "metadata": {},
   "outputs": [],
   "source": [
    "def gamma(model, embedded_s):\n",
    "    return model.classify(embedded_s)\n",
    "\n",
    "def test_model(model, embedding, testing_set):\n",
    "    tp, fn, fp, tn = 0, 0, 0, 0\n",
    "\n",
    "    for comment in testing_set:\n",
    "        embedded_s = embedding(comment['comment'])\n",
    "        if len(embedded_s) == 0:\n",
    "            continue\n",
    "        if gamma(model, embedded_s):\n",
    "            if comment['label'] == 'p':\n",
    "                tp += 1\n",
    "            else:\n",
    "                fp += 1\n",
    "        else:\n",
    "            if comment['label'] == 'p':\n",
    "                fn += 1\n",
    "            else:\n",
    "                tn += 1\n",
    "    return tp, fn, fp, tn\n",
    "\n",
    "def print_test_model(tp, fn, fp, tn):\n",
    "    precision = tp/(tp + fp)\n",
    "    recall = tp/(tp + fn)\n",
    "    Fscore = (2.0 * precision * recall) / (precision + recall)\n",
    "    print('Precision: '+str(precision))\n",
    "    print('Recall: '+str(recall))\n",
    "    print('F1-score: '+str(Fscore))\n",
    "    print('Confusion Matrix:')\n",
    "    print('{:15} {:>8} {:>8}'.format('', 'Predicted p', 'Predicted n'))\n",
    "    print('{:15} {:>8.3f} {:>8.3f}'.format('Actual p', tp, fn))\n",
    "    print('{:15} {:>8.3f} {:>8.3f}'.format('Actual n', fp, tn))\n",
    "    return Fscore\n",
    "\n",
    "def generate_sub_comments(comment: str, profanities):\n",
    "    result = []\n",
    "    first_profanity_index = len(comment)\n",
    "    for profanity in profanities:\n",
    "        index = comment.find(profanity)\n",
    "        if index < first_profanity_index:\n",
    "            first_profanity_index = index\n",
    "        if index == -1:\n",
    "            print(comment, profanity)\n",
    "            assert(index != -1)\n",
    "        result.append(comment[:index + len(profanity)])\n",
    "\n",
    "    return comment[:first_profanity_index], result\n",
    "\n",
    "def generate_sub_comments_without_profanity(comment: str, skip=3):\n",
    "    result = []\n",
    "    for i in range(skip, len(comment), skip):\n",
    "        result.append(comment[:i])\n",
    "    return result\n",
    "\n",
    "def k_cross_validation(model, supervised_comments, embedding, k, epochs, balanced_classes: bool = False, p_n_rate = 1.0,):\n",
    "    n = len(supervised_comments)\n",
    "    m = n//k\n",
    "    t = n//m + n%m\n",
    "\n",
    "    tps, fns, fps, tns = 0, 0, 0, 0\n",
    "\n",
    "    for i in range(0, n, m):\n",
    "        test_records = supervised_comments[i:i+m]\n",
    "        train_records = supervised_comments[0:i] + supervised_comments[i+m:n]\n",
    "        training_set = []\n",
    "        for comment in train_records:\n",
    "            if comment['label'] == 'p':\n",
    "                before_profanity, profanities = generate_sub_comments(comment['comment'], comment['examples'])\n",
    "                if len(before_profanity) > 0:\n",
    "                    training_set.append((embedding(before_profanity), 0))\n",
    "                training_set += [(embedding(c), 1) for c in profanities]\n",
    "            else:\n",
    "                training_set += [(embedding(c), 0) for c in generate_sub_comments_without_profanity(comment['comment'])]\n",
    "\n",
    "        positive_train = [a for a in training_set if a[1] == 1]\n",
    "        negative_train = [a for a in training_set if a[1] == 0]\n",
    "\n",
    "        train_sampled_data = positive_train + negative_train\n",
    "        if balanced_classes:\n",
    "            train_sampled_data = negative_train\n",
    "            train_sampled_data += random.choices(positive_train, k=floor(p_n_rate*len(positive_train)))\n",
    "\n",
    "        train_x, train_y = [a[0] for a in train_sampled_data], [a[1] for a in train_sampled_data]\n",
    "        model.fit(train_x, train_y, epochs)\n",
    "\n",
    "        tp, fn, fp, tn = test_model(model, embedding, test_records)\n",
    "        print(f\"tp: {tp}, fn: {fn}, fp: {fp}, tn: {tn}\")\n",
    "        tps += tp\n",
    "        fns += fn\n",
    "        fps += fp\n",
    "        tns += tn\n",
    "\n",
    "    return tps/t, fns/t, fps/t, tns/t"
   ]
  },
  {
   "cell_type": "markdown",
   "metadata": {},
   "source": [
    "## Experiments"
   ]
  },
  {
   "cell_type": "code",
   "execution_count": 6,
   "metadata": {},
   "outputs": [],
   "source": [
    "batch_size = 32\n",
    "input_size = 100\n",
    "device = 'cuda'"
   ]
  },
  {
   "cell_type": "markdown",
   "metadata": {},
   "source": [
    "Sub words with learnable embedding"
   ]
  },
  {
   "cell_type": "code",
   "execution_count": 7,
   "metadata": {},
   "outputs": [
    {
     "name": "stderr",
     "output_type": "stream",
     "text": [
      "C:\\Users\\nikip\\AppData\\Local\\Temp\\ipykernel_11060\\1967897269.py:19: UserWarning: To copy construct from a tensor, it is recommended to use sourceTensor.clone().detach() or sourceTensor.clone().detach().requires_grad_(True), rather than torch.tensor(sourceTensor).\n",
      "  seq = torch.transpose(torch.tensor(seq, dtype=torch.float), 0, 1).to(self.device)\n",
      "C:\\Users\\nikip\\AppData\\Local\\Temp\\ipykernel_11060\\1967897269.py:33: UserWarning: To copy construct from a tensor, it is recommended to use sourceTensor.clone().detach() or sourceTensor.clone().detach().requires_grad_(True), rather than torch.tensor(sourceTensor).\n",
      "  seq = torch.tensor(seq, dtype=torch.float).to(self.device)\n"
     ]
    },
    {
     "name": "stdout",
     "output_type": "stream",
     "text": [
      "tp: 0, fn: 139, fp: 0, tn: 269\n"
     ]
    },
    {
     "ename": "",
     "evalue": "",
     "output_type": "error",
     "traceback": [
      "\u001b[1;31mThe Kernel crashed while executing code in the the current cell or a previous cell. Please review the code in the cell(s) to identify a possible cause of the failure. Click <a href='https://aka.ms/vscodeJupyterKernelCrash'>here</a> for more info. View Jupyter <a href='command:jupyter.viewOutput'>log</a> for further details."
     ]
    }
   ],
   "source": [
    "from tokenizers import Tokenizer\n",
    "\n",
    "tokenizer = Tokenizer.from_file(\"data/tokenizer_comments.json\")\n",
    "sub_word_encoding = lambda x: torch.tensor(tokenizer.encode(x.lower()).ids, dtype=torch.long)\n",
    "\n",
    "classModel = RNNClassifier(100, 2, device, learnableEmbedding=True, vocab_size=tokenizer.get_vocab_size()).to(device)\n",
    "print_test_model(*k_cross_validation(classModel, supervised_comments, sub_word_encoding, k=10, epochs=10, balanced_classes=False))"
   ]
  },
  {
   "cell_type": "markdown",
   "metadata": {},
   "source": [
    "Sub words with context embedding"
   ]
  },
  {
   "cell_type": "code",
   "execution_count": null,
   "metadata": {},
   "outputs": [],
   "source": [
    "sub_word_embedding = get_sub_word_tokenization_embedding(input_size)"
   ]
  },
  {
   "cell_type": "code",
   "execution_count": null,
   "metadata": {},
   "outputs": [],
   "source": [
    "classModel = RNNClassifier(100, 2, device).to(device)"
   ]
  },
  {
   "cell_type": "code",
   "execution_count": null,
   "metadata": {},
   "outputs": [
    {
     "name": "stdout",
     "output_type": "stream",
     "text": [
      "tp: 127, fn: 10, fp: 235, tn: 31\n",
      "tp: 101, fn: 0, fp: 301, tn: 1\n",
      "tp: 110, fn: 0, fp: 293, tn: 0\n",
      "tp: 103, fn: 0, fp: 300, tn: 0\n",
      "tp: 83, fn: 3, fp: 310, tn: 7\n",
      "tp: 90, fn: 0, fp: 313, tn: 0\n",
      "tp: 93, fn: 1, fp: 306, tn: 3\n",
      "tp: 173, fn: 0, fp: 230, tn: 0\n",
      "tp: 258, fn: 0, fp: 145, tn: 0\n",
      "tp: 46, fn: 129, fp: 38, tn: 190\n",
      "tp: 3, fn: 0, fp: 2, tn: 0\n",
      "Precision: 0.3243169398907104\n",
      "Recall: 0.8924812030075189\n",
      "F1-score: 0.47575150300601204\n",
      "Confusion Matrix:\n",
      "                Predicted p Predicted n\n",
      "Actual p          79.133    9.533\n",
      "Actual n         164.867   15.467\n"
     ]
    },
    {
     "data": {
      "text/plain": [
       "0.47575150300601204"
      ]
     },
     "execution_count": 150,
     "metadata": {},
     "output_type": "execute_result"
    }
   ],
   "source": [
    "print_test_model(*k_cross_validation(classModel, supervised_comments, sub_word_embedding, k=10, epochs=10, balanced_classes=False))"
   ]
  },
  {
   "cell_type": "markdown",
   "metadata": {},
   "source": [
    "Sub words with context embedding after spell checking"
   ]
  },
  {
   "cell_type": "code",
   "execution_count": null,
   "metadata": {},
   "outputs": [
    {
     "name": "stdout",
     "output_type": "stream",
     "text": [
      "Loading dictionary...\n",
      "Processing dictionary...\n",
      "Copied 165258 words to master dictionary...\n",
      "Copied 1118365 hashes to master dictionary...\n"
     ]
    }
   ],
   "source": [
    "sub_word_embedding_spell_checked = get_sub_word_tokenization_embedding(input_size, spell_corection=True)"
   ]
  },
  {
   "cell_type": "code",
   "execution_count": null,
   "metadata": {},
   "outputs": [
    {
     "name": "stdout",
     "output_type": "stream",
     "text": [
      "tp: 139, fn: 0, fp: 269, tn: 0\n",
      "tp: 101, fn: 0, fp: 307, tn: 0\n"
     ]
    },
    {
     "ename": "",
     "evalue": "",
     "output_type": "error",
     "traceback": [
      "\u001b[1;31mThe Kernel crashed while executing code in the the current cell or a previous cell. Please review the code in the cell(s) to identify a possible cause of the failure. Click <a href='https://aka.ms/vscodeJupyterKernelCrash'>here</a> for more info. View Jupyter <a href='command:jupyter.viewOutput'>log</a> for further details."
     ]
    }
   ],
   "source": [
    "print_test_model(*k_cross_validation(classModel, supervised_comments, sub_word_embedding_spell_checked, k=10, epochs=10, balanced_classes=False))"
   ]
  },
  {
   "cell_type": "markdown",
   "metadata": {},
   "source": [
    "Noise dampening embedding"
   ]
  },
  {
   "cell_type": "code",
   "execution_count": null,
   "metadata": {},
   "outputs": [],
   "source": [
    "noise_dampening_embedding = get_noise_dampening_embedding(input_size, device)"
   ]
  },
  {
   "cell_type": "code",
   "execution_count": null,
   "metadata": {},
   "outputs": [
    {
     "name": "stdout",
     "output_type": "stream",
     "text": [
      "tp: 90, fn: 47, fp: 104, tn: 162\n",
      "tp: 90, fn: 11, fp: 272, tn: 30\n",
      "tp: 95, fn: 15, fp: 181, tn: 112\n",
      "tp: 103, fn: 0, fp: 285, tn: 14\n",
      "tp: 76, fn: 10, fp: 231, tn: 86\n",
      "tp: 83, fn: 7, fp: 246, tn: 67\n",
      "tp: 92, fn: 2, fp: 304, tn: 5\n",
      "tp: 152, fn: 21, fp: 167, tn: 61\n",
      "tp: 258, fn: 0, fp: 141, tn: 4\n",
      "tp: 175, fn: 0, fp: 228, tn: 0\n",
      "tp: 3, fn: 0, fp: 2, tn: 0\n",
      "Precision: 0.3602723505032564\n",
      "Recall: 0.9150375939849624\n",
      "F1-score: 0.5169923534409516\n",
      "Confusion Matrix:\n",
      "                Predicted p Predicted n\n",
      "Actual p          81.133    7.533\n",
      "Actual n         144.067   36.067\n"
     ]
    },
    {
     "data": {
      "text/plain": [
       "0.5169923534409516"
      ]
     },
     "execution_count": 152,
     "metadata": {},
     "output_type": "execute_result"
    }
   ],
   "source": [
    "print_test_model(*k_cross_validation(classModel, supervised_comments, noise_dampening_embedding, epochs=10, k=10, balanced_classes=False))"
   ]
  }
 ],
 "metadata": {
  "kernelspec": {
   "display_name": "tii",
   "language": "python",
   "name": "python3"
  },
  "language_info": {
   "codemirror_mode": {
    "name": "ipython",
    "version": 3
   },
   "file_extension": ".py",
   "mimetype": "text/x-python",
   "name": "python",
   "nbconvert_exporter": "python",
   "pygments_lexer": "ipython3",
   "version": "3.11.5"
  }
 },
 "nbformat": 4,
 "nbformat_minor": 2
}
