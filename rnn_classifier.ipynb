{
 "cells": [
  {
   "cell_type": "code",
   "execution_count": 1,
   "metadata": {},
   "outputs": [],
   "source": [
    "import torch\n",
    "import torch.nn as nn\n",
    "import numpy as np\n",
    "from preprocessing import cyrillize\n",
    "\n",
    "from get_embeddings import get_noise_dampening_embedding, get_sub_word_tokenization_embedding\n",
    "\n",
    "import json\n",
    "import random\n",
    "from math import floor"
   ]
  },
  {
   "cell_type": "markdown",
   "metadata": {},
   "source": [
    "# RNN classifier\n",
    "Comment is marked as profane by classifying all prefixes of the comment. <br>\n",
    "Training is done on prefixes ending with profanity, or whole sentences with no profanity. "
   ]
  },
  {
   "cell_type": "code",
   "execution_count": 2,
   "metadata": {},
   "outputs": [],
   "source": [
    "with open('data/blitz_comments.json', 'r', encoding=\"utf-8\") as f:\n",
    "    supervised_comments = [{\n",
    "        'comment': cyrillize(d['comment']),\n",
    "        'label': d['label'],\n",
    "        'examples': [cyrillize(e) for e in d['examples']] if 'examples' in d else None\n",
    "    } for d in json.load(f) if 'label' in d]"
   ]
  },
  {
   "cell_type": "code",
   "execution_count": 46,
   "metadata": {},
   "outputs": [],
   "source": [
    "class RNNClassifier(torch.nn.Module):\n",
    "    def __init__(self, input_size, hidden_size, classesCount, device, dropout_p=0.1, batch_size=32):\n",
    "        super(RNNClassifier, self).__init__()\n",
    "        self.batch_size = batch_size\n",
    "        self.device = device\n",
    "        self.hidden_size = hidden_size\n",
    "        # self.lstmCell = nn.LSTMCell(input_size, hidden_size)\n",
    "        # self.gruCell = nn.GRUCell(input_size, hidden_size)\n",
    "        self.rnnCell = nn.RNNCell(input_size, hidden_size)\n",
    "        self.dropout = nn.Dropout(dropout_p)\n",
    "        self.classProjection = torch.nn.Linear(hidden_size, classesCount)\n",
    "\n",
    "    def forward(self, seq):\n",
    "        batch_size = len(seq)\n",
    "        seq = torch.transpose(torch.tensor(seq), 0, 1)\n",
    "        h = torch.zeros(batch_size, self.hidden_size, device = self.device)\n",
    "        # c = torch.zeros(batch_size, self.hidden_size, device = self.device)\n",
    "        seq = torch.tensor(seq, dtype=torch.float).to(self.device)\n",
    "        for t in seq:\n",
    "            # h, c = self.lstmCell(t, (h, c))\n",
    "            h = self.rnnCell(t, h)\n",
    "        z = self.classProjection(self.dropout(h))\n",
    "        return z\n",
    "\n",
    "    def classify(self, seq, k=3):\n",
    "        self.eval()\n",
    "        with torch.no_grad():\n",
    "            h = torch.zeros(self.hidden_size, device = self.device)\n",
    "            # c = torch.zeros(self.hidden_size, device = self.device)\n",
    "            seq = torch.tensor(seq, dtype=torch.float).to(self.device)\n",
    "            for i, t in enumerate(seq):\n",
    "                # h, c = self.lstmCell(t, (h, c))\n",
    "                h = self.rnnCell(t, h)\n",
    "                if i >= k:\n",
    "                    z = self.classProjection(self.dropout(h))\n",
    "                    if torch.argmax(z).item() == 1:\n",
    "                        return True\n",
    "            z = self.classProjection(self.dropout(h))\n",
    "            if torch.argmax(z).item() == 1:\n",
    "                return True\n",
    "        return False\n",
    "\n",
    "    def groupByLength(self, X, idx):\n",
    "        from collections import defaultdict\n",
    "\n",
    "        grouped_dict = defaultdict(lambda: [])\n",
    "        for id in idx:\n",
    "            length = len(X[id])\n",
    "            grouped_dict[length].append(id)\n",
    "        return grouped_dict\n",
    "\n",
    "    def fit(self, X, Y, epochs=5):\n",
    "        ''' X - embeddings of sentences.\n",
    "            All profane sentences must have their profanity at the end.\n",
    "            Y - classification of the sentences\n",
    "        '''\n",
    "        self.rnnCell.reset_parameters()\n",
    "        self.classProjection.reset_parameters()\n",
    "        self.train()\n",
    "\n",
    "        optimizer = torch.optim.Adam(self.parameters(), lr=0.01, weight_decay=0.0002)\n",
    "        idx = np.arange(len(X), dtype='int32')\n",
    "        Y = np.array(Y)\n",
    "        for _ in range(epochs):\n",
    "            groups = list(self.groupByLength(X, idx).values())\n",
    "            random.shuffle(groups)\n",
    "            batches = [(\n",
    "                        [X[i] for i in group[b:min(b+self.batch_size, len(group))]],\n",
    "                        [Y[i] for i in group[b:min(b+self.batch_size, len(group))]]\n",
    "                    ) for group in groups\n",
    "                      for b in range(0, len(group), self.batch_size)]\n",
    "            random.shuffle(batches)\n",
    "            for x, y in batches:\n",
    "                batch = x\n",
    "                target = torch.tensor(y, dtype = torch.long, device = self.device)\n",
    "                Z = self.forward(batch)\n",
    "                H = torch.nn.functional.cross_entropy(Z,target)\n",
    "\n",
    "                optimizer.zero_grad()\n",
    "                H.backward()\n",
    "                optimizer.step()\n",
    "        self.eval()"
   ]
  },
  {
   "cell_type": "code",
   "execution_count": 4,
   "metadata": {},
   "outputs": [],
   "source": [
    "def gamma(model, embedded_s):\n",
    "    return model.classify(embedded_s)\n",
    "\n",
    "def test_model(model, embedding, testing_set):\n",
    "    tp, fn, fp, tn = 0, 0, 0, 0\n",
    "\n",
    "    for comment in testing_set:\n",
    "        embedded_s = embedding(comment['comment'])\n",
    "        if len(embedded_s) == 0:\n",
    "            continue\n",
    "        if gamma(model, embedded_s):\n",
    "            if comment['label'] == 'p':\n",
    "                tp += 1\n",
    "            else:\n",
    "                fp += 1\n",
    "        else:\n",
    "            if comment['label'] == 'p':\n",
    "                fn += 1\n",
    "            else:\n",
    "                tn += 1\n",
    "    return tp, fn, fp, tn\n",
    "\n",
    "def print_test_model(tp, fn, fp, tn):\n",
    "    precision = tp/(tp + fp)\n",
    "    recall = tp/(tp + fn)\n",
    "    Fscore = (2.0 * precision * recall) / (precision + recall)\n",
    "    print('Precision: '+str(precision))\n",
    "    print('Recall: '+str(recall))\n",
    "    print('F1-score: '+str(Fscore))\n",
    "    print('Confusion Matrix:')\n",
    "    print('{:15} {:>8} {:>8}'.format('', 'Predicted p', 'Predicted n'))\n",
    "    print('{:15} {:>8.3f} {:>8.3f}'.format('Actual p', tp, fn))\n",
    "    print('{:15} {:>8.3f} {:>8.3f}'.format('Actual n', fp, tn))\n",
    "    return Fscore\n",
    "\n",
    "def generate_sub_comments(comment: str, profanities):\n",
    "    result = []\n",
    "    for profanity in profanities:\n",
    "        index = comment.find(profanity)\n",
    "        if index == -1:\n",
    "            print(comment, profanity)\n",
    "        assert(index != -1)\n",
    "        result.append(comment[:index + len(profanity)])\n",
    "\n",
    "    return result\n",
    "\n",
    "def k_cross_validation(model, supervised_comments, embedding, k, balanced_classes: bool = False, p_n_rate = 1.0):\n",
    "    n = len(supervised_comments)\n",
    "    m = n//k\n",
    "    t = n//m + n%m\n",
    "\n",
    "    tps, fns, fps, tns = 0, 0, 0, 0\n",
    "\n",
    "    for i in range(0, n, m):\n",
    "        test_records = supervised_comments[i:i+m]\n",
    "        train_records = supervised_comments[0:i] + supervised_comments[i+m:n]\n",
    "        training_set = []\n",
    "        for comment in train_records:\n",
    "            if comment['label'] == 'p':\n",
    "                training_set += [(embedding(c), 1) for c in generate_sub_comments(comment['comment'], comment['examples'])]\n",
    "            else:\n",
    "                training_set.append((embedding(comment['comment']), 0))\n",
    "\n",
    "        positive_train = [a for a in training_set if a[1] == 1]\n",
    "        negative_train = [a for a in training_set if a[1] == 0]\n",
    "\n",
    "        train_sampled_data = positive_train + negative_train\n",
    "        if balanced_classes:\n",
    "            train_sampled_data = negative_train\n",
    "            train_sampled_data += random.choices(positive_train, k=floor(p_n_rate*len(positive_train)))\n",
    "\n",
    "        train_x, train_y = [a[0] for a in train_sampled_data], [a[1] for a in train_sampled_data]\n",
    "        model.fit(train_x, train_y)\n",
    "\n",
    "        tp, fn, fp, tn = test_model(model, embedding, test_records)\n",
    "        tps += tp\n",
    "        fns += fn\n",
    "        fps += fp\n",
    "        tns += tn\n",
    "\n",
    "    return tps/t, fns/t, fps/t, tns/t"
   ]
  },
  {
   "cell_type": "code",
   "execution_count": 5,
   "metadata": {},
   "outputs": [],
   "source": [
    "batch_size = 32\n",
    "input_size = 100\n",
    "device = 'cuda'\n",
    "\n",
    "sub_word_embedding = get_sub_word_tokenization_embedding(input_size)\n",
    "noise_dampening_embedding = get_noise_dampening_embedding(input_size, device)"
   ]
  },
  {
   "cell_type": "code",
   "execution_count": 48,
   "metadata": {},
   "outputs": [],
   "source": [
    "classModel = RNNClassifier(100, 100, 2, device).to(device)"
   ]
  },
  {
   "cell_type": "markdown",
   "metadata": {},
   "source": [
    "lstm"
   ]
  },
  {
   "cell_type": "code",
   "execution_count": 55,
   "metadata": {},
   "outputs": [
    {
     "name": "stdout",
     "output_type": "stream",
     "text": [
      "1619 2238\n"
     ]
    },
    {
     "name": "stderr",
     "output_type": "stream",
     "text": [
      "C:\\Users\\nikip\\AppData\\Local\\Temp\\ipykernel_13260\\422326467.py:16: UserWarning: To copy construct from a tensor, it is recommended to use sourceTensor.clone().detach() or sourceTensor.clone().detach().requires_grad_(True), rather than torch.tensor(sourceTensor).\n",
      "  seq = torch.tensor(seq, dtype=torch.float).to(self.device)\n"
     ]
    },
    {
     "name": "stdout",
     "output_type": "stream",
     "text": [
      "1665 2204\n",
      "1653 2218\n",
      "1652 2206\n",
      "1667 2197\n",
      "1676 2202\n",
      "1667 2193\n",
      "1635 2221\n",
      "1539 2269\n",
      "1341 2356\n",
      "1786 2476\n",
      "Precision: 0.3492852703542573\n",
      "Recall: 0.9714779602420052\n",
      "F1-score: 0.5138285714285715\n",
      "Confusion Matrix:\n",
      "                Predicted p Predicted n\n",
      "Actual p          74.933    2.200\n",
      "Actual n         139.600   25.600\n"
     ]
    },
    {
     "data": {
      "text/plain": [
       "0.5138285714285715"
      ]
     },
     "execution_count": 55,
     "metadata": {},
     "output_type": "execute_result"
    }
   ],
   "source": [
    "print_test_model(*k_cross_validation(classModel, supervised_comments, sub_word_embedding, k=10, balanced_classes=False))"
   ]
  },
  {
   "cell_type": "markdown",
   "metadata": {},
   "source": [
    "gru"
   ]
  },
  {
   "cell_type": "code",
   "execution_count": 63,
   "metadata": {},
   "outputs": [
    {
     "name": "stderr",
     "output_type": "stream",
     "text": [
      "C:\\Users\\nikip\\AppData\\Local\\Temp\\ipykernel_13260\\2103806460.py:17: UserWarning: To copy construct from a tensor, it is recommended to use sourceTensor.clone().detach() or sourceTensor.clone().detach().requires_grad_(True), rather than torch.tensor(sourceTensor).\n",
      "  seq = torch.tensor(seq, dtype=torch.float).to(self.device)\n"
     ]
    },
    {
     "name": "stdout",
     "output_type": "stream",
     "text": [
      "Precision: 0.34713076199435555\n",
      "Recall: 0.9567847882454624\n",
      "F1-score: 0.5094339622641508\n",
      "Confusion Matrix:\n",
      "                Predicted p Predicted n\n",
      "Actual p          73.800    3.333\n",
      "Actual n         138.800   26.400\n"
     ]
    },
    {
     "data": {
      "text/plain": [
       "0.5094339622641508"
      ]
     },
     "execution_count": 63,
     "metadata": {},
     "output_type": "execute_result"
    }
   ],
   "source": [
    "print_test_model(*k_cross_validation(classModel, supervised_comments, sub_word_embedding, k=10, balanced_classes=False))"
   ]
  },
  {
   "cell_type": "markdown",
   "metadata": {},
   "source": [
    "rnn"
   ]
  },
  {
   "cell_type": "code",
   "execution_count": 66,
   "metadata": {},
   "outputs": [
    {
     "name": "stderr",
     "output_type": "stream",
     "text": [
      "C:\\Users\\nikip\\AppData\\Local\\Temp\\ipykernel_13260\\2302209186.py:18: UserWarning: To copy construct from a tensor, it is recommended to use sourceTensor.clone().detach() or sourceTensor.clone().detach().requires_grad_(True), rather than torch.tensor(sourceTensor).\n",
      "  seq = torch.tensor(seq, dtype=torch.float).to(self.device)\n"
     ]
    },
    {
     "name": "stdout",
     "output_type": "stream",
     "text": [
      "Precision: 0.3400770712909441\n",
      "Recall: 0.9152981849611064\n",
      "F1-score: 0.49590259892296884\n",
      "Confusion Matrix:\n",
      "                Predicted p Predicted n\n",
      "Actual p          70.600    6.533\n",
      "Actual n         137.000   28.200\n"
     ]
    },
    {
     "data": {
      "text/plain": [
       "0.49590259892296884"
      ]
     },
     "execution_count": 66,
     "metadata": {},
     "output_type": "execute_result"
    }
   ],
   "source": [
    "print_test_model(*k_cross_validation(classModel, supervised_comments, sub_word_embedding, k=10, balanced_classes=False))"
   ]
  },
  {
   "cell_type": "markdown",
   "metadata": {},
   "source": [
    "rnn without dropout on test"
   ]
  },
  {
   "cell_type": "code",
   "execution_count": 7,
   "metadata": {},
   "outputs": [
    {
     "name": "stdout",
     "output_type": "stream",
     "text": [
      "Precision: 0.3374681933842239\n",
      "Recall: 0.9170267934312878\n",
      "F1-score: 0.4933736340385956\n",
      "Confusion Matrix:\n",
      "                Predicted p Predicted n\n",
      "Actual p          70.733    6.400\n",
      "Actual n         138.867   26.333\n"
     ]
    },
    {
     "data": {
      "text/plain": [
       "0.4933736340385956"
      ]
     },
     "execution_count": 7,
     "metadata": {},
     "output_type": "execute_result"
    }
   ],
   "source": [
    "print_test_model(*k_cross_validation(classModel, supervised_comments, sub_word_embedding, k=10, balanced_classes=False))"
   ]
  },
  {
   "cell_type": "code",
   "execution_count": 57,
   "metadata": {},
   "outputs": [
    {
     "name": "stderr",
     "output_type": "stream",
     "text": [
      "C:\\Users\\nikip\\AppData\\Local\\Temp\\ipykernel_14024\\1282954259.py:18: UserWarning: To copy construct from a tensor, it is recommended to use sourceTensor.clone().detach() or sourceTensor.clone().detach().requires_grad_(True), rather than torch.tensor(sourceTensor).\n",
      "  seq = torch.tensor(seq, dtype=torch.float).to(self.device)\n"
     ]
    },
    {
     "name": "stdout",
     "output_type": "stream",
     "text": [
      "Precision: 0.33688186813186816\n",
      "Recall: 0.8478824546240277\n",
      "F1-score: 0.4821823543868273\n",
      "Confusion Matrix:\n",
      "                Predicted p Predicted n\n",
      "Actual p          65.400   11.733\n",
      "Actual n         128.733   36.467\n"
     ]
    },
    {
     "data": {
      "text/plain": [
       "0.4821823543868273"
      ]
     },
     "execution_count": 57,
     "metadata": {},
     "output_type": "execute_result"
    }
   ],
   "source": [
    "classModel = RNNClassifier(100, 100, 2, device).to(device)\n",
    "print_test_model(*k_cross_validation(classModel, supervised_comments, sub_word_embedding, k=10, balanced_classes=False))"
   ]
  },
  {
   "cell_type": "markdown",
   "metadata": {},
   "source": [
    "Shuffled groups"
   ]
  },
  {
   "cell_type": "code",
   "execution_count": null,
   "metadata": {},
   "outputs": [],
   "source": [
    "print_test_model(*k_cross_validation(classModel, supervised_comments, sub_word_embedding, k=10, balanced_classes=False))"
   ]
  },
  {
   "cell_type": "code",
   "execution_count": 49,
   "metadata": {},
   "outputs": [
    {
     "name": "stderr",
     "output_type": "stream",
     "text": [
      "C:\\Users\\nikip\\AppData\\Local\\Temp\\ipykernel_14024\\1282954259.py:18: UserWarning: To copy construct from a tensor, it is recommended to use sourceTensor.clone().detach() or sourceTensor.clone().detach().requires_grad_(True), rather than torch.tensor(sourceTensor).\n",
      "  seq = torch.tensor(seq, dtype=torch.float).to(self.device)\n"
     ]
    }
   ],
   "source": [
    "train_records = supervised_comments\n",
    "training_set = []\n",
    "for comment in train_records:\n",
    "    if comment['label'] == 'p':\n",
    "        training_set += [(sub_word_embedding(c), 1) for c in generate_sub_comments(comment['comment'], comment['examples'])]\n",
    "    else:\n",
    "        training_set.append((sub_word_embedding(comment['comment']), 0))\n",
    "\n",
    "train_x, train_y = [a[0] for a in training_set], [a[1] for a in training_set]\n",
    "classModel.fit(train_x, train_y)"
   ]
  },
  {
   "cell_type": "code",
   "execution_count": 45,
   "metadata": {},
   "outputs": [
    {
     "name": "stderr",
     "output_type": "stream",
     "text": [
      "C:\\Users\\nikip\\AppData\\Local\\Temp\\ipykernel_14024\\3738660126.py:18: UserWarning: To copy construct from a tensor, it is recommended to use sourceTensor.clone().detach() or sourceTensor.clone().detach().requires_grad_(True), rather than torch.tensor(sourceTensor).\n",
      "  seq = torch.tensor(seq, dtype=torch.float).to(self.device)\n"
     ]
    },
    {
     "data": {
      "text/plain": [
       "tensor([[-1.3101,  1.4221]], device='cuda:0', grad_fn=<AddmmBackward0>)"
      ]
     },
     "execution_count": 45,
     "metadata": {},
     "output_type": "execute_result"
    }
   ],
   "source": [
    "classModel.eval()\n",
    "classModel.forward([sub_word_embedding('Дърти мангали проститутки')])"
   ]
  },
  {
   "cell_type": "code",
   "execution_count": 56,
   "metadata": {},
   "outputs": [
    {
     "data": {
      "text/plain": [
       "True"
      ]
     },
     "execution_count": 56,
     "metadata": {},
     "output_type": "execute_result"
    }
   ],
   "source": [
    "classModel.classify(sub_word_embedding('Какво става мила, много си хубава днес, да ти еба майката.'))"
   ]
  },
  {
   "cell_type": "code",
   "execution_count": null,
   "metadata": {},
   "outputs": [],
   "source": []
  },
  {
   "cell_type": "markdown",
   "metadata": {},
   "source": [
    "Noise dampening embedding"
   ]
  },
  {
   "cell_type": "code",
   "execution_count": null,
   "metadata": {},
   "outputs": [],
   "source": [
    "print_test_model(*k_cross_validation(classModel, supervised_comments, noise_dampening_embedding, k=10, balanced_classes=False))"
   ]
  }
 ],
 "metadata": {
  "kernelspec": {
   "display_name": "tii",
   "language": "python",
   "name": "python3"
  },
  "language_info": {
   "codemirror_mode": {
    "name": "ipython",
    "version": 3
   },
   "file_extension": ".py",
   "mimetype": "text/x-python",
   "name": "python",
   "nbconvert_exporter": "python",
   "pygments_lexer": "ipython3",
   "version": "3.11.5"
  }
 },
 "nbformat": 4,
 "nbformat_minor": 2
}
