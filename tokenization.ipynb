{
 "cells": [
  {
   "cell_type": "code",
   "execution_count": 1,
   "metadata": {},
   "outputs": [],
   "source": [
    "from tokenizers import (\n",
    "    models,\n",
    "    normalizers,\n",
    "    pre_tokenizers,\n",
    "    trainers,\n",
    "    Tokenizer,\n",
    "    processors\n",
    ")\n",
    "\n",
    "import json"
   ]
  },
  {
   "cell_type": "code",
   "execution_count": 2,
   "metadata": {},
   "outputs": [],
   "source": [
    "tokenizer = Tokenizer(models.WordPiece(unk_token=\"[UNK]\"))\n",
    "tokenizer.normalizer = normalizers.Sequence(\n",
    "    [normalizers.NFD(), normalizers.Lowercase()]\n",
    ")\n",
    "tokenizer.pre_tokenizer = pre_tokenizers.WhitespaceSplit()"
   ]
  },
  {
   "cell_type": "code",
   "execution_count": 3,
   "metadata": {},
   "outputs": [],
   "source": [
    "special_tokens = [\"[UNK]\", \"[PAD]\", \"[STR]\", \"[END]\"]\n",
    "trainer = trainers.WordPieceTrainer(vocab_size=30000, special_tokens=special_tokens, continuing_subword_prefix = '')"
   ]
  },
  {
   "cell_type": "code",
   "execution_count": 4,
   "metadata": {},
   "outputs": [],
   "source": [
    "with open('data/unsupervised_comments.json', 'r', encoding=\"utf-8\") as f:\n",
    "    sentences = json.load(f)\n",
    "\n",
    "with open('data/bgjargon.json', 'r', encoding=\"utf-8\") as f:\n",
    "    bgjargon = json.load(f)\n",
    "\n",
    "for v in bgjargon.values():\n",
    "    for meaning in v['meanings']:\n",
    "        if len(meaning['example']) > 0:\n",
    "            sentences.append(meaning['example'])"
   ]
  },
  {
   "cell_type": "code",
   "execution_count": 5,
   "metadata": {},
   "outputs": [],
   "source": [
    "tokenizer.train_from_iterator(iter(sentences), trainer=trainer)"
   ]
  },
  {
   "cell_type": "code",
   "execution_count": 6,
   "metadata": {},
   "outputs": [
    {
     "name": "stdout",
     "output_type": "stream",
     "text": [
      "2 3\n"
     ]
    }
   ],
   "source": [
    "str_token_id = tokenizer.token_to_id(\"[STR]\")\n",
    "end_token_id = tokenizer.token_to_id(\"[END]\")\n",
    "print(str_token_id, end_token_id)"
   ]
  },
  {
   "cell_type": "code",
   "execution_count": 7,
   "metadata": {},
   "outputs": [],
   "source": [
    "tokenizer.post_processor = processors.TemplateProcessing(\n",
    "    single=f\"[STR]:0 $A:0 [END]:0\",\n",
    "    special_tokens=[(\"[STR]\", str_token_id), (\"[END]\", end_token_id)],\n",
    ")"
   ]
  },
  {
   "cell_type": "code",
   "execution_count": 8,
   "metadata": {},
   "outputs": [
    {
     "name": "stdout",
     "output_type": "stream",
     "text": [
      "['[STR]', 'кво', 'става', 'бе', 'животно', '[END]']\n"
     ]
    }
   ],
   "source": [
    "encoding = tokenizer.encode(\"Кво става бе животно\")\n",
    "print(encoding.tokens)"
   ]
  },
  {
   "cell_type": "code",
   "execution_count": 9,
   "metadata": {},
   "outputs": [],
   "source": [
    "tokenizer.save(\"data/tokenizer_blitz_bgjargon.json\")"
   ]
  },
  {
   "cell_type": "code",
   "execution_count": 10,
   "metadata": {},
   "outputs": [
    {
     "name": "stdout",
     "output_type": "stream",
     "text": [
      "['[STR]', 'глупак', '[END]']\n"
     ]
    }
   ],
   "source": [
    "new_tokenizer = Tokenizer.from_file(\"data/tokenizer_blitz_bgjargon.json\")\n",
    "encoding = new_tokenizer.encode(\"Глупак\")\n",
    "print(encoding.tokens)"
   ]
  }
 ],
 "metadata": {
  "kernelspec": {
   "display_name": "tii",
   "language": "python",
   "name": "python3"
  },
  "language_info": {
   "codemirror_mode": {
    "name": "ipython",
    "version": 3
   },
   "file_extension": ".py",
   "mimetype": "text/x-python",
   "name": "python",
   "nbconvert_exporter": "python",
   "pygments_lexer": "ipython3",
   "version": "3.11.5"
  }
 },
 "nbformat": 4,
 "nbformat_minor": 2
}
