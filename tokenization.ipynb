{
 "cells": [
  {
   "cell_type": "code",
   "execution_count": 11,
   "metadata": {},
   "outputs": [],
   "source": [
    "from tokenizers import (\n",
    "    models,\n",
    "    normalizers,\n",
    "    pre_tokenizers,\n",
    "    trainers,\n",
    "    Tokenizer,\n",
    "    processors\n",
    ")\n",
    "\n",
    "import json"
   ]
  },
  {
   "cell_type": "code",
   "execution_count": 12,
   "metadata": {},
   "outputs": [],
   "source": [
    "tokenizer = Tokenizer(models.WordPiece(unk_token=\"[unk]\"))\n",
    "tokenizer.normalizer = normalizers.Sequence(\n",
    "    [normalizers.NFD(), normalizers.Lowercase()]\n",
    ")\n",
    "tokenizer.pre_tokenizer = pre_tokenizers.WhitespaceSplit()"
   ]
  },
  {
   "cell_type": "code",
   "execution_count": 13,
   "metadata": {},
   "outputs": [],
   "source": [
    "special_tokens = [\"[unk]\", \"[pad]\", \"[str]\", \"[end]\"]\n",
    "trainer = trainers.WordPieceTrainer(vocab_size=30000, special_tokens=special_tokens, continuing_subword_prefix = '')"
   ]
  },
  {
   "cell_type": "code",
   "execution_count": 14,
   "metadata": {},
   "outputs": [],
   "source": [
    "with open('data/unsupervised_comments.json', 'r', encoding=\"utf-8\") as f:\n",
    "    sentences = json.load(f)\n",
    "\n",
    "# with open('data/blitz_articles.json', 'r', encoding=\"utf-8\") as f:\n",
    "#     sentences += [a['name'] + ' ' + a['content'] for a in json.load(f)]\n",
    "\n",
    "# with open('data/dnes_bg_articles.json', 'r', encoding=\"utf-8\") as f:\n",
    "#     sentences += [a['name'] + ' ' + a['content'] for a in json.load(f)]\n",
    "\n",
    "# with open('data/pik_articles.json', 'r', encoding=\"utf-8\") as f:\n",
    "#     sentences += [a['name'] + ' ' + a['content'] for a in json.load(f)]\n",
    "\n",
    "# with open('data/bgjargon.json', 'r', encoding=\"utf-8\") as f:\n",
    "#     bgjargon = json.load(f)\n",
    "\n",
    "# for v in bgjargon.values():\n",
    "#     for meaning in v['meanings']:\n",
    "#         if len(meaning['example']) > 0:\n",
    "#             sentences.append(meaning['example'])"
   ]
  },
  {
   "cell_type": "code",
   "execution_count": 15,
   "metadata": {},
   "outputs": [],
   "source": [
    "tokenizer.train_from_iterator(iter(sentences), trainer=trainer)"
   ]
  },
  {
   "cell_type": "code",
   "execution_count": 17,
   "metadata": {},
   "outputs": [],
   "source": [
    "tokenizer.save(\"data/tokenizer_comments.json\")"
   ]
  },
  {
   "cell_type": "code",
   "execution_count": 16,
   "metadata": {},
   "outputs": [
    {
     "name": "stdout",
     "output_type": "stream",
     "text": [
      "['кво', 'става', 'бе', 'животно']\n"
     ]
    }
   ],
   "source": [
    "encoding = tokenizer.encode(\"Кво става бе животно\")\n",
    "print(encoding.tokens)"
   ]
  },
  {
   "cell_type": "code",
   "execution_count": 6,
   "metadata": {},
   "outputs": [
    {
     "name": "stdout",
     "output_type": "stream",
     "text": [
      "2 3\n"
     ]
    }
   ],
   "source": [
    "str_token_id = tokenizer.token_to_id(\"[str]\")\n",
    "end_token_id = tokenizer.token_to_id(\"[end]\")\n",
    "print(str_token_id, end_token_id)"
   ]
  },
  {
   "cell_type": "code",
   "execution_count": 7,
   "metadata": {},
   "outputs": [],
   "source": [
    "tokenizer.post_processor = processors.TemplateProcessing(\n",
    "    single=f\"[str]:0 $A:0 [end]:0\",\n",
    "    special_tokens=[(\"[str]\", str_token_id), (\"[end]\", end_token_id)],\n",
    ")"
   ]
  },
  {
   "cell_type": "code",
   "execution_count": 8,
   "metadata": {},
   "outputs": [
    {
     "name": "stdout",
     "output_type": "stream",
     "text": [
      "['[STR]', 'кво', 'става', 'бе', 'животно', '[END]']\n"
     ]
    }
   ],
   "source": [
    "encoding = tokenizer.encode(\"Кво става бе животно\")\n",
    "print(encoding.tokens)"
   ]
  },
  {
   "cell_type": "code",
   "execution_count": 9,
   "metadata": {},
   "outputs": [],
   "source": [
    "tokenizer.save(\"data/tokenizer_comments_bgjargon_articles.json\")"
   ]
  },
  {
   "cell_type": "code",
   "execution_count": 10,
   "metadata": {},
   "outputs": [
    {
     "name": "stdout",
     "output_type": "stream",
     "text": [
      "['[STR]', 'тъ', 'о', 'ак', '[END]']\n"
     ]
    }
   ],
   "source": [
    "new_tokenizer = Tokenizer.from_file(\"data/tokenizer_comments_end_start.json\")\n",
    "encoding = new_tokenizer.encode(\"тъоак\")\n",
    "print(encoding.tokens)"
   ]
  }
 ],
 "metadata": {
  "kernelspec": {
   "display_name": "tii",
   "language": "python",
   "name": "python3"
  },
  "language_info": {
   "codemirror_mode": {
    "name": "ipython",
    "version": 3
   },
   "file_extension": ".py",
   "mimetype": "text/x-python",
   "name": "python",
   "nbconvert_exporter": "python",
   "pygments_lexer": "ipython3",
   "version": "3.11.5"
  }
 },
 "nbformat": 4,
 "nbformat_minor": 2
}
