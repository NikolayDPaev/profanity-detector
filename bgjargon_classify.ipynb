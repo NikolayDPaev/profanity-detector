{
 "cells": [
  {
   "cell_type": "code",
   "execution_count": 14,
   "metadata": {},
   "outputs": [],
   "source": [
    "import json\n",
    "import codecs\n",
    "from distance import levenshteinDistance"
   ]
  },
  {
   "cell_type": "markdown",
   "metadata": {},
   "source": [
    "# Getting initial list of bad words"
   ]
  },
  {
   "cell_type": "markdown",
   "metadata": {},
   "source": [
    "English bad words translated to bulgarian. <br>\n",
    "And from bulgarian to english. <br>"
   ]
  },
  {
   "cell_type": "code",
   "execution_count": 5,
   "metadata": {},
   "outputs": [],
   "source": [
    "with open(\"data/english-bad-words.txt\") as file:\n",
    "    english_original = [line.rstrip() for line in file]\n",
    "\n",
    "with open(\"data/english-bad-words-translated.txt\") as file:\n",
    "    english_translated = [line.rstrip() for line in file]\n",
    "\n",
    "with open(\"data/english-bad-words-translated-back.txt\") as file:\n",
    "    english_translated_back = [line.rstrip() for line in file]"
   ]
  },
  {
   "cell_type": "markdown",
   "metadata": {},
   "source": [
    "We will filter the words that does not translate back to the original word."
   ]
  },
  {
   "cell_type": "code",
   "execution_count": 28,
   "metadata": {},
   "outputs": [],
   "source": [
    "zipped = zip(english_original, english_translated, english_translated_back)\n",
    "stable_translations = set([\n",
    "    translation[1] for translation in zipped\n",
    "        if levenshteinDistance(translation[0], translation[2]) < 3\n",
    "        and levenshteinDistance(translation[0], translation[1]) > 3\n",
    "    ])"
   ]
  },
  {
   "cell_type": "code",
   "execution_count": 32,
   "metadata": {},
   "outputs": [],
   "source": [
    "json_object = json.dumps(list(stable_translations), indent=4, ensure_ascii=False)\n",
    "with codecs.open(\"data/bad_words_translated.json\", \"w\", \"utf-8\") as outfile:\n",
    "    outfile.write(json_object)"
   ]
  },
  {
   "cell_type": "markdown",
   "metadata": {},
   "source": [
    "# Classifying bad words from BG Jargon"
   ]
  },
  {
   "cell_type": "code",
   "execution_count": 10,
   "metadata": {},
   "outputs": [],
   "source": [
    "with open('data/bgjargon.json', 'r', encoding=\"utf-8\") as f:\n",
    "    dictionary = json.load(f)\n",
    "\n",
    "with open('data/bgjargon_words.json', 'r', encoding=\"utf-8\") as f:\n",
    "    words = set(json.load(f))\n",
    "\n",
    "with open('data/bad_words_translated.json', 'r', encoding=\"utf-8\") as f:\n",
    "    translated_words = set(json.load(f))"
   ]
  },
  {
   "cell_type": "markdown",
   "metadata": {},
   "source": [
    "Get all words from bg jargon that have tags - some of the translated bad words"
   ]
  },
  {
   "cell_type": "code",
   "execution_count": 32,
   "metadata": {},
   "outputs": [
    {
     "data": {
      "text/plain": [
       "2563"
      ]
     },
     "execution_count": 32,
     "metadata": {},
     "output_type": "execute_result"
    }
   ],
   "source": [
    "dictionary_bad_tags = {}\n",
    "\n",
    "for key, value in dictionary.items():\n",
    "    if key in translated_words or any(map(lambda x: x in translated_words, value['tags'])):\n",
    "        dictionary_bad_tags[key] = value\n",
    "\n",
    "len(dictionary_bad_tags)"
   ]
  },
  {
   "cell_type": "markdown",
   "metadata": {},
   "source": [
    "Second iteration - all words that have tags which are already marked as bad"
   ]
  },
  {
   "cell_type": "code",
   "execution_count": 33,
   "metadata": {},
   "outputs": [
    {
     "data": {
      "text/plain": [
       "3653"
      ]
     },
     "execution_count": 33,
     "metadata": {},
     "output_type": "execute_result"
    }
   ],
   "source": [
    "dictionary_bad_tags_deep = dictionary_bad_tags.copy()\n",
    "\n",
    "for key, value in dictionary.items():\n",
    "    if any(map(lambda x: x in dictionary_bad_tags.keys(), value['tags'])):\n",
    "        dictionary_bad_tags_deep[key] = value\n",
    "\n",
    "len(dictionary_bad_tags_deep)"
   ]
  },
  {
   "cell_type": "code",
   "execution_count": 34,
   "metadata": {},
   "outputs": [],
   "source": [
    "json_object = json.dumps(dictionary_bad_tags_deep, indent=4, ensure_ascii=False)\n",
    "with codecs.open(\"data/bgjargon_bad_tags.json\", \"w\", \"utf-8\") as outfile:\n",
    "    outfile.write(json_object)"
   ]
  },
  {
   "cell_type": "markdown",
   "metadata": {},
   "source": [
    "Same operation as before but equals is replaced with levenshtein distance < 2"
   ]
  },
  {
   "cell_type": "code",
   "execution_count": 36,
   "metadata": {},
   "outputs": [
    {
     "data": {
      "text/plain": [
       "3108"
      ]
     },
     "execution_count": 36,
     "metadata": {},
     "output_type": "execute_result"
    }
   ],
   "source": [
    "dictionary_bad_tags_ld = {}\n",
    "\n",
    "for key, value in dictionary.items():\n",
    "    for word in translated_words:\n",
    "        if levenshteinDistance(word, key) < 2 or any(map(lambda x: levenshteinDistance(x, word) < 2, value['tags'])):\n",
    "            dictionary_bad_tags_ld[key] = value\n",
    "            break\n",
    "\n",
    "len(dictionary_bad_tags_ld)"
   ]
  },
  {
   "cell_type": "code",
   "execution_count": 37,
   "metadata": {},
   "outputs": [
    {
     "data": {
      "text/plain": [
       "4261"
      ]
     },
     "execution_count": 37,
     "metadata": {},
     "output_type": "execute_result"
    }
   ],
   "source": [
    "dictionary_bad_tags_deep_ld = dictionary_bad_tags_ld.copy()\n",
    "\n",
    "for key, value in dictionary.items():\n",
    "    if any(map(lambda x: x in dictionary_bad_tags_ld.keys(), value['tags'])):\n",
    "        dictionary_bad_tags_deep_ld[key] = value\n",
    "\n",
    "len(dictionary_bad_tags_deep_ld)"
   ]
  },
  {
   "cell_type": "code",
   "execution_count": 38,
   "metadata": {},
   "outputs": [],
   "source": [
    "json_object = json.dumps(dictionary_bad_tags_deep_ld, indent=4, ensure_ascii=False)\n",
    "with codecs.open(\"data/bgjargon_bad_tags_ld.json\", \"w\", \"utf-8\") as outfile:\n",
    "    outfile.write(json_object)"
   ]
  }
 ],
 "metadata": {
  "kernelspec": {
   "display_name": "tii",
   "language": "python",
   "name": "python3"
  },
  "language_info": {
   "codemirror_mode": {
    "name": "ipython",
    "version": 3
   },
   "file_extension": ".py",
   "mimetype": "text/x-python",
   "name": "python",
   "nbconvert_exporter": "python",
   "pygments_lexer": "ipython3",
   "version": "3.11.5"
  }
 },
 "nbformat": 4,
 "nbformat_minor": 2
}
