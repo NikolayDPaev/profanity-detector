{
 "cells": [
  {
   "cell_type": "code",
   "execution_count": 7,
   "metadata": {},
   "outputs": [],
   "source": [
    "from gensim.models import FastText\n",
    "import json\n",
    "from preprocessing import cyrillize, pattern\n",
    "from nltk.tokenize import regexp_tokenize"
   ]
  },
  {
   "cell_type": "code",
   "execution_count": 8,
   "metadata": {},
   "outputs": [],
   "source": [
    "with open('data/unsupervised_comments.json', 'r', encoding=\"utf-8\") as f:\n",
    "    unsupervised_comments = [regexp_tokenize(comment.lower(), pattern) for comment in json.load(f)]"
   ]
  },
  {
   "cell_type": "code",
   "execution_count": 9,
   "metadata": {},
   "outputs": [],
   "source": [
    "model = FastText(unsupervised_comments, vector_size=100, window=5, min_count=3, workers=6, epochs=10, sg=1)"
   ]
  },
  {
   "cell_type": "code",
   "execution_count": 10,
   "metadata": {},
   "outputs": [],
   "source": [
    "model.save('data/fast_text_model.pth')"
   ]
  },
  {
   "cell_type": "code",
   "execution_count": 14,
   "metadata": {},
   "outputs": [],
   "source": [
    "model = FastText.load('data/fast_text_model.pth')"
   ]
  },
  {
   "cell_type": "code",
   "execution_count": 15,
   "metadata": {},
   "outputs": [
    {
     "data": {
      "text/plain": [
       "array([ 0.04527121,  0.05487128, -0.00659107, -0.02684664,  0.06664149,\n",
       "       -0.0143099 ,  0.07617144, -0.08354378, -0.0759006 ,  0.07898437,\n",
       "        0.0516713 , -0.03353205,  0.04436551,  0.0424285 ,  0.00086751,\n",
       "       -0.02473415,  0.05043303,  0.00853147,  0.07849921,  0.02305469,\n",
       "        0.00424754, -0.05341203, -0.00302931, -0.03303954, -0.00071044,\n",
       "       -0.02920787, -0.12704855, -0.05349872,  0.03261746,  0.08212975,\n",
       "        0.04786871, -0.05769986,  0.08304079, -0.09095214, -0.05704417,\n",
       "        0.04969293,  0.08796681,  0.03126191,  0.00059363,  0.02234165,\n",
       "       -0.00545688, -0.09894311, -0.02330239,  0.1536554 , -0.03800016,\n",
       "       -0.01058739,  0.01418018,  0.00741693,  0.00190955, -0.0095954 ,\n",
       "        0.02383409, -0.1245005 , -0.02949523,  0.00956806,  0.05327059,\n",
       "       -0.00553593, -0.05553491, -0.03443153,  0.02873558,  0.06094799,\n",
       "       -0.0344217 ,  0.0616322 ,  0.00111058, -0.01860987, -0.00476639,\n",
       "       -0.03379728, -0.01255525, -0.00644068, -0.02714814,  0.03783293,\n",
       "       -0.11549247, -0.06067507,  0.0614651 ,  0.0058273 ,  0.0284462 ,\n",
       "       -0.0879506 , -0.04339513,  0.02823954,  0.02165137, -0.04275788,\n",
       "       -0.01020744, -0.07982969,  0.02088936, -0.00257422, -0.14370514,\n",
       "        0.0107531 ,  0.02890971, -0.03632385, -0.03834706, -0.09710706,\n",
       "        0.1247113 , -0.02231472,  0.07775395,  0.07392244,  0.07568847,\n",
       "        0.04051561,  0.12653483, -0.00051573,  0.02175231,  0.04071327],\n",
       "      dtype=float32)"
      ]
     },
     "execution_count": 15,
     "metadata": {},
     "output_type": "execute_result"
    }
   ],
   "source": [
    "ftext = model.wv\n",
    "ftext['яйгклдсаф']"
   ]
  },
  {
   "cell_type": "code",
   "execution_count": 29,
   "metadata": {},
   "outputs": [
    {
     "data": {
      "text/plain": [
       "[('дъртото', 0.8831455707550049),\n",
       " ('дъртофела', 0.8125614523887634),\n",
       " ('дърт', 0.7548538446426392),\n",
       " ('късо', 0.749228298664093),\n",
       " ('зъбато', 0.7419525384902954),\n",
       " ('цлабоъмното', 0.718451738357544),\n",
       " ('дъртака', 0.7158278226852417),\n",
       " ('късокрачко', 0.715613842010498),\n",
       " ('джъдже', 0.7112888693809509),\n",
       " ('дъртa', 0.7100797891616821)]"
      ]
     },
     "execution_count": 29,
     "metadata": {},
     "output_type": "execute_result"
    }
   ],
   "source": [
    "ftext.similar_by_word('дърто')"
   ]
  }
 ],
 "metadata": {
  "kernelspec": {
   "display_name": "tii",
   "language": "python",
   "name": "python3"
  },
  "language_info": {
   "codemirror_mode": {
    "name": "ipython",
    "version": 3
   },
   "file_extension": ".py",
   "mimetype": "text/x-python",
   "name": "python",
   "nbconvert_exporter": "python",
   "pygments_lexer": "ipython3",
   "version": "3.11.5"
  }
 },
 "nbformat": 4,
 "nbformat_minor": 2
}
